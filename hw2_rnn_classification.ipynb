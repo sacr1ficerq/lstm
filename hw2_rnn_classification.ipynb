{
 "cells": [
  {
   "cell_type": "markdown",
   "id": "b1acf78a",
   "metadata": {
    "id": "b1acf78a"
   },
   "source": [
    "# Глубинное обучение для текстовых данных, ФКН ВШЭ\n",
    "\n",
    "## Домашнее задание 2: Рекуррентные нейронные сети"
   ]
  },
  {
   "cell_type": "markdown",
   "id": "d6f64606",
   "metadata": {},
   "source": [
    "### Оценивание и штрафы"
   ]
  },
  {
   "cell_type": "markdown",
   "id": "18c24eb5",
   "metadata": {},
   "source": [
    "\n",
    "Максимально допустимая оценка за работу — __10 (+3) баллов__. Сдавать задание после указанного срока сдачи нельзя.\n",
    "\n",
    "Задание выполняется самостоятельно. «Похожие» решения считаются плагиатом и все задействованные студенты (в том числе те, у кого списали) не могут получить за него больше 0 баллов. Весь код должен быть написан самостоятельно. Чужим кодом для пользоваться запрещается даже с указанием ссылки на источник. В разумных рамках, конечно. Взять пару очевидных строчек кода для реализации какого-то небольшого функционала можно.\n",
    "\n",
    "Неэффективная реализация кода может негативно отразиться на оценке. Также оценка может быть снижена за плохо читаемый код и плохо оформленные графики. Все ответы должны сопровождаться кодом или комментариями о том, как они были получены.\n",
    "\n",
    "__Мягкий дедлайн: 5.10.25 23:59__   \n",
    "__Жесткий дедлайн: 8.10.25 23:59__\n"
   ]
  },
  {
   "cell_type": "markdown",
   "id": "5442a849",
   "metadata": {},
   "source": [
    "### О задании"
   ]
  },
  {
   "cell_type": "markdown",
   "id": "7f81c1ab",
   "metadata": {},
   "source": [
    "В этом задании вам предстоит самостоятельно реализовать модель LSTM для решения задачи классификации с пересекающимися классами (multi-label classification). Это вид классификации, в которой каждый объект может относиться одновременно к нескольким классам. Такая задача часто возникает при классификации фильмов по жанрам, научных или новостных статей по темам, музыкальных композиций по инструментам и так далее.\n",
    "\n",
    "В нашем случае мы будем работать с датасетом биотехнических новостей и классифицировать их по темам. Этот датасет уже предобработан: текст приведен к нижнему регистру, удалена пунктуация, все слова разделены проблелом."
   ]
  },
  {
   "cell_type": "code",
   "execution_count": 7,
   "id": "d928dbed",
   "metadata": {},
   "outputs": [
    {
     "name": "stdout",
     "output_type": "stream",
     "text": [
      "The autoreload extension is already loaded. To reload it, use:\n",
      "  %reload_ext autoreload\n"
     ]
    }
   ],
   "source": [
    "%load_ext autoreload\n",
    "%autoreload 2"
   ]
  },
  {
   "cell_type": "code",
   "execution_count": 1,
   "id": "af1a5fff",
   "metadata": {
    "colab": {
     "base_uri": "https://localhost:8080/",
     "height": 206
    },
    "id": "af1a5fff",
    "outputId": "891c58cd-6964-4319-ade3-92bb90356f93"
   },
   "outputs": [
    {
     "data": {
      "application/vnd.microsoft.datawrangler.viewer.v0+json": {
       "columns": [
        {
         "name": "index",
         "rawType": "int64",
         "type": "integer"
        },
        {
         "name": "text",
         "rawType": "object",
         "type": "string"
        },
        {
         "name": "labels",
         "rawType": "object",
         "type": "string"
        }
       ],
       "ref": "828dd502-c1de-4a16-b404-a146d514d77a",
       "rows": [
        [
         "0",
         "drive your plow over the bones of the dead by olga tokarczuk i am an incredibly slow reader but the tone and specificity of the world she creates in this book was something i couldnt leave behind until it was done also all we sawby anne michaels fight nightby miriam toews and the summer before the darkby doris lessing id like turned into a netflix show by amia srinivasan one of the most brain shattering books ive ever read her thinking is so electrically rigorous and fearless i double dare them to make this into a netflix show i last bought i rediscovered her poetry lately and i feel like i dont want to read anything else for a while she owns desire and submerged things has the greatest ending by j d salinger the last page always leaves me breathless the intimacy and truth of that final page is so arresting and almost painful to read should be on every college syllabus by anton piatigorsky a fascinating fictional account of the adolescence of dictators it is painstakingly researched and so imaginative he takes on whole histories through a small specific human lens ive re read the most gilead by marilynne robinson it reminds me of the wild depths of kindness humans are capable of it helps me get to sleep when im agitated it is so incredibly gentle complex wise and hopeful it gives me a glimpse into what faith can feel like that holds the recipe to a favorite dish marcella hazans tomato butter onion sauce from essentials of classic italian cooking i discovered it when i was 17 no matter how much i cook ive never found anything that matches the pure magic of what these three simple ingredients do together bonus question if i could live in any library or bookstore in the world it would be",
         "other"
        ],
        [
         "1",
         "in the recently tabled national budget denel has been allocated r3 billion to settle interest payments reuters fourteen current and former employees of denel were paid almost r4 7 million on friday from an attached rmb bank account of thestate owned arms manufacturer the group of employees had the bank account attached and frozen after denel failed to comply with a court order to pay their unpaid or partially paid salaries dating back to may 2020 court documents told of the hardships of not being paid or only partially paid a group of 14 current and former employees of denel were paid almost r4 7 million on friday from an attached rmb bank account of thestate owned arms manufacturer the group of employees had the bank account attached and frozen after denel failed to comply with a court order to pay their unpaid or partially paid salaries dating back to may 2020 the north gauteng high court in pretoria granted the order in january this year denel did not oppose the application and was ordered to pay within 10 days by 3 february because of the breach of its contractual obligations to pay its employees ipeleng motshegoa of ipeleng motshegoa attorneys in pretoria who represented the group says amounts paid out to members of the group ranged from r200 000 to r600 000 and included accumulated interest the r4 7 million was not divided equally because various members of the group were owed different amounts by denel hardships court documents told of the hardships of not being paid or only partially paid some of the denel employees were unable to pay their children s school fees as well as their bond and car payments one former denel employee who was among the group of 14 who received payment from the attached denel bank account told fin24 that she resigned in june last year to access part of her pension money to survive later i had to live on hand outs from friends after depleting my savings the person said another told fin24 that the payment was a huge relief and meant he could support his family again abdul aziz toffie also one of the 14 recipients told fin24 on tuesday that the money he received was for work he had done over a period of 25 months he is still employed by denel it is such a relief i can now hold on to my house and to my insurance and my dignity i was going to lose everything at the end of march although i am ecstatic about getting paid i am still sad for those colleagues who still have not been paid said toffie according to motshegoa his office has been approached by more former and current denel employees who are still trying to get paid while courts orders have been granted against denel for breach of employment contracts with their employees the company is still continuing not to pay its employees their salaries in full or at all said motshegoa our offices are now instructed by 34 numsa member at denel s land systems division to enforce an order granted on 9 november 2021 by the pretoria high court against denel for their breach of employment contracts with their employees we are also taking instructions from 13 former and current denel employees to take denel to court for breach of contract in the recently tabled national budget denel was allocated r3 billion to settle interest payments the jse recently suspended denels bonds after the group failed to make interest payments read our next job is to rebuild denel says gordhan last year denel s interim group ceo william hlakoane told mps the company s balance sheet showed it was technically insolvent with a negative cash flow of around r600 million and that it owed a total of over r600 million in unpaid salaries as well as some r900 million to suppliers the arms manufacturer had been hit hard by state capture with denel awarding the gupta linked company vr laser two contracts that ran into hundreds of millions of rands denel was asked for comment and if any is received this article will be updated we live in a world where facts and fiction get blurred in times of uncertainty you need journalism you cantrust for only r75 per month you have access toa world of in depth analyses investigative journalism top opinions and a range of features journalismstrengthens democracy invest in the future today",
         "other"
        ],
        [
         "2",
         "shares take a break its good for you picture getty metro co uk its tempting to think that the best way to get work done is to go at a breakneck speed multi taskingand cramming as much as possible into your day without a pause for breath if you and rapidly tick off tasks until the end of the day youre being super productive right well perhaps not taking a break is actually an important part of getting stuff done its a way to fully focus by taking a moment of rest between one to do list item and another so you can move on feeling refreshed and ready not all breaks are created equal however rather than coming to a grinding halt and getting distracted by tiktok for 20 minutes in the middle of your working day what you need to do is a productive pause what is a productive pause you may ask well its exactly what it sounds like a pause thats designed to be super effective one thats consciously made and spent fully detached from work heres how embrace the art of productive pausing and make it a standard part of your day take a moment to do nothing dont answer the phone emails or texts immediately happiness expert julia paulette hollenbery tells metro co uk allow yourself a moment to do nothing in the pause scattered thoughts and attention gather you are interrupting your automatic habits and bringing more self awareness this new habit will help you be calm and focused dont ignore your bodys needs ever told yourself youll go and get some water or nip to the toilet only once youve sent an email or finished a report quit that its not doing you any good julia says eat drink rest and go to the toilet when you need to give in to the wise prompts of your body with the fuel of nourishment you will think and function better without the distraction of ignoring the urge to go to the toilet youll be more focused multitasking doesnt work neither does trying to rush through life without pausing for breath picture getty metro co uk when youre stuck step away when stuck on an impossible task instead of hunching over a laptop until it is done forcing yourself to continue take a break recommends julia the break will help you access the innovative instinctual intelligence of your whole body make a cuppa take a shower chat with colleagues go outside a brief change in scenery makes all the difference try stepping outside on your lunch break or just popping outside for five minutes between zoom meetings changing environment from a manmade world of hard materials and straight lines out into nature can free up your thinking helping you to find fresh answers to puzzling problems says julia find pleasure work shouldnt be a horrific slog find moments for pleasure work can be empowering and fun notes julia find something delightful like cream in your coffee or a piece of cake especially when a task is difficult a colleague criticises you or a deadline tightens find pleasure move your body julia suggests stretch dance walk or go to the gym wriggle your face hands or feet this is particularly important if your work involves sitting in a fixed position for hours the body is evolved for movement our ancestors walked for many hours a day and we arent designed to sit still movement frees your fixed pattern of posture enabling you to access not just your head but the physical intelligence of your whole body grab a tea have a chat or pop outside picture getty metro co uk release physical tension take a moment to check in with your body are your shoulders up by your ears are you clenching your jaw shake it out slowly raise your shoulders up do not hold your breath as high as you can squeezing tight julia recommends then in one go release the tension and take some big breaths move wriggle or stretch remove your eyes from the screen and stare into space for a few minutes every hour try stretching legs and arms out as if you are pushing something away this will help you feel energized remember that pausing is good for you and your work let go of that guilt that pops up when you feel like youre not working remind yourself that breaks are essential and make you better at whatever youre doing pausing often helps you reclaim the essence of yourself amongst all the tasks to be done says julia after pausing you return to your work refreshed with renewed concentration you will produce better work creating better dialogue and relationships with colleagues and customers you are not a machine but a sensitive feeling human the way you work best is irregularly allowing pauses is the most productive way you can work",
         "other"
        ],
        [
         "3",
         "reso is currently hiring for two positions product managerand membership manager the product managerensures the progression of product planning and execution throughout the product life cycle including gathering and prioritizing customer requirements aligning with the strategic plan and product vision of engineering and executive staff setting and meeting product development timelines and customer support to ensure satisfaction goals are met the product manager will report to resos ceo and ensure that products support the companys overall strategy and goals the membership manageris responsible for coordinating logistics and details in membership and events as needed to support the organizations strategic plan the membership manager will report directly to the chief operating officer join us in leading real estate technology forward reso careers the reso staff team exemplifies excellence in teamwork we share successes and challenges working together in a fast paced and ever changing environment reso is a fully remote nonprofit trade organization that provides the foundation for streamlined real estate technology through the creation and certification of standards cross platform interoperability workgroup may 11 2021 the group took a deep dive into transaction management taking a step back from what was submitted to the data dictionary workgroup to determine what more the group could do to forward sound proposals based on workflows and data flow diagrams the group is starting to believe that an independent transaction management resource may be needed rather than a payload of property and member data upi registry subgroup may 12 2021 the group received a presentation from mark lesswing the distributed ledger workgroup chair on a upi resolver proof of concept from the presentation a discussion on approaches to scoring ensued followed by a review of the feedback received on the existing api working spec date and category are upi components that will be worked on and discussed at the next meeting uli subgroup may 12 2021 the group continued its work on the uli pilot scoring and defining the proof of concept after confirming support for the methodology and direction outlined in previous meetings uli subgroup members will create a lightweight user interface ui so that pilot participants can check their member data against the pilots matching accuracy there is additional work to do in refining the elevator pitch pilot data agreements and integration with existing membership processes",
         "other"
        ],
        [
         "4",
         "charter buyer club what is the charter buyer club the charter buyer club is our exclusive program that allows you to enjoy an increasing lifetime discount simply by placing orders the idea is simple for each purchase you make you graduate to a higher level of discounting 1st order standard full price or save 20 by subscribing to our email list in the footer of the website 2nd order bronze level get a 10 discount 3rd order silver level get a 15 discount 4th order beyond gold level get a 20 discount for life if you re interested in the program don t wait while the discounts may apply for life acceptance into the program is for a limited time only to become a member all you need to do is register for an accounton our website and place orders our system automatically keeps track of the orders you ve placed and applies the appropriate discount as you shop there are no upfront costs or ongoing fees only savings how do i join and claim my discount participating in the program is easy and it largely depends on what stage you are at as a client if you ve never ordered before you can create your account before placing an order or during the ordering process at checkout and you ll be enrolled in the club and receive discounts on your future orders you ll receive an email notification each time you graduate to the next level if you ve placed orders as a guest before but don t have an account all you need to do is to create an account before you place your next order be sure to register using the same email address and your previous orders will automatically be synced to your account you ll be assigned the correct charter buyer club level within 10 minutes after you register you ll receive an email once the process is complete if you re a current customer with an account simply log in to your account when you shop your discount applies to standard orders and subscription orders your customer level will automatically increase when each qualifying order is shipped when this happens your account will reflect your new pricing and you ll be able to claim it on your next order once you re in the club you ll see the appropriate pricing for your discount applied across products as well as a notification in your account and product pages how long does my membership last for life keep your account for as long as you d like and continue to enjoy ongoing savings on every purchase what s more is the club discount stacks with our referral program so you can unlock even more savings by referring your friends and family ready to join head over to our shop pageand place your first order become a cbd expert subscribe to receive our free guide which will empower you to identify effective fairly priced cbd products and brands as a bonus we will include a 20 off coupon code for use on your first order cbd for life at big sky botanicals we produce a complete line of fairly priced thc free broad spectrum cbd products derived from hemp we back our products with a wealth of educational resources and top notch customer service connect",
         "other"
        ]
       ],
       "shape": {
        "columns": 2,
        "rows": 5
       }
      },
      "text/html": [
       "<div>\n",
       "<style scoped>\n",
       "    .dataframe tbody tr th:only-of-type {\n",
       "        vertical-align: middle;\n",
       "    }\n",
       "\n",
       "    .dataframe tbody tr th {\n",
       "        vertical-align: top;\n",
       "    }\n",
       "\n",
       "    .dataframe thead th {\n",
       "        text-align: right;\n",
       "    }\n",
       "</style>\n",
       "<table border=\"1\" class=\"dataframe\">\n",
       "  <thead>\n",
       "    <tr style=\"text-align: right;\">\n",
       "      <th></th>\n",
       "      <th>text</th>\n",
       "      <th>labels</th>\n",
       "    </tr>\n",
       "  </thead>\n",
       "  <tbody>\n",
       "    <tr>\n",
       "      <th>0</th>\n",
       "      <td>drive your plow over the bones of the dead by ...</td>\n",
       "      <td>other</td>\n",
       "    </tr>\n",
       "    <tr>\n",
       "      <th>1</th>\n",
       "      <td>in the recently tabled national budget denel h...</td>\n",
       "      <td>other</td>\n",
       "    </tr>\n",
       "    <tr>\n",
       "      <th>2</th>\n",
       "      <td>shares take a break its good for you picture g...</td>\n",
       "      <td>other</td>\n",
       "    </tr>\n",
       "    <tr>\n",
       "      <th>3</th>\n",
       "      <td>reso is currently hiring for two positions pro...</td>\n",
       "      <td>other</td>\n",
       "    </tr>\n",
       "    <tr>\n",
       "      <th>4</th>\n",
       "      <td>charter buyer club what is the charter buyer c...</td>\n",
       "      <td>other</td>\n",
       "    </tr>\n",
       "  </tbody>\n",
       "</table>\n",
       "</div>"
      ],
      "text/plain": [
       "                                                text labels\n",
       "0  drive your plow over the bones of the dead by ...  other\n",
       "1  in the recently tabled national budget denel h...  other\n",
       "2  shares take a break its good for you picture g...  other\n",
       "3  reso is currently hiring for two positions pro...  other\n",
       "4  charter buyer club what is the charter buyer c...  other"
      ]
     },
     "execution_count": 1,
     "metadata": {},
     "output_type": "execute_result"
    }
   ],
   "source": [
    "import pandas as pd\n",
    "\n",
    "dataset = pd.read_csv('data/biotech_news.tsv', sep='\\t')\n",
    "dataset.head()"
   ]
  },
  {
   "cell_type": "markdown",
   "id": "HRBZwYd9QMMS",
   "metadata": {
    "id": "HRBZwYd9QMMS"
   },
   "source": [
    "## Предобработка лейблов\n",
    "\n",
    "\n",
    "__Задание 1 (0.5 балла)__. Как вы можете заметить, лейблы записаны в виде строк, разделенных запятыми. Для работы с ними нам нужно преобразовать их в числа. Так как каждый объект может принадлежать нескольким классам, закодируйте лейблы в виде векторов из 0 и 1, где 1 означает, что объект принадлежит соответствующему классу, а 0 – не принадлежит. Имея такую кодировку, мы сможем обучить модель, решая задачу бинарной классификации для каждого класса."
   ]
  },
  {
   "cell_type": "code",
   "execution_count": 2,
   "id": "ba33ee8d",
   "metadata": {},
   "outputs": [
    {
     "data": {
      "text/plain": [
       "{'alliance & partnership': 0,\n",
       " 'article publication': 1,\n",
       " 'clinical trial sponsorship': 2,\n",
       " 'closing': 3,\n",
       " 'company description': 4,\n",
       " 'department establishment': 5,\n",
       " 'event organization': 6,\n",
       " 'executive appointment': 7,\n",
       " 'executive statement': 8,\n",
       " 'expanding geography': 9,\n",
       " 'expanding industry': 10,\n",
       " 'foundation': 11,\n",
       " 'funding round': 12,\n",
       " 'hiring': 13,\n",
       " 'investment in public company': 14,\n",
       " 'ipo exit': 15,\n",
       " 'm&a': 16,\n",
       " 'new initiatives & programs': 17,\n",
       " 'new initiatives or programs': 18,\n",
       " 'other': 19,\n",
       " 'participation in an event': 20,\n",
       " 'partnerships & alliances': 21,\n",
       " 'patent publication': 22,\n",
       " 'product launching & presentation': 23,\n",
       " 'product updates': 24,\n",
       " 'regulatory approval': 25,\n",
       " 'service & product providing': 26,\n",
       " 'subsidiary establishment': 27,\n",
       " 'support & philanthropy': 28}"
      ]
     },
     "execution_count": 2,
     "metadata": {},
     "output_type": "execute_result"
    }
   ],
   "source": [
    "res = set()\n",
    "for s in dataset.labels:\n",
    "    labels = s.split(', ')\n",
    "    res = res | set(labels)\n",
    "keys = sorted(list(res))\n",
    "labels = dict(zip(keys, range(len(keys))))\n",
    "labels"
   ]
  },
  {
   "cell_type": "code",
   "execution_count": 3,
   "id": "d1fec761",
   "metadata": {},
   "outputs": [
    {
     "data": {
      "text/plain": [
       "array([1., 0., 0., 1., 0., 0., 0., 0., 0., 0., 0., 0., 0., 0., 0., 0., 0.,\n",
       "       0., 0., 0., 0., 0., 0., 0., 0., 0., 0., 0., 0.])"
      ]
     },
     "execution_count": 3,
     "metadata": {},
     "output_type": "execute_result"
    }
   ],
   "source": [
    "import numpy as np\n",
    "def encode_labels(labels_str: str):\n",
    "    res = np.zeros(len(labels))\n",
    "    for l in labels_str.split(', '):\n",
    "        res[labels[l]] = 1\n",
    "    return res\n",
    "encode_labels('alliance & partnership, closing')"
   ]
  },
  {
   "cell_type": "code",
   "execution_count": 4,
   "id": "7c65a9bf-dbe9-4cad-978d-3a0e10b1eac1",
   "metadata": {},
   "outputs": [
    {
     "data": {
      "application/vnd.microsoft.datawrangler.viewer.v0+json": {
       "columns": [
        {
         "name": "index",
         "rawType": "int64",
         "type": "integer"
        },
        {
         "name": "text",
         "rawType": "object",
         "type": "string"
        },
        {
         "name": "labels",
         "rawType": "object",
         "type": "string"
        },
        {
         "name": "encoded_labels",
         "rawType": "object",
         "type": "unknown"
        }
       ],
       "ref": "39723905-f20b-4405-8bb6-93ad12656072",
       "rows": [
        [
         "0",
         "drive your plow over the bones of the dead by olga tokarczuk i am an incredibly slow reader but the tone and specificity of the world she creates in this book was something i couldnt leave behind until it was done also all we sawby anne michaels fight nightby miriam toews and the summer before the darkby doris lessing id like turned into a netflix show by amia srinivasan one of the most brain shattering books ive ever read her thinking is so electrically rigorous and fearless i double dare them to make this into a netflix show i last bought i rediscovered her poetry lately and i feel like i dont want to read anything else for a while she owns desire and submerged things has the greatest ending by j d salinger the last page always leaves me breathless the intimacy and truth of that final page is so arresting and almost painful to read should be on every college syllabus by anton piatigorsky a fascinating fictional account of the adolescence of dictators it is painstakingly researched and so imaginative he takes on whole histories through a small specific human lens ive re read the most gilead by marilynne robinson it reminds me of the wild depths of kindness humans are capable of it helps me get to sleep when im agitated it is so incredibly gentle complex wise and hopeful it gives me a glimpse into what faith can feel like that holds the recipe to a favorite dish marcella hazans tomato butter onion sauce from essentials of classic italian cooking i discovered it when i was 17 no matter how much i cook ive never found anything that matches the pure magic of what these three simple ingredients do together bonus question if i could live in any library or bookstore in the world it would be",
         "other",
         "[0. 0. 0. 0. 0. 0. 0. 0. 0. 0. 0. 0. 0. 0. 0. 0. 0. 0. 0. 1. 0. 0. 0. 0.\n 0. 0. 0. 0. 0.]"
        ],
        [
         "1",
         "in the recently tabled national budget denel has been allocated r3 billion to settle interest payments reuters fourteen current and former employees of denel were paid almost r4 7 million on friday from an attached rmb bank account of thestate owned arms manufacturer the group of employees had the bank account attached and frozen after denel failed to comply with a court order to pay their unpaid or partially paid salaries dating back to may 2020 court documents told of the hardships of not being paid or only partially paid a group of 14 current and former employees of denel were paid almost r4 7 million on friday from an attached rmb bank account of thestate owned arms manufacturer the group of employees had the bank account attached and frozen after denel failed to comply with a court order to pay their unpaid or partially paid salaries dating back to may 2020 the north gauteng high court in pretoria granted the order in january this year denel did not oppose the application and was ordered to pay within 10 days by 3 february because of the breach of its contractual obligations to pay its employees ipeleng motshegoa of ipeleng motshegoa attorneys in pretoria who represented the group says amounts paid out to members of the group ranged from r200 000 to r600 000 and included accumulated interest the r4 7 million was not divided equally because various members of the group were owed different amounts by denel hardships court documents told of the hardships of not being paid or only partially paid some of the denel employees were unable to pay their children s school fees as well as their bond and car payments one former denel employee who was among the group of 14 who received payment from the attached denel bank account told fin24 that she resigned in june last year to access part of her pension money to survive later i had to live on hand outs from friends after depleting my savings the person said another told fin24 that the payment was a huge relief and meant he could support his family again abdul aziz toffie also one of the 14 recipients told fin24 on tuesday that the money he received was for work he had done over a period of 25 months he is still employed by denel it is such a relief i can now hold on to my house and to my insurance and my dignity i was going to lose everything at the end of march although i am ecstatic about getting paid i am still sad for those colleagues who still have not been paid said toffie according to motshegoa his office has been approached by more former and current denel employees who are still trying to get paid while courts orders have been granted against denel for breach of employment contracts with their employees the company is still continuing not to pay its employees their salaries in full or at all said motshegoa our offices are now instructed by 34 numsa member at denel s land systems division to enforce an order granted on 9 november 2021 by the pretoria high court against denel for their breach of employment contracts with their employees we are also taking instructions from 13 former and current denel employees to take denel to court for breach of contract in the recently tabled national budget denel was allocated r3 billion to settle interest payments the jse recently suspended denels bonds after the group failed to make interest payments read our next job is to rebuild denel says gordhan last year denel s interim group ceo william hlakoane told mps the company s balance sheet showed it was technically insolvent with a negative cash flow of around r600 million and that it owed a total of over r600 million in unpaid salaries as well as some r900 million to suppliers the arms manufacturer had been hit hard by state capture with denel awarding the gupta linked company vr laser two contracts that ran into hundreds of millions of rands denel was asked for comment and if any is received this article will be updated we live in a world where facts and fiction get blurred in times of uncertainty you need journalism you cantrust for only r75 per month you have access toa world of in depth analyses investigative journalism top opinions and a range of features journalismstrengthens democracy invest in the future today",
         "other",
         "[0. 0. 0. 0. 0. 0. 0. 0. 0. 0. 0. 0. 0. 0. 0. 0. 0. 0. 0. 1. 0. 0. 0. 0.\n 0. 0. 0. 0. 0.]"
        ],
        [
         "2",
         "shares take a break its good for you picture getty metro co uk its tempting to think that the best way to get work done is to go at a breakneck speed multi taskingand cramming as much as possible into your day without a pause for breath if you and rapidly tick off tasks until the end of the day youre being super productive right well perhaps not taking a break is actually an important part of getting stuff done its a way to fully focus by taking a moment of rest between one to do list item and another so you can move on feeling refreshed and ready not all breaks are created equal however rather than coming to a grinding halt and getting distracted by tiktok for 20 minutes in the middle of your working day what you need to do is a productive pause what is a productive pause you may ask well its exactly what it sounds like a pause thats designed to be super effective one thats consciously made and spent fully detached from work heres how embrace the art of productive pausing and make it a standard part of your day take a moment to do nothing dont answer the phone emails or texts immediately happiness expert julia paulette hollenbery tells metro co uk allow yourself a moment to do nothing in the pause scattered thoughts and attention gather you are interrupting your automatic habits and bringing more self awareness this new habit will help you be calm and focused dont ignore your bodys needs ever told yourself youll go and get some water or nip to the toilet only once youve sent an email or finished a report quit that its not doing you any good julia says eat drink rest and go to the toilet when you need to give in to the wise prompts of your body with the fuel of nourishment you will think and function better without the distraction of ignoring the urge to go to the toilet youll be more focused multitasking doesnt work neither does trying to rush through life without pausing for breath picture getty metro co uk when youre stuck step away when stuck on an impossible task instead of hunching over a laptop until it is done forcing yourself to continue take a break recommends julia the break will help you access the innovative instinctual intelligence of your whole body make a cuppa take a shower chat with colleagues go outside a brief change in scenery makes all the difference try stepping outside on your lunch break or just popping outside for five minutes between zoom meetings changing environment from a manmade world of hard materials and straight lines out into nature can free up your thinking helping you to find fresh answers to puzzling problems says julia find pleasure work shouldnt be a horrific slog find moments for pleasure work can be empowering and fun notes julia find something delightful like cream in your coffee or a piece of cake especially when a task is difficult a colleague criticises you or a deadline tightens find pleasure move your body julia suggests stretch dance walk or go to the gym wriggle your face hands or feet this is particularly important if your work involves sitting in a fixed position for hours the body is evolved for movement our ancestors walked for many hours a day and we arent designed to sit still movement frees your fixed pattern of posture enabling you to access not just your head but the physical intelligence of your whole body grab a tea have a chat or pop outside picture getty metro co uk release physical tension take a moment to check in with your body are your shoulders up by your ears are you clenching your jaw shake it out slowly raise your shoulders up do not hold your breath as high as you can squeezing tight julia recommends then in one go release the tension and take some big breaths move wriggle or stretch remove your eyes from the screen and stare into space for a few minutes every hour try stretching legs and arms out as if you are pushing something away this will help you feel energized remember that pausing is good for you and your work let go of that guilt that pops up when you feel like youre not working remind yourself that breaks are essential and make you better at whatever youre doing pausing often helps you reclaim the essence of yourself amongst all the tasks to be done says julia after pausing you return to your work refreshed with renewed concentration you will produce better work creating better dialogue and relationships with colleagues and customers you are not a machine but a sensitive feeling human the way you work best is irregularly allowing pauses is the most productive way you can work",
         "other",
         "[0. 0. 0. 0. 0. 0. 0. 0. 0. 0. 0. 0. 0. 0. 0. 0. 0. 0. 0. 1. 0. 0. 0. 0.\n 0. 0. 0. 0. 0.]"
        ],
        [
         "3",
         "reso is currently hiring for two positions product managerand membership manager the product managerensures the progression of product planning and execution throughout the product life cycle including gathering and prioritizing customer requirements aligning with the strategic plan and product vision of engineering and executive staff setting and meeting product development timelines and customer support to ensure satisfaction goals are met the product manager will report to resos ceo and ensure that products support the companys overall strategy and goals the membership manageris responsible for coordinating logistics and details in membership and events as needed to support the organizations strategic plan the membership manager will report directly to the chief operating officer join us in leading real estate technology forward reso careers the reso staff team exemplifies excellence in teamwork we share successes and challenges working together in a fast paced and ever changing environment reso is a fully remote nonprofit trade organization that provides the foundation for streamlined real estate technology through the creation and certification of standards cross platform interoperability workgroup may 11 2021 the group took a deep dive into transaction management taking a step back from what was submitted to the data dictionary workgroup to determine what more the group could do to forward sound proposals based on workflows and data flow diagrams the group is starting to believe that an independent transaction management resource may be needed rather than a payload of property and member data upi registry subgroup may 12 2021 the group received a presentation from mark lesswing the distributed ledger workgroup chair on a upi resolver proof of concept from the presentation a discussion on approaches to scoring ensued followed by a review of the feedback received on the existing api working spec date and category are upi components that will be worked on and discussed at the next meeting uli subgroup may 12 2021 the group continued its work on the uli pilot scoring and defining the proof of concept after confirming support for the methodology and direction outlined in previous meetings uli subgroup members will create a lightweight user interface ui so that pilot participants can check their member data against the pilots matching accuracy there is additional work to do in refining the elevator pitch pilot data agreements and integration with existing membership processes",
         "other",
         "[0. 0. 0. 0. 0. 0. 0. 0. 0. 0. 0. 0. 0. 0. 0. 0. 0. 0. 0. 1. 0. 0. 0. 0.\n 0. 0. 0. 0. 0.]"
        ],
        [
         "4",
         "charter buyer club what is the charter buyer club the charter buyer club is our exclusive program that allows you to enjoy an increasing lifetime discount simply by placing orders the idea is simple for each purchase you make you graduate to a higher level of discounting 1st order standard full price or save 20 by subscribing to our email list in the footer of the website 2nd order bronze level get a 10 discount 3rd order silver level get a 15 discount 4th order beyond gold level get a 20 discount for life if you re interested in the program don t wait while the discounts may apply for life acceptance into the program is for a limited time only to become a member all you need to do is register for an accounton our website and place orders our system automatically keeps track of the orders you ve placed and applies the appropriate discount as you shop there are no upfront costs or ongoing fees only savings how do i join and claim my discount participating in the program is easy and it largely depends on what stage you are at as a client if you ve never ordered before you can create your account before placing an order or during the ordering process at checkout and you ll be enrolled in the club and receive discounts on your future orders you ll receive an email notification each time you graduate to the next level if you ve placed orders as a guest before but don t have an account all you need to do is to create an account before you place your next order be sure to register using the same email address and your previous orders will automatically be synced to your account you ll be assigned the correct charter buyer club level within 10 minutes after you register you ll receive an email once the process is complete if you re a current customer with an account simply log in to your account when you shop your discount applies to standard orders and subscription orders your customer level will automatically increase when each qualifying order is shipped when this happens your account will reflect your new pricing and you ll be able to claim it on your next order once you re in the club you ll see the appropriate pricing for your discount applied across products as well as a notification in your account and product pages how long does my membership last for life keep your account for as long as you d like and continue to enjoy ongoing savings on every purchase what s more is the club discount stacks with our referral program so you can unlock even more savings by referring your friends and family ready to join head over to our shop pageand place your first order become a cbd expert subscribe to receive our free guide which will empower you to identify effective fairly priced cbd products and brands as a bonus we will include a 20 off coupon code for use on your first order cbd for life at big sky botanicals we produce a complete line of fairly priced thc free broad spectrum cbd products derived from hemp we back our products with a wealth of educational resources and top notch customer service connect",
         "other",
         "[0. 0. 0. 0. 0. 0. 0. 0. 0. 0. 0. 0. 0. 0. 0. 0. 0. 0. 0. 1. 0. 0. 0. 0.\n 0. 0. 0. 0. 0.]"
        ],
        [
         "5",
         "updated 18 03 2021 16 32 ist created 18 03 2021 16 32 ist late last year a semi retired britishscientist co authored a petition to europe s medicines regulator the petitioners made a bold demand halt covid 19 vaccine clinical trials even bolder was their argument for doing so they speculated without providing evidence that the vaccines could cause infertility in women the document appeared on a germanwebsite on dec 1 scientists denounced the theory regulators weren t swayed either weeks later the europeanmedicines agency approved the europeanunion s first covid 19 shot co developed by pfizerinc but damage was already done advertisement social media quickly spread exaggerated claims that covid 19 jabs cause female infertility within weeks doctors and nurses in britainbegan reporting that concerned women were asking them whether it was true according to the royal college of obstetricians gynaecologists in january a survey by the kaiser family foundation kff a non profit organization found that 13 of unvaccinated people in the unitedstates had heard that covid 19 vaccines have been shown to cause infertility what gave the debunked claim credibility was that one of the petition s co authors michael yeadon wasn t just any scientist the 60 year old is a former vice president of pfizer where he spent 16 years as an allergy and respiratory researcher he later co founded a biotech firm that the swissdrugmaker novartispurchased for at least 325 million in recent months yeadon pronounced yee don has emerged as an unlikely hero of the so called anti vaxxers whose adherents question the safety of many vaccines including for the coronavirus the anti vaxxer movement has amplified yeadon s skeptical views about covid 19 vaccines and tests government mandated lockdowns and the arc of the pandemic yeadon has said he personally doesn t oppose the use of all vaccines but many health experts and government officials worry that opinions like his fuel vaccine hesitancy a reluctance or refusal to be vaccinated that could prolong the pandemic covid 19 has already killed more than 2 6 million people worldwide these claims are false dangerous and deeply irresponsible said a spokesman for britain s department of health social care when asked about yeadon s views covid 19 vaccines are the best way to protect people from coronavirus and will save thousands of lives recent reports of blood clots and abnormal bleeding in a small number of recipients of astrazeneca s covid 19 vaccine have cast doubt on that shot s safety leading several europeancountries to suspend its use the developments are likely to fuel vaccine hesitancy further although there is no evidence of a causative link between the astrazenecaproduct and the affected patients conditions yeadon didn t respond to requests for comment for this article in reporting this story reuters reviewed thousands of his tweets over the past two years along with other writings and statements it also interviewed five people who know him including four of his former colleagues at pfizer a pfizerspokesman declined to comment on yeadon and his stint with the company beyond emphasizing that there is no evidence that its vaccine which it developed with its germanpartner biontech causes infertility in women references to yeadon s petition appear on the website of a group founded by influential vaccine skeptic robert f kennedy jr scion of the americanpolitical dynasty who recently was banned on instagrambecause of his covid 19 vaccine posts syndicated writer and vaccine skeptic michelle malkin reported yeadon s concern about fertility in a column last month under the headline pregnant women beware of covid shots and a blog with an alarmist headline head of pfizerresearch covid vaccine is female sterilization was shared thousands of times on facebook the visage and views of yeadon widely identified as an ex vp of pfizer can be seen on social media in languages including german portuguese danishand czech a facebookpost carries a video from november in which yeadon claimed that the pandemic fundamentally is over the post has been viewed more than a million times in october yeadon wrote a column for the unitedkingdom s daily mailnewspaper that also appeared on mailonline one of the world s most visited news websites it declared that deaths caused by covid 19 which then totaled about 45 000 in britain will soon fizzle out and britons should immediately be allowed to resume normal life since then the disease has killed about another 80 000 people in the uk yeadon isn t the only respected scientist to have challenged the scientific consensus on covid 19 and expressed controversial views michael levitt a winner of the nobel prizefor chemistry told the stanford daily last summer that he expected the pandemic would end in the unitedstates in 2020 and kill no more than 175 000 americans a third of the current total and when we come to look back we re going to say that wasn t such a terrible disease and luc montagnier another nobel prizewinner said last year that he believed the coronavirus was created in a chineselab many experts doubt that but so far there is no way to prove or disprove it levitt told reuters that his projections about the pandemic in the unitedstates were wrong but he still believes covid 19 eventually won t be seen as a terrible disease and that lockdowns caused a great deal of collateral damage and may not have been needed montagnier didn t respond to a request for comment what gives yeadon particular credibility is the fact that he worked at pfizer says imran ahmed chief executive of the center for countering digital hate an organization that combats online misinformation yeadon s background gives his dangerous and harmful messages false credibility in a debate last fall in britain s house of commonsabout the government s response to the pandemic parliamentarian richard drax called yeadon an eminent scientist and cited his view that the virus is both manageable and nearing its end drax didn t respond to a request for comment more recently david kurten a member of the london assembly an elected body tweeted there is a real danger that covid 19 vaccines could leave women infertile the cure must not be worse than the disease kurten wrote he too didn t respond to a request for comment why yeadon transformed from mainstream scientist to covid 19 vaccine skeptic remains a mystery thousands of his tweets stretching back to the start of the pandemic document a dramatic shift in his views early on he supported a vaccine strategy but they offer few clues to explain his radical turnabout some former colleagues at pfizersay they no longer recognize the mikeyeadon they once knew they described him as a knowledgeable and intelligent man who always insisted on seeing evidence and generally avoided publicity one of those ex colleague",
         "other",
         "[0. 0. 0. 0. 0. 0. 0. 0. 0. 0. 0. 0. 0. 0. 0. 0. 0. 0. 0. 1. 0. 0. 0. 0.\n 0. 0. 0. 0. 0.]"
        ],
        [
         "6",
         "3 feb 2022 08 52 utc by through its new fuoriserie customization program maserati is inviting its customers to tailor their vehicles so that they match their unique personality the program is available in north america for model year 2022 cars 7 photos as part of the fuoriserie program which by the way means custom built in italian the carmaker will work alongside the customer to determine the latters core values and what drives them whether its innovation performance or a particular type of aesthetic in order to showcase what they can do maseraticreated three fuoriserie vehicles for the flagship 580 hp trofeo collection in the u s and canada first we have the levante trofeo which is showcased here in orange zest metallic with 22 inch staggered orione wheels and gloss black calipers inside it comes with pieno fiore black leather living coral contrast stitching and gloss carbon fiber trim for the quattroporte trofeo the fuoriserie program produced a verde royale metallic paint to go with 21 inch dark orione wheels and gloss black calipers the interior boasts sports seats in exclusive zegna pelletessuta thin strips of leather woven like fabric with gloss carbon macro twill trim as for the ghibli trofeo this particular one is painted in blu maserati with a historic birdcage livery plus 21 inch dark orione wheels and anodized red calipers inside the sports seats are upholstered in exclusive black and grey zegna pelletessuta leather with gloss carbon macro twill trim maseratis fuoriserie customization program features three bespoke collections meant to inspire and guide customers corse unica and futura the first is dedicated to those who want to pay tribute to the brands history and its racing heritage focusing on performance unica meanwhile is targeting buyers who prefer to live in the present and appreciate contemporary styling and fashion as for the futura collection as the name suggests its for so called futurists who embrace and encourage change while projecting an appreciation for technology and new materials you can take thissurvey to find out which fuoriserie collection matches your personality",
         "other",
         "[0. 0. 0. 0. 0. 0. 0. 0. 0. 0. 0. 0. 0. 0. 0. 0. 0. 0. 0. 1. 0. 0. 0. 0.\n 0. 0. 0. 0. 0.]"
        ],
        [
         "7",
         "in the race for state superintendent of education also 2022 is shaping upas a gop wave election meaning democrats will face longer odds than usual does the party have a path to victory in such a climate in a word no still votours candidacy is interesting and worth covering for several reasons most notably his potential to drive the democratic debate further to the left on several hot button issues at the top of votours campaign agenda covid 19 vaccinations for all south carolina adults and children along with a massive expansion of government subsidized health care in the palmetto state votour bills himselfas a candidate who embraces science and speaks out on the importance of vaccinations staking himself out squarely on an issue which has been dominating headlinesfor weeks click to view via facebook votour above is wilford brimley look alike who originally hails from norfolk virginia in addition to his pro vaccine stance he has been exceedingly vocal in his support of a living wage for citizens of the palmetto state with no living wage the poorest of us work several jobs just to make ends meet votour recently for all to prosper we need a living wage votour has also staked himself out on the issue of global warming as governor ill do everything i can to offset global warming he tweetedearlier this week tax incentives for solar and wind generators commuter options like light rail between cities reducing subsidies for fossil fuels all on the table votour has also promisedto get the state invested in minority owned solar and wind energy startups again i do not expect votours progressive candidacy to evolve into anything resembling a credible bid for south carolinas top executive post the 2022 election is republican governor henry mcmaster s to lose something progressives should probably be okay with if im being completely honest also as regular readers are aware the real power in the palmetto state has always resided with the legislature governors have the power of the bully pulpit and authority over a handful of executive branch appointments but beyond that they are constitutionally neutered still votours campaign is worth watching in the event he is able to continue articulating and delivering his progressive agenda to liberal audiences in the palmetto state which would force the two democratic frontrunners to run further to the left than they planned well one of them anyway",
         "other",
         "[0. 0. 0. 0. 0. 0. 0. 0. 0. 0. 0. 0. 0. 0. 0. 0. 0. 0. 0. 1. 0. 0. 0. 0.\n 0. 0. 0. 0. 0.]"
        ],
        [
         "8",
         "excellent customer service and excellent products highly recommended this is the first time i used them but i know bonsoni for quite sometime and few people recommended them would definitely use again good value for money we bought an oak side table for my elderly mother in law she finds it very useful and attractive it was delivered very quickly and was easy to assemble there was a slight scratch on it when we got it but not worth making a fuss about it ll get more in use great service and the product third time i have bought from them very pleased with the products look good and easy to put together just what i was looking for great service item exactly as advertised fantastic quality product we waited nearly three weeks for the product to arrive it was well worth the wait good quality could not believe how well it was made and packaged delighted with the purchase unique piece of furniture the chest of drawer was even more beautiful than on the website it arrived at least 4 days before i expected it the delivery was brilliant and the product was extremely well protected love it amazing been looking for a long time don t think twice buy it great customer service fab product i m really pleased with the bed i received good quality fabulous colour very good value customer services were very helpful friendly would definitely recommend excellent desk good quality and very easy assembly really like the desk which fits very neatly into a small space but large enough for a laptop and printer i can t fault the service i received love my tables from choosing what i wanted on the website to ordering and then delivery everything was easy my nest of tables are lovely and were very easy to assemble and i am so pleased with the end result i will be back for more good site smooth sales process excellent service the best communication ive had from a company and speedy delivery will buy again without hesitation thanks very much first time using them would use them again at first he",
         "other",
         "[0. 0. 0. 0. 0. 0. 0. 0. 0. 0. 0. 0. 0. 0. 0. 0. 0. 0. 0. 1. 0. 0. 0. 0.\n 0. 0. 0. 0. 0.]"
        ],
        [
         "9",
         "about 200 that cause scarring or fibrosis of the lungs the scarring can make it hard to breathe and the damage usually isnt reversible causing it to get worse over time in the u s idiopathic pulmonary fibrosis has been found to be the most prevalent ild i had a talk show at the time and from the moment we talked about this all of these people who were in my audience every day or every few days started to come up to me after the show and say hey my mom has this or show me their hands or to tell me that they were experiencing things and it was just like wow she recalls thats why it was important for the emmy winner to use her platform to provide support to those dealing with ild and family members attempting to support those with it mother and daughter spoke up together doing so until owens passed from scleroderma in 2018 in the years since the actress has worked on a documentary for a e beyond breathless in partnership with pharmaceutical company boehringer ingelheim to provide awareness people of all ages open up about being diagnosed with diseases that led to ild or losing loved ones to it and how theyve coped its an eye opener for those who may have never even heard of ild which does impact more african americansthan we know the documentary is not a long one but its an important one and its ahead of rare disease day and a lot of things dont get attention and they deserve this attention because a lot of people a lot more people suffer with these diseases than people are aware of she says so if people get a peek at it then they can go to lungsandyou organd get more information or reach out to their doctors but at least therell be some more awareness about it of the many voices in the film including former mlb star bernie williams who narrarates latifah her family and those who cared for her mom get to speak about owens and their experience being of support to her mom as caregivers as well as support to one another my cousin tina was part of it my sister raven was part of it my best friend tammy and her nurse and sometimes it would be good because i could just come over and be her daughter not her caregiver and then sometimes her niece tina could come over and just be her niece and i could be the caregiver so there were ways that we learned over the years how we could just be family members and just make life as normal as possible she says and while latifah is a part of the project she gladly takes a backseat to allow other families to share their story to ensure that shes doing the work that her mother wanted this is not about me this has nothing to do with queen latifah this is about rita l owens she says this is about ritas story and ritas story is many peoples story so for her to want to share that it meant a lot to me it means a lot to me to continue to do the best that i can to make people aware of it and to let them know theyre not alone you can view beyond breathless below on youtube and visit lungsandyou comfor more information on interstitial lung disease topics",
         "other",
         "[0. 0. 0. 0. 0. 0. 0. 0. 0. 0. 0. 0. 0. 0. 0. 0. 0. 0. 0. 1. 0. 0. 0. 0.\n 0. 0. 0. 0. 0.]"
        ],
        [
         "10",
         "fit welcomes new service from cma cgm to port everglades cagema 2 service the maritime executive florida international terminal fit a terminal operated by saam at port everglades welcomed cma cgms new service cagema main loop 2 the new service will be the only port of entry into the united states for the marseille based shipping lines direct route to jamaica and service to trinidad granada and haiti cagema main loop 2 will involve up to 300 350 container movements each week fit general manager justin weir commented we welcome this new route that will operate at our terminal we are committed to providing the best service and have a highly trained team to operate efficiently port everglades chief executive and port director jonathan daniel remarked we have had the pleasure of working with cma cgm over the past year and are pleased that they have decided to consolidate their ports of call in south florida at port everglades cma cgms commitment to our port demonstrates florida international terminals solid performance cagemas ports of call towards the south of port everglades include kingston jamaica point lisas trinidad and tobago and puerto de espaa towards the north the route includes saint george s granada kingston jamaica and lafito and cap haitien haiti before returning to port everglades the vessels are fully operated by cma cgm and also transport bulk and out of gauge oog cargo the products and services herein described in this press release are not endorsed by the maritime executive more top stories",
         "other",
         "[0. 0. 0. 0. 0. 0. 0. 0. 0. 0. 0. 0. 0. 0. 0. 0. 0. 0. 0. 1. 0. 0. 0. 0.\n 0. 0. 0. 0. 0.]"
        ],
        [
         "11",
         "drought tolerant plants thejunipers when i first developed a real interest in plants i was in the heyday of my zine writing career as my interest in gardening grew writing a zine about it became inevitable initially i envisioned the zine as a journal of sorts the journal of a budding horticulturist pun intentional since i was new to gardening and plants in general the zine was meant to follow my journey as i explored this new world a zine needs a name though so what would i call it it didnt take long for me to land on the juniper i was familiar with a common disdain for the unsightly overgrown neglected evergreen shrub full of spiders and cobwebs that for whatever reason was at one point planted right outside just about every house in america a fire hazard by the way i was aware that many people were resorting to tearing them out cursing as they battled the pokey dirty half dead things that was basically all i knew about junipers they were common landscape plants that were just as commonly despised my affection for freaks geeks outsiders and rejects led me to name my zine after a shrub that everyone hated i guess i just felt like we had something in common and that despite being the bane of peoples existence it deserved some recognition and it does junipers are an important species in their natural habitats in some areas they are dominant features to the point where entire plant communities are named after them consider the pinon juniper woodlandsof western north america prominent steppe habitats that occur throughout high desert regions and support diverse forms of wildlife unique to this part of the world dan johnson writes in the book steppes the pinon juniper zone dominates huge expanses of the west in varying stages of health providing a wealth of habitats and resources to the wildlife and the people who call it home johnson goes on to describe some of these habitats in the colorado plateau this zone is dominated by pinus edulis and juniperus osteosperma with j scopulorum occupying drainages with more moisture in the great basin p edulis is replaced by p monophylla as the dominant pinon pine still mixing with j osteosperma yet as one moves west this juniper is increasingly replaced by j occidentalis move farther north and j occidentalis dominates completely with neither pinon pine making an appearance the genus juniperus is in the cypress family cupressaceae and includes up to 67 species at least 13 of which are native to north america they are long lived plants that range from prostrate sprawling groundcovers to expansive bushy shrubs to tall narrow trees their foliage is evergreen and can be either needle like or scale like most juniper species have needle like foliage in their seedling and juvenile stages and then scale like foliage at maturity some species like j communis never develop scale like foliage junipers are gymnosperms so their reproductive structures are housed in cones however their cones are fleshy and so are commonly and mistakenly referred to as berries or fruits juniper cones are most often blue or gray blue but in some species they have a red brown or orange hue juniperus communis common juniper juniperus scopulorum rocky mountain juniper juniperus horizontalis horizontal juniper in general junipers are quite drought tolerant particularly those species that are adapted to hot dry climates again referring to pinon juniper steppes johnson writes in prolonged periods of drought the pinon pines seem to suffer long before the junipers whole hillsides of pine may go brown leaving islands of olive green juniper relatively unscathed in the book shrubs of the great basin hugh mozingo attributes this drought toughness to the scale like leaves because they are smaller and so closely appressed to the twigs these scale like leaves are a superior adaptation to the frequently very dry conditions in pinon juniper communities this herculean ability to survive on little water makes them a great addition to a dry garden but we may first have to get over our disdain for them as this poston chicago botanic gardens website puts it junipers have suffered from overuse and underimagination this article also examines our hatred of juniper bushes probably a bigger problem is that like so many other plants used in a landscape mature height and width often isnt taken into consideration and rather than removing a plant when it gets too big for the site sheers or a hedge trimmer are regularly deployed im not a huge fan of the sheered look i much prefer a more natural form to the boxes and globes that are so common in commercial and residential plantings im even less of a fan of the misguided inclination to force a plant to fit in a space that it isnt meant to be unless youre a bonsai artist i guess this treatment is what leads to exposing the ugly brown insides of a juniper shrub an unsightly look that only makes people hate them more brown insides of juniper shrub exposed after years of forcing the plant to fit in an improper site there are numerous commercially available cultivars of juniper species offering a plethora of sizes shapes and forms as well as various colors of foliage for small or narrow areas select dwarf varieties or columnar forms that wont need to be kept in check and in all cases let the plant express its authentic self controlling the urge to sheer and shape it against its will as if their natural beauty and low water requirement wasnt enough junipers are also great for supporting wildlife birds and other animals use them for cover and for nesting sites the fleshy cones are edible the shredding bark is used for nesting material and the evergreen foliage provides much needed protection during winter months oh and among many other benefitsthat junipers offer humans their aromatic fleshy cones have culinary value and are used to flavor gin i dont want to leave the impression that i am opposed to pruning and shaping shrubs for aesthetic reasons i think it should be done however my opinion is that unnatural shapes should be avoided sure boxed hedge rows have their place in certain types of gardens but my preference is towards more natural shapes the following video by university of illinois extension provides a brief tutorial on how to achieve that share this",
         "other",
         "[0. 0. 0. 0. 0. 0. 0. 0. 0. 0. 0. 0. 0. 0. 0. 0. 0. 0. 0. 1. 0. 0. 0. 0.\n 0. 0. 0. 0. 0.]"
        ],
        [
         "12",
         "print what comes after the coronavirus outbreak politicians are discussing a huge economic stimulus package in many capitals and the central banks worldwide want to support this with cheap money the predicted decline of the global economy seems unprecedented in this form reconstruction of certain economic processes will be indispensable however it would be a historical mistake should it follow the classical pattern of building on fossil growth the industry is worried about the cuts that will be made in the protection measures against the coronavirus worldwide entire value chains have been disrupted and depending on how long the protective measures last there could be significant losses with serious consequences for a serious recession what does this mean for the european green deal europe set out to become the first continent to reduce co2 emissions to zero by 2050 commission vice president frans timmermans set out to examine all proposed legislation for compatibility with the european green deal at the same time an industrial strategy was launched that explicitly focused on supporting the deal the question now is if the coronavirus is putting a damper on these plans one thing is certain the temptation to restore essential elements of the classic fossil industry with reference to urgently needed economic growth will be hard to resist the czech republics prime minister has already called on the eu commission to concentrate on only fighting the virus and to put the european green deal on hold anticipated resistance could delay important decisions that are long overdue to achieve climate protection goals we must therefore start thinking now about how we can maintain a sustainable course and at the same time stimulate the economy many are already comparing the impact of the corona crisis with that of world war ii nothing will ever be the same again at that time there was a european recovery and reconstruction plan that came from the americans the famed marshall plan in fact it seems advisable to follow exactly this same template at the present time it was the greek philosopher heraclitus who coined the sentence everything flows panta rhei we should be guided by this idea in a sustainable recovery programme however if it is to flow in the right sustainable direction then the right incentives must be put in place the speed with which the eu finance ministers have set about providing national support programmes is remarkable the task now is to coordinate these huge financial packages and coupled with eu programmes to steer them in the direction of the european green deal it was very encouraging to see the reactions to the commissions direction towards sustainability there appears to be a fundamental willingness by europes industries to support brussels ambitious plan we should therefore not give any misleading signals that would make a return to the fossil economy even conceivable at the same time this means that the incentives to invest in sustainable projects must be very ambitious take hydrogen for example the eus hydrogen industry has proposed to scale up its capacity to produce up to 80 gw of green hydrogen by 2030 a roadmap for 40 gw electrolyser capacity in the eu by 2030 shows a 6 gw captive market hydrogen production at the demand location and 34 gw hydrogen market hydrogen production near the resource a roadmap for 40 gw electrolyser capacity in north africa and ukraine by 2030 includes 7 5 gw hydrogen production for the domestic market and a 32 5 gw hydrogen production capacity for export if a 240 gw electrolyser market in 2030 is realised alongside the required additional renewable energy capacity renewable hydrogen will become cost competitive with fossil grey hydrogen by realising a 240 gw electrolyser capacity producing green hydrogen about 82 million ton co2 emissions per year could be avoided in the eu the total investments in electrolyser capacity will be 25 30 billion euro creating 140 000 170 000 jobs in manufacturing and maintenance of 240 gw electrolysis and yet the industry needs the european union to design create and facilitate a hydrogen market that includes infrastructure and economy this could be achieved by a dedicated investment programme as part of the post corona recovery plan hydrogen technologies could help to boost the post corona economy not exclusively but definitely at the core of any recovery plan we should not be cynical yet the example shows that the coronavirus could also lead to an opportunity to align the interrupted value chains in a sustainable manner and to clearly orientate the development programmes towards decarbonisation climate protection should be the leitmotif of a massive development programme that could be called panta rhei the eu had set out to consistently tackle the paris climate protection goals also by means of the so called european green deal it does not to be sacrificed to corona reconstruction instead it is the other way around it becomes a rational pan the huge reduction in emissions caused by coronavirus should be the yardstick by which reconstruction must be measured the measures to combat covid 19 have already been anticipated at breathtaking speed many of the changes demanded by climate protectionists in recent months and years this includes less co2 emissions through the immediate reduction of flights through less traffic and through the interruption of value chains we currently assume that the reduction in emissions could be 40 to 45 dr patrick graichen director of agora energiewende said in reference to the situation in germany graichen recommends that the growth and economic stimulus packages being put together now should not only combat the consequences of the corona recession but must also help to make germany more climate proof in the long term indeed a growth package that would blindly promote fossil technologies would even be harmful because it would cement higher emissions in the long term the european green deal is europes new marshall plan the course must be set quickly and at the same time be ambitious now panta rhei everything flows let it flow in the right direction",
         "other",
         "[0. 0. 0. 0. 0. 0. 0. 0. 0. 0. 0. 0. 0. 0. 0. 0. 0. 0. 0. 1. 0. 0. 0. 0.\n 0. 0. 0. 0. 0.]"
        ],
        [
         "13",
         "notebook lions wide receivers need to step up with williams ruled out running back duo staley would like to keep the tandem of jamaal williamsand d andre swiftrolling and not have to back off the running game like they did when they got behind the 49ers last week williams and swift both had more than 100 yards from scrimmage 110 from williams on 54 rushing 56 receiving and 104 from swift on 39 rushing 65 receiving hopefully the rest of these games we can keep that package together and go with the thunder and lightning combo staley said the running game is particularly important for the lions while they develop a passing game that has hockenson as the only proven receiver random thoughts carryover there isn t any from one game to the next said lions linebacker alex anzalone anzalone is expecting improvement from the defense over last week s performance against the 49ers it s an all new deck of cards anzalone said everyone in this league is talented that saying any given sunday is true we definitely have the guys to do what we want to do it s encouraging to know that it s self inflicted the misplays it s definitely fixable rookie rush no surprise here if rookie defensive end levi onwuzurike makes some kind of splash play in his first game for the lions he missed the opener with a hip injury he s quick off the ball with power message from packers qb aaron rodgers i think we re a good team we ve been a good team the last few years good teams don t usually have poor performances back to back the other aaron packers rb aaron jones on the poor performance in the opener a little bit of complacency i guess we re kind of riding high we have to go to work remain humble and continue to do what got us here lions packers breakdown it s not a tough call to flat out say the packers will win they re at home they re the better team and they want to make amends on monday night tv for last week s performance in a 38 3 loss to the saints here s the rub that keeps me from going all in on the packers while they were giving up 21 points after trailing 17 3 at halftime the lions were rallying from a 38 10 deficit to make it a close game in a 41 33 loss to the 49ers whatever the reasons and circumstances the packers got 21 points deeper in the hole while the lions got 20 points closer my point the packers are favored by 10 5 points tonight take the points pick packers 29 lions 23 related content",
         "other",
         "[0. 0. 0. 0. 0. 0. 0. 0. 0. 0. 0. 0. 0. 0. 0. 0. 0. 0. 0. 1. 0. 0. 0. 0.\n 0. 0. 0. 0. 0.]"
        ],
        [
         "14",
         "cdc endorses schools coronavirus test to stay policies by mike stobbe associated press dec 17 2021 dec 17 2021 katie lucey administers a covid 19 test on her son maguire at a pcr and rapid antigen covid 19 coronavirus test pop up on wall street in new york on thursday dec 16 2021 u s health officials are endorsing test to stay policies that will allow close contacts of infected students to remain in classrooms the centers for disease control and prevention on friday dec 17 decided to more firmly embrace the approach after research of such policies in the chicago and los angeles areas found covid 19 infections did not increase when schools switched to test to stay ted shaffrey ap ted shaffrey subscribe today for 4 for 4 months new york u s health officials are endorsing test to stay policies that allow close contacts of students infected with the coronavirus to remain in classrooms if they test negative the centers for disease control and prevention decided to more firmly embrace the approach already used by many school districts after research of such policies in the chicago and los angeles areas found covid 19 infections did not increase when using the approach omicron variant of coronavirus officially detected in sc as musc logs 3 cases by zharia jeffrieszjeffries postandcourier com test to stay is an encouraging public health practice to help keep our children in school cdc director dr rochelle walensky said on friday cdc s official guidance for schools has been that when someone in a school tests positive for covid 19 infection those who were deemed to be in close contact should stay out of school in home quarantine for 10 days dhec and cdc choose the moderna or pfizer covid vaccine over johnson johnson by lauren sausserlsausser postandcourier com with the announcement friday the cdc is saying both test to stay programs and quarantining approaches are both equally good options for schools hundreds of schools have adopted test to stay policies and several states have funded statewide test to stay policies to prevent students from spending long stretches away from school previously the cdc said there is promise in the approach as long as other measures such as masking for both teachers and students were followed cdc has been working with some school districts to evaluate the programs and the agency released two studies that indicated they worked well cdc panel recommends pfizer moderna covid shots over j j s by lauran neergaard and mike stobbe associated press one was in suburban lake county illinois just north of chicago which adopted a program in august close contacts were allowed to stay in school provided both the infected person and close contact were masked when an exposure might have happened the close contact had no symptoms and the close contact was tested one three five and seven days after exposure to the infected person infections developed in only 16 of the more than 1 000 close contacts who were tracked a transmission rate of about 1 5 percent health officials deemed it a successful approach that allowed many students to stay in school similar results were reported in a similar study that looked at what happened this fall in schools in los angeles county california researchers counted 7 511 student close contacts in schools that tried the strategy and the secondary infection rate was 0 7 percent",
         "other",
         "[0. 0. 0. 0. 0. 0. 0. 0. 0. 0. 0. 0. 0. 0. 0. 0. 0. 0. 0. 1. 0. 0. 0. 0.\n 0. 0. 0. 0. 0.]"
        ],
        [
         "15",
         "joe bernick from florida to north carolina to texas to arizona and beyond nurses were rising up on jan 13 nnu tucsonsome 100 registered nurses and community supporters showed up for a press conference here thursday morning jan 13 to demand a safe environment for themselves and their patients the action was sponsored by national nurses united nnu the largest rn union in the country with over 175 000 members rns held simultaneous press conferences pickets and other actions at their hospitals across the country to bring attention to the nationwide hospital staffing crisis as part of the days action nnu held a memorial vigil in washington d c for the 480 rns who have died over the last two years of the pandemic nnu represents tucson rns at st marys hospital and at st josephs hospital where this action took place both hospitals are owned by tenet a for profit corporate health care behemoth in a press release announcing the event the union explained that 82 5 of tenet nurses in tucson work half of their shifts or more in unsafe conditions up to 50 are considering leaving the profession the nurses here say thats unacceptable and that patient safety and nurse retention should be tenets priority rather than their shareholders profits liz hurt an rn at st marys for over ten years pointed to the millions in profits tenet pulls inenough to take care of staffing shortages and patient safety they should be committed to the highest standard of health care instead of corporate profits she said hurt also explained that tenet already had a staffing shortage before the covid 19 pandemic melissa petula also a st marys rn explained that there isnt really a shortage of nurses but rather a shortage of nurses willing to risk their licenses and the safety of their patients by working in unsafe conditions imposed on them by profit driven employers trish muir leader of the pima area labor federation expressed the solidarity of working people in the community for the nurses who have been working day in and day out to care for people in tucson at this risky time she condemned tenet for putting profits before people and called on the company to provide for appropriate staffing with safe working conditions the union stressed that the bosses are seeking to make the crisis standard of care and crisis staffing levels into the new normal after covid a major threat to people needing hospitalization it also emphasized that these corporate policies are driving nurses out of the profession",
         "other",
         "[0. 0. 0. 0. 0. 0. 0. 0. 0. 0. 0. 0. 0. 0. 0. 0. 0. 0. 0. 1. 0. 0. 0. 0.\n 0. 0. 0. 0. 0.]"
        ],
        [
         "16",
         "21 november 2020 hi our company wants to reimburse legal fees advocate bills to one of the directors incurred by him on personal capacity under a dispute can someone suggest whether this will attract rcm under gst for the following two case 1 bill is in the name of the director and submitted to the company for reimbursement 2 no bill is submitted and claimed as settlement amount from the company also whether point no 2 will attract any tds provision on director since he is not submitting any bill thanks",
         "other",
         "[0. 0. 0. 0. 0. 0. 0. 0. 0. 0. 0. 0. 0. 0. 0. 0. 0. 0. 0. 1. 0. 0. 0. 0.\n 0. 0. 0. 0. 0.]"
        ],
        [
         "17",
         "sheryl crow and olivia rodrigo at billboard women in music held at youtube theater on march 2 2022 in inglewood california michael buckner for billboard billboards 2022 women in musicevent took over the youtube theater in inglewood calif on wednesday march 2 evening honoring female power playersin the music industry as well as chart topping newcomer olivia rodrigo who is billboards 2022 woman of the year after opening the show with a searing performanceof deja vu rodrigo closed it with her acceptance speech for the woman of the year honor after an all smiles introduction from sheryl crow read olivias full speech below related 03 02 2022 this is so cool first of all i want to thank sheryl for being here today sheryl i am such a massive fan of you and your songwriting and im so grateful that youre here it really means the world i want to congratulate all of the other amazing nominees tonight your artistry and work is so amazing and im in complete awe of all of you and so so inspired thank you billboard its such a huge honor to be named the woman of the year so many surreal moments have happened over the course of this incredible past year and this is most definitely one of them so thank you not a day goes by where i dont think about how lucky i am to get to call this my job ive been writing songs since i was so young and its absolutely my favorite thing to do and such an emotional outlet for me what i love most about songwriting is its ability to perfectly capture how i feel better than anything i could have said in a conversation songwriting has always been everything to me so for people to connect with my music is beyond a dream come true and thank you so much its not always easy being a young woman in the music industry but i found so much strength from the female songwriters and artists who have come before me and paved the way and opened doors for so many young women like me and thats whats so amazing about this event every woman here today is working to break down those barriers and change the narrative and support each other and im so inspired by all the incredible women in this room and i want to thank you all for your support i am supporting all of you and i want to say to all the young girls out there who are writing songs every day in their journals on their bedroom floors im constantly moved by your vulnerability and your creativity and bravery and i promise everyone here today is working to make this world and this industry a better place for you lastly i want to thank my team my amazing team and my label interscope and geffen and my amazing collaborator dan nigro i could not have done it without you guys and of course thank you to all of the strong smart kind women im lucky to work with and call my friends i look up to all of you so much thank you guys i love you so much have a great night get weekly rundowns straight to your inbox",
         "other",
         "[0. 0. 0. 0. 0. 0. 0. 0. 0. 0. 0. 0. 0. 0. 0. 0. 0. 0. 0. 1. 0. 0. 0. 0.\n 0. 0. 0. 0. 0.]"
        ],
        [
         "18",
         "keepin it strong style njpw star rocky romero spoke about his desire to have another run as iwgp junior heavyweight champion he previously held the title as tiger mask before retiring as well as his thoughts on impacts josh alexander who romero compares to the legendary kurt angle highlights from the interview are below says he still desires a run as iwgp junior heavyweight champion before he considers retirement i would like to be that similar to hiroshi tanahashi always proving people wrong as he ages or not at least like find my little story within that and kind of use that as some kind of inspiration so ive kind of put the pressure on myself like do it before 40 win the iwgp junior title i dont know what the stakes are because i dont wanna say oh im gonna retire at 40 but maybe its something i should think about to really put the pressure on or at least its something i should have a real serious conversation about because its fun to do it but if you still cant do it in certain ways like its hard for me to find the motivation after wrestling for so long you know it really is so if im not gonna do it at a top level then maybe i shouldnt be doing it praises impact x division champion josh alexander and compares him to kurt angle opponents josh alexander is definitely somebody who stands out i think hes kind of on the cusp of doing something really big i feel like yeah he does have an impact world title match coming up thats gonna be huge huge huge so i dont know i think hes kind of like our generations kurt angle if you well think about it and not just because he broke his neck and hes like an amateur wrestler but hes just so solid and i think his story is really good that hes not an overnight sensation it took him 12 years 13 years to get to where hes at just right now and hes still not even there right we still havent seen his full potential but hes obviously a super hard worker hes really gifted and i think that there could be big things coming for him and i would like to see him make that trip over to japan and wrestle all the guys imagine him and tomohiro ishii i mean theres so many guys he could wrestle and have really dope matches him and hirooki goto would probably be really sick too and thats just a guy that i think that would make that crossover really easily h t and transcribed by",
         "other",
         "[0. 0. 0. 0. 0. 0. 0. 0. 0. 0. 0. 0. 0. 0. 0. 0. 0. 0. 0. 1. 0. 0. 0. 0.\n 0. 0. 0. 0. 0.]"
        ],
        [
         "19",
         "helps you find new open source packages modules and frameworks and keep track of ones you depend upon",
         "other",
         "[0. 0. 0. 0. 0. 0. 0. 0. 0. 0. 0. 0. 0. 0. 0. 0. 0. 0. 0. 1. 0. 0. 0. 0.\n 0. 0. 0. 0. 0.]"
        ],
        [
         "20",
         "a belgian biotech firm claims it has developed a foolproof coronavirus antibody test that is 100 per cent accurate liege based zentech said it had started making tens of thousands of its government certified tests a week zentech plans to roll them out in belgium first before scaling up manufacturing to three million per month so the tests can be used in other european countries advertisement the devices detect if someone has previously had coronavirus and has since recovered even if they are unaware they were infected results take 15 minutes scientists say they are crucial for countries coming out of lockdown because they can tell who is likely to have immunity to the virus the announcement will raise hopes for antibody testing in the uk and spain where the government has struggles to one reliable enough for mass use britain says it will not consider rolling out any antibody test that is less than 98 per cent accurate there are two different types of antibody tests one which is done at home and takes a few minutes and another which is posted to a lab to be analysed both versions of the test are carried out using a finger pricker to extract a blood sample zentechs test is not suitable for home use",
         "other",
         "[0. 0. 0. 0. 0. 0. 0. 0. 0. 0. 0. 0. 0. 0. 0. 0. 0. 0. 0. 1. 0. 0. 0. 0.\n 0. 0. 0. 0. 0.]"
        ],
        [
         "21",
         "certain populations and strong bones unfortunately vitamin d is one of the more elusive vitamins it s not found in high concentrations in many foods and many people miss out on the one big opportunity to get vitamin d sun exposure because they re stuck inside their workplaces all day thus vitamin d deficiency is a worldwide problem if you think you might have vitamin d deficiency you should ask your doctor for a test to confirm you could also try an for vitamin d deficiency but it s up to you to do your research on the testing company and make sure it meets lab safety accuracy and efficacy standards cnet wellness our health wellness newsletter puts the best products updates and advice in your inbox whether or not you get tested if you decide to take a vitamin d supplement be careful not to exceed the tolerable upper intake level ul which is the maximum intake known to be safe the ul for vitamin dis 100 micrograms mcg or 4 000 international units iu per day for adults the recommended daily allowance rda is far below that at 15 mcg or 600 iu per dayfor adults ages 18 70 too much vitamin d from supplements can lead to vitamin d toxicity something clinicians are beginning to see more often because of vitamin d s skyrocketing popularity as a supplement either way before you start spending money on a you can try these six tactics for getting more vitamin d 1 open your office home or car window let some sunlight into your home office or car klaus vedfelt getty images whether or not your windows block uv depends on what kind of windows you have standard windows according to the international ultraviolet association do allow uv a rays but not uv b rays to pass through most windows in homes and buildings are treated in some way such as with a window film or tint that blocks both types of uv light from passing through since that s likely the case in your home or office and possibly your car opening the window can help you get more sunlight just be sure to wear sunscreen of at least 15 spf if you ll have the window open for a long time as well as uv blocking glasses or sunglasses if you re directly facing the open window if it s super sunny outside you may not need to open the window for more than 10 to 15 minutes to increase your vitamin d production read more vitamin c why you need it and how to get enough 2 drink your first cup of coffee outside we don t all have views this great but drinking your morning beverage outside can still be peaceful and aid in vitamin d production elena pueyo getty images coffee outside morning light isn t as harsh as sunlight later in the day but you can still meet at least some of your vitamin d needs this way if you work from home try doing this before you sit down at your desk you can totally still take a second cup for your initial stretch of computer work though if you work at an office or another workplace you might have to set your alarm a few minutes earlier to enjoy the morning light before you cringe at the thought of an",
         "other",
         "[0. 0. 0. 0. 0. 0. 0. 0. 0. 0. 0. 0. 0. 0. 0. 0. 0. 0. 0. 1. 0. 0. 0. 0.\n 0. 0. 0. 0. 0.]"
        ],
        [
         "22",
         "0 medical leadership is becoming more important perhaps because its becoming more common the american college of physician executives reports that more than five percent of hospital ceos are now physicians with that number growing rapidly under the value based system medical schools at duke university the university of wisconsin and the university of kentucky are now including medical leadership training offering courses such as accounting marketing and management training to go along with clinical coursework medical leadership is important because physicians relate best to other physicians and those who can learn the administrative side can help the healthcare system overcome one of its more persistent challenges bridging the gap that can often exist between administration and clinicians many physicians are also natural problem solvers so moving into executive roles and attempting to improve the delivery of healthcare is something many find appealing but moving from caregiver to leader isnt always easy and please note i use the term leader and not manager those are two very different terms a leader has the ability to affect change in a positive manner a leader inspires those around him or her to impart a willingness to improve a leader has goals drive and commitment and the skill set to achieve them a manager oversees the day to day operations of an organization yes good managers are important but we desperately need good leaders as the chief medical officer of a company with more than 9 000 affiliated physicians i find leadership development to be one of my most important responsibilities each year i strive to turn hundreds of physicians into leaders through education training and mentoring ive learned a lot about what works and what doesnt with regard to leadership development there is certainly no one size fits all when youre dealing with people but ive learned there are certain traits to look for when it comes to leadership read more",
         "other",
         "[0. 0. 0. 0. 0. 0. 0. 0. 0. 0. 0. 0. 0. 0. 0. 0. 0. 0. 0. 1. 0. 0. 0. 0.\n 0. 0. 0. 0. 0.]"
        ],
        [
         "23",
         "richard and joyce browning to corey miller and stephanie and jeffrey barefoot lot 30 hillview addition 265 000 linda mccaig to bryan johnson lots 1 3 holly hills subdivision 165 000 burrell properties llc to abdelaati and bridget kaiaa lot 25 westmeade subdivision 75 000 t scott lyons to dominic and tonya lanphier land near state street 285 000 joshua biggs and kaitlin hart to little lloy llc land near bethel lane 395 000 rebecca and jerry bridgeman jr to robert and monica burr lot 5 orchard hill 30 000 real asset investors of bowling green llc to carl and michele jablonski lot 616 greystone subdivision 256 775 alvaton properties llc to steven and lindsey maurer lot 88 drakes ridge subdivision 79 900 big dog investments llc to christian escobar lot 30 glen acres subdivision 146 000 jonathan and summer keen to ryan chamberlain lot 26 charleston place subdivision 284 900 daniel and linda jenkins to deborah eades lot 41 m c hinton subdivision 150 000 larry and barbara carlisle to sura alaa shaimaa salman and muhanad raheem and rafah alaa lot 170 hunters crossing subdivision 405 000 john horton to nora bryant and tevin bryant barksdale lot 152 mckinney farms subdivision 210 000 virendra darbar and ushabahen dabhi to nashville road real estate llc tract 2 minor subdivision plat book 12 page 73 875 000 rodgie and allison millet to clint and kimberly cobb lot 120 briarwood manor subdivision 389 900 dakota hall to shane and stephanie weckerly land near hammett hill 25 000 the jones company of kentucky ii llc to pamela barry lot 27 south oaks subdivision 250 000 handy homes llc to gm industries llp land near norris road 170 000 burch investments llc to james beck and lisa gregory beck lot 20 poplar grove subdivision 65 000 bull properties llc to c j ventures llc lot 30 robert loving subdivision 230 000 julio rangel and beatriz hernandez cerrito lot 4 autumn view subdivision 225 000 dominic and tonya lanphier to c l investments llc land near 13th street 230 000 jeffrey and deborah peeples to david and sarah miller lot 21 sherwood manor subdivision 520 000 billy joe pawley to jeffrey and deborah peeples lot 22 sherwood manor subdivision 415 000 charles and rita windham to romchang ros and panha meas and loeung t chau lot 91 deer meadows subdivision 330 000 m a williams properties inc to logan and kerri secrest lot 3 rivers landing edge subdivision 194 900 robin nickolakakos to van uk and nunu om thang lot 77 mccoy place subdivision 270 000 james and judy bishop to ac dc farm subdivision lot 5 john wheeler estate subdivision 125 000 michael and lynn minton to sabahudin and mirsada muratovic lots 8 1 and 7 1 plat book 23 page 119 40 000 jones bros properties llc to old kentucky home properties llc 900 w main ave and 985 victoria st 45 000 david and cindy runner marie and steven glasscock cindy runner and julie and allen barry to david and sara hunt land near bettersworth road 1 883 500 marie and steven glasscock to david and sara hunt land near bettersworth road 838 250 stonewood construction inc to james and stephanie wimsatt lot 29 drakesborough subdivision 97 500 brad carr to donald and andrea hardin lot 6 plat book 38 page 243 239 900 pat oconnor to ben and lauren duncan lot 126 crossings at cave mill subdivision 250 000 vanessa mcdaniel to monica alejandra gmurk land near rockfield church road 195 000 terrill and vicki garmon to the loft md salon and color studio llc unit 100 tower place professional condominiums 175 000 elizabeth and floyd jones jr to floyd ray jones jr and elizabeth n jones revocable trust lot 20 springhill subdivision no tax jessica and ryan bates and james durrant to deanna durrant lot 99 blue grass meadows subdivision no tax vap properties llc to ss and mm properties llc lot 22 countryside manor subdivision 9 900 000 979 llc to nelda and edwin wilbanks jr lots 117 and 118 cumberland ridge subdivision 85 000 gator development llc to ajw holdings llc lot 2 upton farms subdivision 48 500 sevenplus llc to eob properties llc lots 2 and 3 river bend commercial subdivision 2 200 000 jeffrey pierce to jjp investments llc lot 14 saddlebrook subdivision 225 000 portia lew to kyle barrick lot 6 the village at jennings creek subdivision 160 000 mark and tina updegraff and gregory and monica updegraff to lucas page and taylor rogers land in minor plat book 4 page 124 225 500 the rogers living trust dated sept 11 2002 by and through kathryn rogers to kathryn rogers lot 43 mccubbin subdivision 210 000 david and lisa richards to jeremy and brooke vincent lot 151 cumberland ridge subdivision and lot 177 plat book 40 pages 71 73 140 000 carter crossings llc to clayton properties group inc lots 74 75 83 84 87 89 95 and 99 carter crossings subdivision 434 411 jonathan and jerri miller to kelly miller land near slim island road 111 500 william abney to blake settle lot 358 briarwood manor subdivision 300 000 ernest cowles to dannie and shania yoder land near threlkel ferry road 63 430 christine and frederick siegle iii to stephen and kimberly lile lot 149 cumberland ridge subdivision 924 900 brian and melanie ewert to scott and hollie sanford lot 33 cobblestone subdivision 435 000 steven and j yvette pierantoni to thang l mung and dim pum hung lot 5 estates at lost river subdivision 224 000 marilynn lashbrook to reathel and kimberly moore lot 111 north ridge subdivision 176 000 southside development llc to hammer homes llc to 139 mclellan crossings subdivision 42 900",
         "other",
         "[0. 0. 0. 0. 0. 0. 0. 0. 0. 0. 0. 0. 0. 0. 0. 0. 0. 0. 0. 1. 0. 0. 0. 0.\n 0. 0. 0. 0. 0.]"
        ],
        [
         "24",
         "share this page on print primary content caption a us postal service employee unloads mail at a facility on february 10 2022 in houston texas on february 8 the house of representatives passed the postal service reform act of 2022 h r 3076 the legislation will address operational and financial issues that the agency has been grappling with for years a long awaited bill to fix the nation s deteriorating mail service is on the verge of passage in the senate but it could come at the expense of an even bigger and more complicated problem medicare solvency the postal service reform act of 2022would help shore up post office finances by ending the unusual and onerous legal requirement to fund 75 years of retirement health benefits in advance in return it would require future postal service retirees to enroll in medicare according to the congressional budget office the move could save the postal retirement and health programs about 5 6 billion through 2031 while adding 5 5 billion in costs to medicare during that span and probably much more in later years considering the massive size of medicare it spent 926 billion in 2020 the costs don t amount to much that small financial impact and the ongoing immediate crises with mail delivery probably account for the strong bipartisan support the postal bill has received in congress with 120 republicans joining democrats to pass the bill in the houseon feb 8 but late in the process some lawmakers are raising alarms over the move arguing that maybe congress should look more carefully at the financial impact to medicare s trust fund which is expected to run dry in 2026 this bill simply shifts risk to medicare recipients by adding billions of new costs to medicare sen rick scott r fla said feb 14 in blocking requests on the senate floor to expedite passage of the bill scott s objection delayed consideration of the bill until early march after the senate returns from its presidents day break currently postal service employees are covered by plans offered in the federal employees health benefits program when they retire they have several choices for health care including staying in their original plan or switching to medicare as their primary coverage and having an fehb plan serve as supplementary coverage about 20 of postal retirees do not sign up for medicare preferring their current federal plan under this legislation they would have to switch to medicare but they would keep a new postal service version of the fehb plan as secondary coverage since the change wouldn t fully take effect until 2025 and the congressional budget office s cost estimate doesn t capture a full decade scott wants to know the price tag for the next 10 and 20 year periods as well as the specific impacts on the various components of medicare such as premiums for medicare s part d drug plan and the part b program which covers a variety of outpatient services the overall cost is likely to be much more significant than the shorter term analysis found said robert moffit a senior fellow at the conservative heritage foundation who has also raised concerns there is a total cost that s being ignored moffit said you basically have a situation where you have unfunded liabilities in the postal service health benefits program retiree benefits that amount to about 75 billion that projected cost doesn t vanish it falls on medicare though the exact impact is unclear moffit agreed with scott that congress should be looking at longer term implications including effects on premiums and the costs borne by taxpayers and beneficiaries we ought to step back take a deep breath and look at what we re doing here moffit said postal service unions are not worried about the change however with all of them supporting the switch noted democrats who responded to scott earlier this month senate majority leader chuck schumer argued that the bill would save the government money overall and that moving postal retirees into medicare would ensure that they receive benefits they ve paid for but were not using for schumer and most other lawmakers the comparatively small impact on medicare is simply not as pressing as getting the mail delivered on time we will pass this bill because america needs it rural people need it senior citizens need it veterans need it 80 of the veterans prescriptions are sent through the mail schumer said nobody should be standing in the way of this bill scott is now among a minority objecting to the latest effort and pointing to medicare others who remain concerned about medicare s poor finances also thought fixing the problems with postal delivery was worth the cost to medicare i would let congress have a small win here and really this is not just a small win said mary johnson a social security and medicare policy analyst at the senior citizens league advocacy group she said the failures of the mail system also have health consequences with payments for insurance and shipments of prescriptions going missing which has happened to her the shift to medicare envisioned in the legislation could add to the sense of urgency all those retired postal workers would be joining medicare just in time for a solvency crisis if congress drags its feet it s inaction in congress that would cause that johnson said johnson noted it will be difficult to reach a bipartisan consensus on something as momentous as medicare reform you re going to have to pass something and it depends on who s the majority it may not be very pretty when it happens",
         "other",
         "[0. 0. 0. 0. 0. 0. 0. 0. 0. 0. 0. 0. 0. 0. 0. 0. 0. 0. 0. 1. 0. 0. 0. 0.\n 0. 0. 0. 0. 0.]"
        ],
        [
         "25",
         "become a member for free sign up",
         "other",
         "[0. 0. 0. 0. 0. 0. 0. 0. 0. 0. 0. 0. 0. 0. 0. 0. 0. 0. 0. 1. 0. 0. 0. 0.\n 0. 0. 0. 0. 0.]"
        ],
        [
         "26",
         "the mention sources can contact us to remove changing this article what are the main benefits of comparing car insurance quotes online los angeles ca accesswire june 24 2020 compare autoinsurance org has launched a new blog post that presents the main benefits of comparing multiple car insurance quotes for more info and free online quotes please visit https compare autoinsurance org the advantages of comparing prices with car insurance quotes online the modern society has numerous technological advantages one important advantage is the speed at which information is sent and received with the help of the internet the shopping habits of many persons have drastically changed the car insurance industry hasn t remained untouched by these changes on the internet drivers can compare insurance prices and find out which sellers have the best offers view photos the advantages of comparing online car insurance quotes are the following online quotes can be obtained from anywhere and at any time unlike physical insurance agencies websites don t have a specific schedule and they are available at any time drivers that have busy working schedules can compare quotes from anywhere and at any time even at midnight multiple choices almost all insurance providers no matter if they are well known brands or just local insurers have an online presence online quotes will allow policyholders the chance to discover multiple insurance companies and check their prices drivers are no longer required to get quotes from just a few known insurance companies also local and regional insurers can provide lower insurance rates for the same services accurate insurance estimates online quotes can only be accurate if the customers provide accurate and real info about their car models and driving history lying about past driving incidents can make the price estimates to be lower but when dealing with an insurance company lying to them is useless usually insurance companies will do research about a potential customer before granting him coverage online quotes can be sorted easily although drivers are recommended to not choose a policy just based on its price drivers can easily sort quotes by insurance price using brokerage websites will allow drivers to get quotes from multiple insurers thus making the comparison faster and easier for additional info money saving tips and free car insurance quotes visit https compare autoinsurance org compare autoinsurance org is an online provider of life home health and auto insurance quotes this website is unique because it does not simply stick to one kind of insurance provider but brings the clients the best deals from many different online insurance carriers in this way clients have access to offers from multiple carriers all in one place this website on this site customers have access to quotes for insurance plans from various agencies such as local or nationwide agencies brand names insurance companies etc online quotes can easily help drivers obtain better car insurance deals all they have to do is to complete an online form with accurate and real info then compare prices said russell rabichev marketing director of internet marketing company contact company name internet marketing companyperson for contact name gurgu cphone number 818 359 3898email https compare autoinsurance org source compare autoinsurance org view source version on accesswire com https www accesswire com 595055 what are the main benefits of comparing car insurance quotes online view photos to request modification contact us at",
         "other",
         "[0. 0. 0. 0. 0. 0. 0. 0. 0. 0. 0. 0. 0. 0. 0. 0. 0. 0. 0. 1. 0. 0. 0. 0.\n 0. 0. 0. 0. 0.]"
        ],
        [
         "27",
         "future adelaide don t miss out on the headlines from future adelaide followed categories will be added to my news since year 8 kuvam lockyer sharrock has had his mind set on a career in nursing so when a family friend suggested working in aged care would give him a stepping stone to fulfilling his dream he jumped at the chance during his final year at high school mr lockyer sharrock completed a certificate iii in individual support ageing through vocational education training vet with holiday placements at a local residential aged care home upon gaining his qualification and having finished high school he opted to take time out from studying and continued working at the facility i wanted to take a gap year to build as much savings as i could so being able to work from the get go was a great way to be able to do that the 19 year old said it has been great because i have gained hands on experience and learned a different aspect of nursing during his studies mr lockyer sharrock was a finalist at the sa training awards it was a very good feeling for me its something im very proud of he said with his gap year coming to an end his sights are now set on gaining a bachelor of nursing and taking the next step in his career with my placements i know a bit about working in a medical field so i feel i have gained a leg up he said more related stories",
         "other",
         "[0. 0. 0. 0. 0. 0. 0. 0. 0. 0. 0. 0. 0. 0. 0. 0. 0. 0. 0. 1. 0. 0. 0. 0.\n 0. 0. 0. 0. 0.]"
        ],
        [
         "28",
         "and the perception of dementia within the community may be a helpful starting point to make the experience of seeking and receiving dementia more inclusive to the south asian community access to services after diagnosis access to appropriate services is crucial to maintain the quality of life for people living with dementia and their care partner across canada multiple organizations provide such services advertisement this advertisement has not loaded yet but your article continues below article content social and recreational services often include bingo line dancing and discussing western art and literature which may not be inviting or appropriate to a person living with dementia from the south asian community support groups for care partners may be a challenge due to the cultural differences in providing care for the elderly in western culture a move to is often the final stage for care partners to ensure their loved ones are safe and cared for this is a difficult conversation in south asian communities where filial piety plays a significant role and the financial responsibility associated with long term care may also be a factor for some families in this way home care becomes an integral part of dementia care in the south asian community advertisement this advertisement has not loaded yet but your article continues below article content to ensure a comfortable stay within the community services need to be more culturally inclusive in terms of content and structure of the services the language of delivery and culturally appropriate advertisement of the available services to help improve the lives of south asian canadians living with dementia and their care partners it is time we take steps to ensure canadas mandate for diversity and inclusivity are reflected within our health care system navjot gill is a doctoral student at university of waterloo this article is republished from the conversation under a creative commons license read the",
         "other",
         "[0. 0. 0. 0. 0. 0. 0. 0. 0. 0. 0. 0. 0. 0. 0. 0. 0. 0. 0. 1. 0. 0. 0. 0.\n 0. 0. 0. 0. 0.]"
        ],
        [
         "29",
         "bank of america national association date approved may 3 2020 companies and nonprofit organizations that receive ppp loans may have the loans forgiven if they meet certain criteria including not laying off employees during an 8 week period covered by the loan applicants must attest in their application that the loans are necessary for their continuing operation note this data includes loan applications approved by banks and submitted to the sba it may not reflect money distributed to or credit used by a given company if you are a representative of this company and believe this record is in error has your company received ppp money we want to know what this means for your workplace how has your company treated its workers during the crisis have you or your colleagues been laid off furloughed or otherwise affected have you seen money used in surprising ways what do you think we should be reporting on this form requires javascript to complete powered by citybase about this data this data comes from the small business administration and includes lender approved loans under the paycheck protection program of at least 150 000 the federal government data on loan approvals of less than 150 000 and that data was used to calculate summary figures for states organizations with lender approved loans of less than 150 000 do not appear in this data other loan programs such as economic injury disaster loans are not included in this database journalists thank you for using this database please cite propublica by linking to this page questions contact us",
         "other",
         "[0. 0. 0. 0. 0. 0. 0. 0. 0. 0. 0. 0. 0. 0. 0. 0. 0. 0. 0. 1. 0. 0. 0. 0.\n 0. 0. 0. 0. 0.]"
        ],
        [
         "30",
         "the marilyn manson impersonator gave up i am great battles great celebrities which left his followers very sorry faced with this surprising event mauri stern a member of the jury table decided to pronounce himself through his social networks in its the former magneto member regretted that mike bravo you have decided to step aside for family reasons and took the opportunity to express your good wishes mike dear you know we always wish you the best we will miss you take care of yourself and your precious family wrote the mexican producer as well mauri stern accompanied his message with a video of the presentation of sweet dreams that marilyn manson and gaona performed on the program let us remember that in the last edition of i am great battles great celebrities it was indicated that marilyn manson resigned because two more people in his family became ill and he wants to be with them to help them mike will always have the doors of i am so that he can come back when he sees fit we are here for you and we will always support you said adolfo aguilar mauri stern asked marilyn manson for more humility in the penultimate edition of i am great battles great celebrities mauri stern caught the attention of the marilyn manson impersonator for his attitude towards gaona and the other participants on the show you have to put your feet on the ground a little more observe your co workers a little more connect feel we are talking about communication mauri stern latest news subscribe here to the espectculos la repblica newsletter and receive from monday to saturday in your email the most outstanding news of national and international entertainment as well as the topics that are trending on social networks mauri stern marilyn manson care family tags",
         "other",
         "[0. 0. 0. 0. 0. 0. 0. 0. 0. 0. 0. 0. 0. 0. 0. 0. 0. 0. 0. 1. 0. 0. 0. 0.\n 0. 0. 0. 0. 0.]"
        ],
        [
         "31",
         "pin theres a special sort of fanfare in the whiskey community that is reserved for when a new distiller of kentucky straight bourbon officially comes of age this milestone is of course achieved when they release their first brand of straight bourbon which can technically be done after the whiskey has spent two years resting in newly charred oak barrels more commonly though distilleries opt to wait until the whiskey reaches four years old at which point it can legally be labeled as simply kentucky straight bourbon whiskey without any additional need for an exact age statement that is the moment when its generally reckoned that a distillery has officially graduated to becoming a full member of the kentucky bourbon community and for castle key that time has finally come castle key is a distillery that has had oceans and reams of copy written about it since co founders will arvin and wes murry purchased the defunct derelict site of the old taylor distillery which had been out of commission since 1972 after buying the site in 2014 and beginning its restoration into a modern distillery castle key has subsequently produced an array of new products including some really excellent punchy gin and the brands first whiskey restoration rye but a veritable army of kentucky bourbon obsessives have been patiently waiting on this release castle keys first branded kentucky straight bourbon there was so much anticipation in fact that bottles sold out in minutes lost in the shuffle meanwhile is the rather odd route that the brand has taken to get to this point after beginning its distilling operations in the mid 2010s the distillery garnered tons of headlines for its hiring of former brown forman distiller marianne eaves as its master distiller making her the first female master distiller working for a kentucky distillery since before prohibition eaves quickly became the focus of almost all of the companys pr over the next few years but she then seemingly unexpectedly left castle key in mid 2019 before any of the whiskey shed distilled for the company had ever been released subsequently eaves has referred to the experience positively as a fairy tale job but never quite explained why she decided to transition instead into a career of industry consultingand freelance blending distilling shes since given birth to her first child and launched a variety of initiatives including a blind tasting box service called eaves blind castle key meanwhile seemed to react to eaves departure by scrubbing whatever traces of the former master distiller still remained from the companys branding you wont find any reference to her in any of the company press releases announcing this bourbon for instance despite the fact that she presumably oversaw its initial distillation and aging nor has castle key ever seemingly hired or promoted another individual to the job title of master distiller having seemingly done away with the job title entirely since eaves left in 2019 curious if the company wanted to clarify this situation i reached out with some questions which received no reply it remains a confusing footnote in the castle key story edit after publication i heard back from a castle key representative who said the following after joining the castle key team marianne helped to develop castle keys recipes processes and oversaw distillation until 2019 she departed castle key before our whiskey was at a point of maturity castle keys new bourbon reflects the blending skills of jon brown castle keys quality manager who runs the research development department and brett connors who handles blending at the distillery on a day to day basis regardless we have a new bourbon to taste today castle keys bourbon mash bill is stated to be 73 white corn 10 rye and an unusually high 17 malted barley making this effectively something like a high malt bourbon this first release was created as two separate small batches of 80 barrels each both of which are blends of barrels aged 4 years theyre bottled at almost identical strengths of 49 98 proof for batch 1 and 49 5 99 proof for batch 2 my review sample is from batch 1 and both batches carry a roughly 50 msrp so with all that said lets get to tasting on the nose there are some classic elements here and also some notes that would seemingly imply this is still a fairly young spirit im getting both brown sugar and honey along with some more floral impressions fresh apples cola like spice dry roasted peanut shells and oak that has more than a little sawdust impression the latter note in particular feels like a more youthful one on the palate things turn sweeter with prominent notes of vanilla cream and simultaneous impressions of both honey and toffee its a little bit bready doughy likely from that higher share of malted barley in the grist along with impressions of cinnamon sugar and peanut brittle and more of that apple flesh the ethanol doesnt express itself in a particularly hot way on the palate but there is a certain raw booziness in terms of flavor that detracts a bit from the overall profile the finish meanwhile seems quite short to me seemingly disappearing moments after the initial sip and taste has abided all in all the profile simply isnt quite as bold as i hoped it might be at this proof point at the end of the day this is a fine kentucky straight bourbon and im glad that it carries a reasonable msrp of 50 in a beautiful bottle which is in line at least with what consumers now expect to pay for the first release from a smaller craft distillery but at the same time i feel this release may feel like something of a disappointment to some whiskey geeks who have been reading so much about castle key for so long and an indication that perhaps their spirit still needs more time to truly come into its own heres hoping that subsequent batches continue to mature or perhaps incorporate older spirit and that castle key continues to make strides forward in the meantime distillery",
         "other",
         "[0. 0. 0. 0. 0. 0. 0. 0. 0. 0. 0. 0. 0. 0. 0. 0. 0. 0. 0. 1. 0. 0. 0. 0.\n 0. 0. 0. 0. 0.]"
        ],
        [
         "32",
         "swarm launched satellites on astra mission by jeff foust march 22 2022 the march 15 launch of astra s rocket 3 3 carried 16 spacebee satellites for swarm technologies a customer who was undisclosed at the time of the launch credit brady kenniston astra washington swarm technologies was the unidentified customer of an astra space launch this month that placed 16 of its tiny satellites into orbit the march 15 launch of astras rocket 3 3 from kodiak island alaska carried the oresat0 cubesat from the portland state aerospace society as well as a payload by nearspace launch that remained attached to the rockets upper stage as planned the launch also included payloads from a third unnamed customer neither astra nor spaceflight which arranged for the launch disclosed the identity of that customer or how many payloads it had on board u s space force tracking data on the space track org online database listed 20 objects associated with the launch the large number prompted industry speculation that swarm was the customer since it has built and launched dozens of its spacebee satellites that are one quarter the size of a single unit cubesat and thus could be easily accommodated on the rocket space track did not list the names of any of the objects linked to the launch giving them only letter designations in a march 21 email newsletter swarm mentioned a recent launch we recently launched 16 new vhf satellites into a 5 30 a m ltdn orbit which splits our largest gap between orbital planes in half the company stated ltdn or local time of descending node refers to the time when the satellites cross the equator from north to south the newsletter did not mention when the satellites were launched or by whom sara spangelo chief executive of swarm confirmed in an interview after a panel session at the satellite 2022 conference march 22 that her company acquired by spacex in 2021 was the unidentified customer for the launch she said she expected the formal identification of the swarm satellites to show up in space track within days swarm plans additional launches to fill in gaps in the constellation and provide more frequent passes the newsletter referred to four committed upcoming launches this year that will reduce latencies for swarms internet of things tracking services to less than one hour at the 90th percentile by june those latencies will drop to less than 30 minutes for locations poleward of 30 degrees latitude by august were excited to keep filling out the constellation just like we were planning prior to the merger spangelo said she added that the astra launch was a one off event future launches would likely be on spacexs transporter series of falcon 9 rideshare missions swarm is a rare case of a company acquired by spacex during a separate panel discussion at satellite 2022 march 22 gwynne shotwell president and chief operating officer of spacex said the only other company spacex has acquired in its 20 year history was a machine shop several years earlier it was a very interesting company she said of swarm citing its ability to build out a satellite network despite limited resources we were quite interested in how they did they do it how did they pull it together on that kind of budget with that number of people and the people are great so that was really what that was about she added a very like minded company albeit much tinier",
         "other",
         "[0. 0. 0. 0. 0. 0. 0. 0. 0. 0. 0. 0. 0. 0. 0. 0. 0. 0. 0. 1. 0. 0. 0. 0.\n 0. 0. 0. 0. 0.]"
        ],
        [
         "33",
         "1637084142 tech team breaks world record for biggest domino chain of laptops a tech team has smashed the world record for the biggest domino chain of laptops with 752 toppling one after the other staff at recycling company out of use lined up the broken second hand computers and beat the previous world record by more than 200 laptops the huge chain of laptops snaked all the way around their factory in beringen belgium before they were toppled on november 7th robbe papen marketing manager said we were all very nervous leading up to it you only get one chance at such a record attempt sign up to our free newsletters by",
         "other",
         "[0. 0. 0. 0. 0. 0. 0. 0. 0. 0. 0. 0. 0. 0. 0. 0. 0. 0. 0. 1. 0. 0. 0. 0.\n 0. 0. 0. 0. 0.]"
        ],
        [
         "34",
         "mersey care has only had five covid 19 deaths because it is a mental health and disability services trust 2 december 2020 what was claimed mersey care nhs foundation trust have had five deaths related to covid 19 and all patients that passed away had pre existing conditions our verdict this is true but mersey care nhs foundation trust provides mental health addiction learning disability and community health services so is not expected to treat those seriously ill with covid 19 a poston facebook with over 1 000 shares shows a freedom of information foi request to mersey care nhs foundation trust which says that there were only five deaths related to covid 19 in that trust and that those patients all had pre existing conditions the post goes on to say that mersey care provides services across 80 sites in the north west and has over 7000 staff serving a population of almost 11 million people mersey care told us that it was a genuine foi response saying the figures in the foi response relate to patients in mersey care nhs foundation trust they do not represent figures for the whole of the liverpool or merseyside area this is no secretwe can see from publicly accessible data that the trust had had five covid 19 deathsas of 30 november but the key issue here is that mersey careis a trust that offers adult specialist mental health addiction learning disability and community health services it does have over 7 000 staff and serves almost 11 millionpeople as the post claims but offers mental health and learning disabilities care this trust doesnt provideservices like its own accident emergency units respiratory wards or intensive care units or other services that we would expect to treat seriously ill covid 19 patients other nhs trusts in the merseyside area that do provide these types of service have seen many more covid 19 deaths for example liverpool university hospitals nhs foundation trust which runs hospitalsincluding royal liverpool aintree and broadgreen has recorded 928 deathsfrom covid 19 as of 2 december weve written about similar claims like this before where people have sent freedom of information requests to trusts that dont provide relevant services asking how many covid 19 deaths they have recorded this article is part of our work fact checking potentially false pictures videos and stories on facebook you can read more about thisand find out how to report facebook content",
         "other",
         "[0. 0. 0. 0. 0. 0. 0. 0. 0. 0. 0. 0. 0. 0. 0. 0. 0. 0. 0. 1. 0. 0. 0. 0.\n 0. 0. 0. 0. 0.]"
        ],
        [
         "35",
         "find your bookmarks in your independent premiumsection under my profile don t show me this message again wayne rooney is currently in charge of derby county getty images wayne rooney has revealed his main motivation behind going into management was to one day take charge of manchester united rooney has remained committed to derby countyduring their financial turmoil and championship relegation battle and admitted he turned down an interview at evertonas it might impact his chances of one day returning to old trafford the whole reason in me going into management is manchester united i got offered the job interview for the everton job rooney told the sun i want to be manchester united manager i know i am not ready now but i have to plan everything i do to make sure one day it will happen rooney who is manchester uniteds all time leading goalscorer also urged marcus rashford to remain at the club and attempt to break that record amid reports the forward is prepared to move on this summer recommended every morning hed check the grass was the right length what its like to play for erik ten hag to get the record and be uniteds highest goal scorer is f massive he said what i hope is that marcus rashford f gets his head out of his a and goes and breaks that record he is a manchester lad rooney also pulled no punches when referring to cristiano ronaldo as f annoying and called rio ferdinand arrogant rooney also revealed how when he was 14 he had once told sir alex ferguson to f off sir alex ferguson tried to sign me when i was 14 he was on the phone to my mum and dad rooney said they said alex is on the phone manchester united want to sign you i said tell him to f off i want to play for everton then as time went on i knew i had to play for alex ferguson the reason i signed for united was alex ferguson register for free to continue reading registration is a free and easy way to support our truly independent journalism by registering you will also enjoy limited access to premium articles exclusive newsletters commenting and virtual events with our leading journalists register please enter a valid email please enter a valid email password must be at least 6 characters include an upper and lower case character and a number must be at least 6 characters include an upper and lower case character and a number must be at least 6 characters include an upper and lower case character and a number first name please enter your first name special characters arent allowed please enter a name between 1 and 40 characters last name please enter your last name special characters arent allowed please enter a name between 1 and 40 characters you must be over 18 years old to register you must be over 18 years old to register year of birth i would like to be emailed about offers events and updates from the independent read our privacy notice opt out policy you can opt out at any time by signing in to your account to manage your preferences each email has a link to unsubscribe verifyerrors message verifyerrors verifyerrors message verifyerrors create my account by clicking create my account you confirm that your data has been entered correctly and you have read and agree to our",
         "other",
         "[0. 0. 0. 0. 0. 0. 0. 0. 0. 0. 0. 0. 0. 0. 0. 0. 0. 0. 0. 1. 0. 0. 0. 0.\n 0. 0. 0. 0. 0.]"
        ],
        [
         "36",
         "save you and i have been around for a lot of christmases we have given and received many gifts most of those of course have been forgotten over time most of us cant even remember what we got for our birthday this year much less christmas 2010 yet of all the christmases and all the gifts one still stands out most in my mind the 12 envelopes gift from my wife granted some of you might already know of this gift as ive written about it before yet good things bear repeating in 2012 my wife presented me with 12 sealed envelopes each one marked with a different month contained a pre planned date fitting for that time of year winter included a date at the ymca summer had a date to the lake perhaps one of the most memorable dates took place in july when we pitched a tent in the backyard where we watched a movie and spent the night while we certainly could have watched a movie inside and slept in our bed the change of scenery and a bit of variety helped keep love alive and were not even campers as a therapist i could certainly explain in very technical terms why these date certificates are such a powerful way to keep love alive but just like most people dont care how the mechanic fixes their car or why the aspirin takes the pain away i wont bore you with the details personally i liked knowing that no matter how busy the month got a date was already planned it became a beacon to look forward to during choppy times like watching the clock slowly tick down until halftime when you can get a little rest and recoup and we never had the well what should we do question that so often puts a damper on date night plus since each month had a different activity we never got bored with repetition which really can become a problem i also felt like she really knew me she was clever enough to pick activities that i would have planned for myself but likely not taken the time or effort to do so finally im a big fan of things that dont cost a lot of money not that i mind spending money but im surprised how often the extra financial investment doesnt pay back with a huge increase in enjoyment compared to the more basic and less costly option so rather than handing over a bunch of cash a simple date of stargazing in the park was all that was necessary to keep love alive this christmas a lot of jewelry will be sold a lot of chocolates will be purchased and a lot of gym memberships renewed while each of these can be excellent in helping keep a relationship strong most of them will be forgotten over time perhaps instead the greatest gift would be 12 small dates personally crafted simply wrapped in plain white envelopes as has been said there is beauty in simplicity wishing you and yours a beautiful and simple christmas season full of lifes richest blessings for more tips on keeping your love alive visit www panhandlecouples com remember couple relationships are easier than you think but harder than you act mark anderson is a mental health therapist specializing in couples therapy he is in private practice in scottsbluff at oregon trail mental health he can be reached at 635 2800 or online at www panhandlecouples com mark anderson is a mental health therapist specializing in couples therapy at oregon trail mental health in scottsbluff to contact him call 308 635 2800 or visit online at www panhandlecouples com",
         "other",
         "[0. 0. 0. 0. 0. 0. 0. 0. 0. 0. 0. 0. 0. 0. 0. 0. 0. 0. 0. 1. 0. 0. 0. 0.\n 0. 0. 0. 0. 0.]"
        ],
        [
         "37",
         "register now event description join us friday march 23 2018 to celebrate the grand opening of the beaufort sound hearing and balance center an independently owned and operated audiology clinic located in beaufort sc catered by moe s of beaufort",
         "other",
         "[0. 0. 0. 0. 0. 0. 0. 0. 0. 0. 0. 0. 0. 0. 0. 0. 0. 0. 0. 1. 0. 0. 0. 0.\n 0. 0. 0. 0. 0.]"
        ],
        [
         "38",
         "mar 28 2022 6 48am new processes and systems likely to be required the launch of a five year virtual care strategy by nsw health is likely to lead to wide ranging changes to the organisations it itnews has learned a nsw health spokesperson said the strategy is likely to need new processes and technology to underpin an expanded suite of virtual care offerings health authorities around the country have been paying more attention to virtual care needs since the emergence of covid 19 nsw health said the pandemic has led to a significant increase in technologies such as remote monitoring and virtual clinical consultations and that it now wants to build on this strong momentum as well as remote monitoring and virtual consultations nsw health wants the virtual care strategy to cover care planning and coordination across different providers clinical collaboration innovation and research patient self management and a digitally capable workforce while it hasnt yet determined the likely impacts on its existing it systems nsw health is aware that expanding virtual care will have knock on impacts to manage those impacts a virtual care taskforce has been established the taskforce will coordinate the delivery of the activities required to implement this strategy including investing in people designing new processes and building technology that will underpin virtual care existing it systems software and processes will be evaluated nsw health said and new technologies will be introduced through joined up procurement and implementation approaches the virtual care strategy would build on other local innovations including geriatric outreach telestroke and eicu a program first funded in 2021 to provide enhanced support for regional icu beds the strategy was first announced by nsw health at the beginning of february got a news tip for our journalists share it with us anonymously here copyright itnews com au all rights reserved tags",
         "other",
         "[0. 0. 0. 0. 0. 0. 0. 0. 0. 0. 0. 0. 0. 0. 0. 0. 0. 0. 0. 1. 0. 0. 0. 0.\n 0. 0. 0. 0. 0.]"
        ],
        [
         "39",
         "mag holdings bhd according to jf apex research serba dinamik has formally appointed ernst young consulting sdn bhd as the special independent reviewer to assist the board in undertaking the special independent review on the issues raised by its former external auditor kpmg plt media prima is paying rm156 4mil to buy back balai berita bangsar one of two properties it sold to permodalan nasional bhd pnb for rm280mil in 2018 uem sunrise has sold three parcels of freehold agriculture land in mersing johor to lagenda properties for rm45 1mil translating to rm2 40 per sq ft for the plots measuring 431 1 acres guh holdings and fellow shareholders of straits international education group sdn bhd are disposing of their stakes in the education group to tenby educare sdn bhd for rm52 5mil shareholders of mag holdings have approved the acquisition of a 100 equity interest in north cube sdn bhd for rm200mil at the extraordinary general meeting china automobile parts is making another attempt at regularising its practice note 17 condition by inking a memorandum of understanding with several vendors for the acquisition of singapore based tenda construction equipment pte ltd and tenda equipment services pte ltd following the recent lacklustre performance jf apex said the fbm klci is expected to remain sluggish with support at 1 530 points after the selldown in march 2020 the fbm klci hit the lowest since may 2010 but staged a sharp rebound to almost 1 700 points in december since january the index has been trending sideways but last months decline broke the support of 1 550 points it said article type metered kpmg to pay rm333mil to msian govt as 1mdb settlement says finance ministry china stocks down over 1 on evergrande fallout fears tobacco firm philip morris seals deal for uk s vectura with 75 support asian shares fall on chinese developers woes japan cuts economic view on weaker production spending due to covid revival hk stocks drop 2 to 2021 low on evergrande contagion fears indonesia s telkom to pursue ipo of unit in q4 plans spinoffs malaysia s kimanis oil exports to fall on issue at shell field oil prices extend gains after draw in u s stocks asian shares fall again dollar drifts trending in business",
         "other",
         "[0. 0. 0. 0. 0. 0. 0. 0. 0. 0. 0. 0. 0. 0. 0. 0. 0. 0. 0. 1. 0. 0. 0. 0.\n 0. 0. 0. 0. 0.]"
        ],
        [
         "40",
         "pgpm class of 2021 this year the average ctc of the top 25 and top 50 of the batch are rs 31 lakh and rs 28 7 lakh respectively pgpm is a one year full time aicte approved executive programme preceded by three months of online learning for professionals with five years of work experience and strong domain expertise who wish to accelerate their careers into leadership roles in general management the placement process involved 75 companies and 130 participants this season saw active participation across diverse companies with consulting accounting for 51 of the hiring and technology for 39 several new companies joined the process this year recruiters included accenture bain bristlecone cognizant flipkart ibm indegene infosys consulting kpmg lti o9solutions redington robosoft technologies sapient stovecraft thoucentric tiger analytics and xpressbees amongst others spjimr s dean dr varun nagaraj said it is heartening to see these results in a difficult covid hit year we are confident that india inc will benefit from the drive and innovation that our participants will bring to their organisations read more news on",
         "other",
         "[0. 0. 0. 0. 0. 0. 0. 0. 0. 0. 0. 0. 0. 0. 0. 0. 0. 0. 0. 1. 0. 0. 0. 0.\n 0. 0. 0. 0. 0.]"
        ],
        [
         "41",
         "experienced medical writer oxford job description seques www seques biz is the first global healthcare communications agency to specialize in the field of genomics it combines expertise in genetics and healthcare communications to create scientifically accurate and impactful programmes in partnership with pharmaceutical biotechnology and diagnostic clients seques is the newest amiculum www amiculum biz agency amiculum is a leading independent global healthcare communications and consulting business with teams based in new zealand china singapore uae switzerland uk and usa it comprises an integrated cluster of branded agencies and specialisms encompassing medical communications healthcare learning clinical and commercial consultancy market access rare diseases genomic medicine digital engagement and advocacy as a result of exciting business growth we have a new vacancy for an experienced medical writer to join our uk based team the role can be based from any of our six uk office locations dundee manchester bollington oxford richmond or brighton responsibilities will include generating captivating content that is scientifically accurate and aligned with client objectives building positive relationships with leading clinicians from around the world providing scientific input and insight to clients and internal account teams ensuring consistency and quality of output through effective briefing and reviewing working effectively with colleagues to ensure projects are delivered to the highest standards within agreed timelines and budgets mentoring trainee writers and supporting editorial coordination sharing knowledge ideas and best practice with colleagues requirements candidates for this role should have significant experience in a similar role at a medical communications agency an academic background in biomedical science phd desirable a passion for all healthcare related topics experience in genomic medicine and or oncology is preferable excellent written and verbal communica",
         "other",
         "[0. 0. 0. 0. 0. 0. 0. 0. 0. 0. 0. 0. 0. 0. 0. 0. 0. 0. 0. 1. 0. 0. 0. 0.\n 0. 0. 0. 0. 0.]"
        ],
        [
         "42",
         "download 1 40 mb diabetes health care has become a postcode lottery with data revealing access to new medications can depend on where you live and how much you earn people who live in remote and lower socioeconomic areas were far more likely to be using older and less effective medications than those in wealthier cities according to the baker heart and diabetes institute data released today duration",
         "other",
         "[0. 0. 0. 0. 0. 0. 0. 0. 0. 0. 0. 0. 0. 0. 0. 0. 0. 0. 0. 1. 0. 0. 0. 0.\n 0. 0. 0. 0. 0.]"
        ],
        [
         "43",
         "view comments i want all children to be successful in life thats a belief i shared with my late husband tom both of us had backgrounds in physical education like me tom was an advocate for living an active lifestyle and promoting fitness particularly in children being active is crucial for children as they grow into healthy adults quality physical education can help them get there and thats more important than ever at a time when our country faces a startling obesity epidemic how bad is this problem in less than two generations physical activity has dropped by 40 percent among adults even more alarming is the fact that nearly three quarters of youth in the united states dont get the 60 minutes of physical activity per day recommended by health experts this inactivity epidemic is extremely serious and the consequences are deadly research shows that one in 10 premature deaths in the u s are already the result of inactivity inactivity increases the risk of heart disease type 2 diabetes and certain types of cancer theres a major financial impact as well inactivity costs the american economy about 117 billion each year inactivity also contributes to obesity one of the big reasons why over 70 percent of young adults nationwide cant qualify for military service that figure is 74 percent here in tennessee despite these negative impacts roughly half of american high school students dont currently have any physical education in an average week and 96 percent of elementary schools offer less than 2 5 hours of pe per week here in tennessee 59 percent of high school students dont get any pe during the school week tennessee does not require a minimum number of minutes per week that schools have to provide pe to students the tom cronan physical education act would change that i want us to do whatever we can to help all children have the best shot at success in their lives the tom cronan physical education act named for my late husband will help achieve that goal by placing a greater emphasis on physical education in schools helping our kids to be more active the bill makes sure that every tennessee student in elementary school will have at least two pe classes per week the total physical education class time each full calendar week shall be no less than sixty 60 minutes just as important a licensed teacher with specific pe credentials must teach the class moreover the act requires leas to assess and report annually that their pe programs have met these criteria helping children reach their full potential was a dream i shared with my late husband if we want to fight inactivity and obesity head on we need to emphasize quality physical education in our schools passing the tom cronan physical education act would be an important step in that direction the stakes are nothing short of the future well being of our state joan cronan is womens athletic director emeritus at the university of tennessee",
         "other",
         "[0. 0. 0. 0. 0. 0. 0. 0. 0. 0. 0. 0. 0. 0. 0. 0. 0. 0. 0. 1. 0. 0. 0. 0.\n 0. 0. 0. 0. 0.]"
        ],
        [
         "44",
         "deep down the playstation 4 exclusive action game showcased by capcom at the very beginning of this console generation it stunned everyone with the amazing graphics powered by the so called panta rhei game engine the game itself was meant to be a single player and cooperative dungeon crawler where the player character a member of an organization called ravens would be able to time travel from the present day 2094 in game to the past where they d fight foes including the fire breathing dragon showcased in the featured image above in procedurally generated dungeons monster hunter world iceborne update 11 50 now live new special events dated sadly neither deep down nor the panta rhei engine really went anywhere and capcom moved to other game projects and other engines as well the latest titles use the mt framework or the re engine however that does not mean there is no hope left for deep down in an interview published today on eurogamer capcom s yoshinori ono who was going to produce the title alongside kazunori sugiura said i haven t been called mr deep down quite yet the original team is clearly no longer together at this point but people might have noticed that we ve kept the trademark registered and it s not been completely given up on every year we examine titles we re doing in the future and we bring up projects to approve and move forward there s not much i can say about it but if you ve noticed we ve kept the trademark it means we haven t given up on the title completely we did have the concept developed a bit further than that the tgs demo but yeah it s not happening any time soon then but it is also not out of the question perhaps its concept was simply too ambitious for the current generation of hardware and could be revisited when the playstation 5 and the next xbox come out on the other hand the game appeared to be fairly similar to dragon s dogma and creator hideaki itsuno would you like to see deep down release at some point let us know in the comments",
         "other",
         "[0. 0. 0. 0. 0. 0. 0. 0. 0. 0. 0. 0. 0. 0. 0. 0. 0. 0. 0. 1. 0. 0. 0. 0.\n 0. 0. 0. 0. 0.]"
        ],
        [
         "45",
         "the very worst place in the great lakes for an oil spill to happen the pipeline should not be there at all but now enbridge wants to go even further blasting a new underground tunnel beneath the straits to replace the existing underwater pipeline a broad coalition of michiganders have come together to oppose line 5 including michigan governor gretchen whitmer and attorney general dana nessel the msca was created by the states former republican governor rick snyder during his last days in office as a rubber stamp organization to legitimize enbridges interests so we were not surprised when the authority granted enbridge permission to move forward on the project but a storm is coming an elder woman from my tribe once recounted an anishinaabek prophecy to me a black snake would come to our land and try to poison our watersbut would end up uniting our people as never before this has come to pass in an unprecedented action all 12 federally recognized tribes in michigan came together to write a joint letter to president joe biden arguing that enbridges black snake under the straits violates treaties that the united states made with us as sovereign nations when it forced us to cede our land thinking about this on the drive back to detroit along i 96 through potawatomi land the words of the native poet musician and activist john trudell came to me every human being is a raindrop and when enough of the raindrops become clear and coherent they then become the power of the storm related articles wen stephenson waking up my own path to this clarity and coherence came into focus for me with a dream i had when i was 14 at the time i was being raised by my parents in the detroit area but i would go back every summer to my ancestral homelands just below the mackinac straits my family told me my dream was a healing dream and they helped me through the year long process of making a jingle dress and preparing to become a jingle dress dancer i have been dancing since that dream but in recent years as i have come to understand my heritage and witnessed the struggles in this country over land and water my own responsibility has come into sharper focus in 2016 i was a student at the new school in new york studying jazz when the battle erupted over the dakota access pipeline which was planned to run through sacred lakota land threatening the tribes water supply watching the protests at standing rock i realized how skewed the us legal system was against native people and against any efforts to protect the water current issue view our current issue the standing rock movement woke me upas it did so many native people of my generation the following year i returned to michigan and worked as a visual artist and musician in detroit i soon became increasingly interested in the water that surrounds us in the great lakes region after all the anishinaabek first migrated here from the east hundreds of years ago because of a prophecy that requires us to protect the water as i began to research the water beneath detroit i learned how dozens of rivers and streams were turned into drains and covered with concreteand then saw how inadequate this arrangement was during the terrible flooding last summer after monsoon strength rains hit detroit this led me to a conclusion every catastrophe that has befallen my state in recent memory has been a direct outcome of humans lack of respect for the water from the tragedy in flint to the 2010 kalamazoo river oil spill caused by another of enbridges pipelines to the flooding in detroit a disaster waiting to happen all of this led me to the disaster waiting to happen line 5s potential to defile the mackinac straits i am registered to the little traverse bay band odawa and it is our specific duty to protect the straits mackinac means place of the turtle and i am mud turtle clan i didnt set out to be an activist or to be involved in politics but when i heard that people were gathering last may to protest the pipeline i put on my jingle dress and showed up in november of 2020 governor whitmer revoked enbridges easement for the pipeline citing the unreasonable risk that continued operation posed to the surrounding waters and gave the company six months to shut down the line in may when that deadline expired the states lawsuits continued to progress but the oil continued to flow through line 5 currently line 5 carries light crude and natural gas liquids through michigan to ontario providing little or no benefit to michiganders enbridge argued that it was protected against michigan states actions by an overly broad reading of a 1977 treaty between the united states and canada guaranteeing the free flow of energy products between the two nations the canadian government invoked the transit pipeline treaty of 1977 in a bid to make this a federal issue those of us fighting the pipeline in michigan disagreeafter all it was the state that issued enbridges land use easement and the state is responsible for ensuring protection of the publicly owned waters of the great lakes but to the extent that line 5 is a federal matter we as native people hold a trump card we are a federal matter too the federal government has treaties with us guaranteeing our sovereignty and our rights to the land and the water these long predate whatever deal the united states made with canada in 1977 and certainly supersede it there is a precedent for this from within michigan itself when the five tribes including my own signed the 1836 treaty of washington that ceded the land that became michigan state we exchanged our land for perpetual fishing and gathering rights the apex of tribal fishing happens to be in the mackinac straits the breeding grounds for whitefish when the state told anishinaabek in the 1970s they could no longer use traditional gill nets and had to adhere to sports fishing rules the bay mills tribe took the matter all the way to the michigan supreme courtand won the tribes sovereign status was upheld according to the law we are no different than any other sovereign nation and only congress can change this we have rights to land and water that are guaranteed through a sovereign treaty enbridges failure to consult us let alone negotiate with us is a violation of this sovereignty ignoring the councils enbridge has made a mockery of our sovereignty by finding individual native supporters of the pipeline and using their views to cast doubt upon our unanimous and consistent opposition and so what enbridge imagines to be a winthat it can proceed with the tunnel because the canadian government is seeking to make this a federal issueactually shifts the struggle onto terrain where we have even more power to push back thanks to our federal recognition and all of this is happening at a pivotal moment for native peoplea time when others are truly listening to our voices in the movement for environmental ju",
         "other",
         "[0. 0. 0. 0. 0. 0. 0. 0. 0. 0. 0. 0. 0. 0. 0. 0. 0. 0. 0. 1. 0. 0. 0. 0.\n 0. 0. 0. 0. 0.]"
        ],
        [
         "46",
         "published 6 january 2022 the national association of nigerian students has threatened to mobilise its members to the streets of lagos to demand justice for late dowen college student sylvester oromoni the association alleged foul play in the report of the lagos state government exonerating five students and five employees of the college linked to the death of sylvester the nans stated this in a statement issued in abeokuta ogun state signed by the chairman of nans southwest zone d oladimeji uthman uthman alleged that some powers that be have been frantically making moves to open the school at all cost damning the magnitude of the horrible incident uthman challenged the school management to publish the medical records of oromoni before his untimely death he insisted that the results of the autopsy conducted on oromonis corpse contradicted allegations that he took a harmful substance and was equally battered before his death uthman urged the lagos state government to ensure that dowen college remains closed as we might not only tag the lagos state governor an enemy of humanity but we shall mobilise all our armless battalion to the streets of lagos and march in our thousands to seek for adequate justice for slain sylvester if the school is re opened anytime soon he said the autopsy and toxicology report conducted by the nigeria police force disclosed the cause of his death to be septicaemia lobar pneumonia with acute pyelonephritis pyomyositis of the right ankle and acute bacterial pneumonia due to severe sepsis we as a committee following up developments surrounding this case and equally making findings also contacted a medical expert to make clarifications on how possible knee injury as claimed by the dowen college management initially could develop to those infections mentioned by the police to be the cause of late sylvester oromoni jnr death we are equally perplexed as to why the nigeria police force is not making mention of bullying in their reports we know that sylvester was bullied but why are state actors trying not to comment on it we are dumbfounded hearing that sylvester oromoni jr died of those infections this is the reason we are requesting the management of dowen college and sylvesters family to release and make public his medical records history in order to shed more light on this case and also to know if there are any ailments he was treating before his death the nans investigative committee is paying attention to developments and want to reiterate that we will not condone any form of injustice promoted by any institution or personality nigerian students are seeking answers and we will not allow injustice to thrive as sylvester oromoni jr was a student before his demise and as such an automatic member of nans we have had privileged information on how powers that be have been frantically making moves to open the school at all cost damming the magnitude of the horrible incident on our part we will continue to interface with the family submit the autopsy report for scrutiny to our medical experts and make our position known",
         "other",
         "[0. 0. 0. 0. 0. 0. 0. 0. 0. 0. 0. 0. 0. 0. 0. 0. 0. 0. 0. 1. 0. 0. 0. 0.\n 0. 0. 0. 0. 0.]"
        ],
        [
         "47",
         "stacey solomon has given fans an update on her kitchen at pickle cottage the who has lived at the home for a year now has finally got herself a brand new aga oven costing around 15 000 5 stacey solomon has revealed her 15k oven for the first time 5 stacey has finally had the floor fitted sharing a glimpse of the impressive feature stacey told her followers she had named it audrey the loose women presenter wrote i love her so much we fell in love with the aga that was here when we moved in but was gas and used a huge amount from a tank in the garden so we sent her back to aga for them to repurpose and switched it for an electric one to save energy i called her audrey and im going to jazz the wall up behind her with something special so she stands out even more stacey also revealed her new tiles telling her fans im so happy with them i wanted a tile with texture and grooves but i also wanted to be realistic with four kids and two dogs read more on stacey solomon",
         "other",
         "[0. 0. 0. 0. 0. 0. 0. 0. 0. 0. 0. 0. 0. 0. 0. 0. 0. 0. 0. 1. 0. 0. 0. 0.\n 0. 0. 0. 0. 0.]"
        ],
        [
         "48",
         "russia ukraine crisis may impact the real estate sector the bench was also informed that bank of baroda would be the consortium s lead bank the court had directed the consortium to release the funds within a week after final approval seven banks which include bank of baroda punjab national bank uco bank bank of india state bank of india indian bank and punjab and sindh bank have formed a consortium to fund the stalled projects of amrapali group amrapali group s ex directors anil kumar sharma shiv priya and ajay kumar are behind bars on the top court s order since 2019 and multiple cases have been lodged against them for allegedly diverting homebuyers money the court had in 2019 asked the governments construction arm to finish and deliver 38 159 flats by the erstwhile amrapali group by 2023 after several homebuyers sought its intervention complaining about years of delay in handing over their homes the apex court on october 13 2020 had permitted the court receiver to incorporate a special purpose vehicle spv to enable flow of funds from sbicap for the completion of unfinished projects sbicap has agreed to fund rs 650 crore for around 7 000 stuck units for this the company amrapali stalled projects investments reconstruction establishment aspire has been floated it consists of a court receiver a forensic auditor and a chartered accountant it is a not for profit company under section 8 of companies act 2013 aspire announced the sale of the units through an open draw in march 2021 as many as 20 of the 49 residential units spread across amrapali projects in noida and greater noida worth rs 20 crore have been sold so far in november 2021 state run nbcc had appointed anarock property consultants as the channel partner to sell embattled real estate developer amrapalis groups 5 000 housing units in noida and greater noida sources also told moneycontrol that 80 units worth around rs 40 crore have so far been sold almost 10 percent of the amount has been received the units were put up for sale on february 7 they said on july 23 2019 the top court cancelled the registration of the amrapali group under the real estate regulation and development act 2016 and ousted it from its prime properties in ncr by nixing land leases for breaching buyers trust vandana ramnani amrapali case funding projects real estate first published feb 28 2022 05 44 pm more from lic cabinet approves up to 20 fdi in lic under automatic route russia ukraine crisis has no impact on lic ipo plans govt sources proceeds from lic ipo can come in handy for government to rein in inflation lic ipo pm life cover policyholders not eligible for shares at discounted prices buzz in market for lic ipo going ahead with it says fm nirmala sitharaman",
         "other",
         "[0. 0. 0. 0. 0. 0. 0. 0. 0. 0. 0. 0. 0. 0. 0. 0. 0. 0. 0. 1. 0. 0. 0. 0.\n 0. 0. 0. 0. 0.]"
        ],
        [
         "49",
         "sorry there seem to be some issues please try again later submitting this site is protected by recaptcha and the google privacy policyand terms of serviceapply danny after his amazing nine stone weight loss at my first meeting i felt really nervous as my weight had been a issue i didnt feel comfortable in dealing with it so i avoided it but after being made extremely welcome and then completely changing my diet in the first week i lost a stone this just made me more focused and determined to push myself just before the first lockdown in march 2020 danny had already lost four stone and continued to lose weight during the pandemic with the help of his group online im now nine stone lighter and at my target weight he said this has made a massive difference to my life i have more energy to play with my two children and i have also started to play football again before i struggled to run for any longer than five minutes my sleeping is a hundred times better im not waking up five times a night i also enjoy going out more as before i felt uncomfortable about the way i looked jeanette chawner who runs nuthall slimming world group said she has been inspired by dannys determination she added such an awesome inspiring young man im so proud to play a part in his journey go to www slimmingworld co ukto find your nearest group",
         "other",
         "[0. 0. 0. 0. 0. 0. 0. 0. 0. 0. 0. 0. 0. 0. 0. 0. 0. 0. 0. 1. 0. 0. 0. 0.\n 0. 0. 0. 0. 0.]"
        ]
       ],
       "shape": {
        "columns": 3,
        "rows": 3039
       }
      },
      "text/html": [
       "<div>\n",
       "<style scoped>\n",
       "    .dataframe tbody tr th:only-of-type {\n",
       "        vertical-align: middle;\n",
       "    }\n",
       "\n",
       "    .dataframe tbody tr th {\n",
       "        vertical-align: top;\n",
       "    }\n",
       "\n",
       "    .dataframe thead th {\n",
       "        text-align: right;\n",
       "    }\n",
       "</style>\n",
       "<table border=\"1\" class=\"dataframe\">\n",
       "  <thead>\n",
       "    <tr style=\"text-align: right;\">\n",
       "      <th></th>\n",
       "      <th>text</th>\n",
       "      <th>labels</th>\n",
       "      <th>encoded_labels</th>\n",
       "    </tr>\n",
       "  </thead>\n",
       "  <tbody>\n",
       "    <tr>\n",
       "      <th>0</th>\n",
       "      <td>drive your plow over the bones of the dead by ...</td>\n",
       "      <td>other</td>\n",
       "      <td>[0.0, 0.0, 0.0, 0.0, 0.0, 0.0, 0.0, 0.0, 0.0, ...</td>\n",
       "    </tr>\n",
       "    <tr>\n",
       "      <th>1</th>\n",
       "      <td>in the recently tabled national budget denel h...</td>\n",
       "      <td>other</td>\n",
       "      <td>[0.0, 0.0, 0.0, 0.0, 0.0, 0.0, 0.0, 0.0, 0.0, ...</td>\n",
       "    </tr>\n",
       "    <tr>\n",
       "      <th>2</th>\n",
       "      <td>shares take a break its good for you picture g...</td>\n",
       "      <td>other</td>\n",
       "      <td>[0.0, 0.0, 0.0, 0.0, 0.0, 0.0, 0.0, 0.0, 0.0, ...</td>\n",
       "    </tr>\n",
       "    <tr>\n",
       "      <th>3</th>\n",
       "      <td>reso is currently hiring for two positions pro...</td>\n",
       "      <td>other</td>\n",
       "      <td>[0.0, 0.0, 0.0, 0.0, 0.0, 0.0, 0.0, 0.0, 0.0, ...</td>\n",
       "    </tr>\n",
       "    <tr>\n",
       "      <th>4</th>\n",
       "      <td>charter buyer club what is the charter buyer c...</td>\n",
       "      <td>other</td>\n",
       "      <td>[0.0, 0.0, 0.0, 0.0, 0.0, 0.0, 0.0, 0.0, 0.0, ...</td>\n",
       "    </tr>\n",
       "    <tr>\n",
       "      <th>...</th>\n",
       "      <td>...</td>\n",
       "      <td>...</td>\n",
       "      <td>...</td>\n",
       "    </tr>\n",
       "    <tr>\n",
       "      <th>3034</th>\n",
       "      <td>published less than an hour ago a grateful fam...</td>\n",
       "      <td>funding round, support &amp; philanthropy, executi...</td>\n",
       "      <td>[0.0, 0.0, 0.0, 0.0, 0.0, 0.0, 0.0, 0.0, 1.0, ...</td>\n",
       "    </tr>\n",
       "    <tr>\n",
       "      <th>3035</th>\n",
       "      <td>a cenexelcenter of excellence joined nearly 10...</td>\n",
       "      <td>clinical trial sponsorship</td>\n",
       "      <td>[0.0, 0.0, 1.0, 0.0, 0.0, 0.0, 0.0, 0.0, 0.0, ...</td>\n",
       "    </tr>\n",
       "    <tr>\n",
       "      <th>3036</th>\n",
       "      <td>jun 29 2020 8 47 a m pt reply in response to t...</td>\n",
       "      <td>new initiatives or programs, funding round, ex...</td>\n",
       "      <td>[0.0, 0.0, 0.0, 0.0, 1.0, 0.0, 0.0, 0.0, 1.0, ...</td>\n",
       "    </tr>\n",
       "    <tr>\n",
       "      <th>3037</th>\n",
       "      <td>whatsapp photo supplied red river waste soluti...</td>\n",
       "      <td>service &amp; product providing, closing, company ...</td>\n",
       "      <td>[0.0, 0.0, 0.0, 1.0, 1.0, 0.0, 0.0, 0.0, 0.0, ...</td>\n",
       "    </tr>\n",
       "    <tr>\n",
       "      <th>3038</th>\n",
       "      <td>punch other brands notes that this only includ...</td>\n",
       "      <td>subsidiary establishment, executive statement</td>\n",
       "      <td>[0.0, 0.0, 0.0, 0.0, 0.0, 0.0, 0.0, 0.0, 1.0, ...</td>\n",
       "    </tr>\n",
       "  </tbody>\n",
       "</table>\n",
       "<p>3039 rows × 3 columns</p>\n",
       "</div>"
      ],
      "text/plain": [
       "                                                   text  \\\n",
       "0     drive your plow over the bones of the dead by ...   \n",
       "1     in the recently tabled national budget denel h...   \n",
       "2     shares take a break its good for you picture g...   \n",
       "3     reso is currently hiring for two positions pro...   \n",
       "4     charter buyer club what is the charter buyer c...   \n",
       "...                                                 ...   \n",
       "3034  published less than an hour ago a grateful fam...   \n",
       "3035  a cenexelcenter of excellence joined nearly 10...   \n",
       "3036  jun 29 2020 8 47 a m pt reply in response to t...   \n",
       "3037  whatsapp photo supplied red river waste soluti...   \n",
       "3038  punch other brands notes that this only includ...   \n",
       "\n",
       "                                                 labels  \\\n",
       "0                                                 other   \n",
       "1                                                 other   \n",
       "2                                                 other   \n",
       "3                                                 other   \n",
       "4                                                 other   \n",
       "...                                                 ...   \n",
       "3034  funding round, support & philanthropy, executi...   \n",
       "3035                         clinical trial sponsorship   \n",
       "3036  new initiatives or programs, funding round, ex...   \n",
       "3037  service & product providing, closing, company ...   \n",
       "3038      subsidiary establishment, executive statement   \n",
       "\n",
       "                                         encoded_labels  \n",
       "0     [0.0, 0.0, 0.0, 0.0, 0.0, 0.0, 0.0, 0.0, 0.0, ...  \n",
       "1     [0.0, 0.0, 0.0, 0.0, 0.0, 0.0, 0.0, 0.0, 0.0, ...  \n",
       "2     [0.0, 0.0, 0.0, 0.0, 0.0, 0.0, 0.0, 0.0, 0.0, ...  \n",
       "3     [0.0, 0.0, 0.0, 0.0, 0.0, 0.0, 0.0, 0.0, 0.0, ...  \n",
       "4     [0.0, 0.0, 0.0, 0.0, 0.0, 0.0, 0.0, 0.0, 0.0, ...  \n",
       "...                                                 ...  \n",
       "3034  [0.0, 0.0, 0.0, 0.0, 0.0, 0.0, 0.0, 0.0, 1.0, ...  \n",
       "3035  [0.0, 0.0, 1.0, 0.0, 0.0, 0.0, 0.0, 0.0, 0.0, ...  \n",
       "3036  [0.0, 0.0, 0.0, 0.0, 1.0, 0.0, 0.0, 0.0, 1.0, ...  \n",
       "3037  [0.0, 0.0, 0.0, 1.0, 1.0, 0.0, 0.0, 0.0, 0.0, ...  \n",
       "3038  [0.0, 0.0, 0.0, 0.0, 0.0, 0.0, 0.0, 0.0, 1.0, ...  \n",
       "\n",
       "[3039 rows x 3 columns]"
      ]
     },
     "execution_count": 4,
     "metadata": {},
     "output_type": "execute_result"
    }
   ],
   "source": [
    "dataset['encoded_labels'] = dataset.labels.apply(encode_labels)\n",
    "dataset"
   ]
  },
  {
   "cell_type": "markdown",
   "id": "83c0296f-9699-475e-b4bd-c9e531dca2d4",
   "metadata": {},
   "source": [
    "## Предобработка данных"
   ]
  },
  {
   "cell_type": "markdown",
   "id": "vMe0c5AAXM8d",
   "metadata": {
    "id": "vMe0c5AAXM8d"
   },
   "source": [
    "В этом задании мы будем обучать рекуррентные нейронные сети. Как вы знаете, они работают лучше для коротких текстов, так как не очень хорошо улавливают далекие зависимости. Для уменьшение длин текстов их стоит почистить.\n",
    "\n",
    "Сразу разделим выборку на обучающую и тестовую, чтобы считать все нужные статистики только по обучающей."
   ]
  },
  {
   "cell_type": "code",
   "execution_count": 21,
   "id": "f8135000",
   "metadata": {
    "id": "f8135000"
   },
   "outputs": [],
   "source": [
    "from sklearn.model_selection import train_test_split\n",
    "\n",
    "texts_train, texts_test, y_train, y_test = train_test_split(\n",
    "    dataset.text.values,\n",
    "    dataset.encoded_labels.values,\n",
    "    test_size=0.2,  # do not change this\n",
    "    random_state=0  # do not change this\n",
    ")"
   ]
  },
  {
   "cell_type": "markdown",
   "id": "4ace679c-db5f-45d3-8fa3-6a5c55eb912a",
   "metadata": {},
   "source": [
    "__Задание 2 (1 балл)__. Удалите из текстов стоп слова, слишком редкие и слишком частые слова. Гиперпараметры подберите самостоятельно (в идеале их стоит подбирать по качеству на тестовой выборке). Если вы считаете, что стоит добавить еще какую-то обработку, то сделайте это. Важно не удалить ничего, что может повлиять на предсказание класса."
   ]
  },
  {
   "cell_type": "markdown",
   "id": "b37132b8",
   "metadata": {},
   "source": [
    "СДЕЛАНО В dataset.py"
   ]
  },
  {
   "cell_type": "markdown",
   "id": "4f4848c2-7fe1-43f9-8564-1144015fc29b",
   "metadata": {},
   "source": [
    "__Задание 3 (1.5 балла)__. Осталось перевести тексты в индексы токенов, чтобы их можно было подавать в модель. У вас есть две опции, как это сделать:\n",
    "1. __(+0 баллов)__ Токенизировать тексты по словам.\n",
    "2. __(до +3 баллов)__ Реализовать свою токенизацию BPE. Количество баллов будет варьироваться в зависимости от эффективности реализации. При реализации нельзя пользоваться специализированными библиотеками.\n",
    "\n",
    "Токенизируйте тексты, переведите их в списки индексов и сложите вместе с лейблами в `DataLoader`. Не забудьте добавить в `DataLoader` `collate_fn`, которая будет дополнять все короткие тексты в батче паддингами. Для маппинга токенов в индексы вам может пригодиться `gensim.corpora.dictionary.Dictionary`."
   ]
  },
  {
   "cell_type": "code",
   "execution_count": 23,
   "id": "fa663c04",
   "metadata": {},
   "outputs": [],
   "source": [
    "from vocab import Vocab\n",
    "from dataset import TextDataset, collate\n",
    "\n",
    "from torch.utils.data import DataLoader\n",
    "\n",
    "vocab = Vocab(texts_train)\n",
    "\n",
    "train_dataset = TextDataset(texts_train, y_train, vocab)\n",
    "test_dataset = TextDataset(texts_test, y_test, vocab)\n",
    "\n",
    "train_loader = DataLoader(\n",
    "    train_dataset, \n",
    "    batch_size=32, \n",
    "    shuffle=True,\n",
    "    collate_fn=collate\n",
    ")\n",
    "\n",
    "val_loader = DataLoader(\n",
    "    test_dataset, \n",
    "    batch_size=128, \n",
    "    shuffle=False,\n",
    "    collate_fn=collate\n",
    ")"
   ]
  },
  {
   "cell_type": "code",
   "execution_count": null,
   "id": "2218c4f0",
   "metadata": {},
   "outputs": [
    {
     "name": "stdout",
     "output_type": "stream",
     "text": [
      "Texts shape: torch.Size([32, 647])\n",
      "Labels shape: torch.Size([32, 29])\n",
      "Labels dtype: torch.float32\n"
     ]
    }
   ],
   "source": [
    "for batch_texts, batch_labels in train_loader:\n",
    "    print(f\"Texts shape: {batch_texts.shape}\")\n",
    "    print(f\"Labels shape: {batch_labels.shape}\")\n",
    "    print(f\"Labels dtype: {batch_labels.dtype}\")\n",
    "    break"
   ]
  },
  {
   "cell_type": "markdown",
   "id": "627e78f9-6bef-46f4-8b58-818b7eb0c082",
   "metadata": {},
   "source": [
    "## Метрика качества\n",
    "\n",
    "Перед тем, как приступить к обучению, нам нужно выбрать метрику оценки качества. Так как в задаче классификации с пересекающимися классами классы часто несбалансированы, чаще всего в качестве метрики берется [F1 score](https://en.wikipedia.org/wiki/F-score).\n",
    "\n",
    "Функция `compute_f1` принимает истинные метки и предсказанные и считает среднее значение F1 по всем классам. Используйте ее для оценки качества моделей.\n",
    "\n",
    "$$\n",
    "F1_{total} = \\frac{1}{K} \\sum_{k=1}^K F1(Y_k, \\hat{Y}_k),\n",
    "$$\n",
    "где $Y_k$ – истинные значения для класса k, а $\\hat{Y}_k$ – предсказания."
   ]
  },
  {
   "cell_type": "code",
   "execution_count": null,
   "id": "671a0928-fd68-4f36-bae7-2dacb18fd865",
   "metadata": {},
   "outputs": [],
   "source": [
    "from sklearn.metrics import f1_score\n",
    "\n",
    "def compute_f1(y_true, y_pred):\n",
    "    assert y_true.ndim == 2\n",
    "    assert y_true.shape == y_pred.shape\n",
    "\n",
    "    return f1_score(y_true, y_pred, average='macro')"
   ]
  },
  {
   "cell_type": "markdown",
   "id": "aagj29J7Ap2H",
   "metadata": {
    "id": "aagj29J7Ap2H"
   },
   "source": [
    "## Обучение моделей"
   ]
  },
  {
   "cell_type": "markdown",
   "id": "56ae5666",
   "metadata": {
    "id": "56ae5666"
   },
   "source": [
    "### RNN\n",
    "\n",
    "В качестве бейзлайна обучим самую простую рекуррентную нейронную сеть. Напомним, что блок RNN выглядит таким образом.\n",
    "\n",
    "<img src=\"https://i.postimg.cc/yYbNBm6G/tg-image-1635618906.png\" alt=\"drawing\" width=\"400\"/>\n",
    "\n",
    "Его скрытое состояние обновляется по формуле\n",
    "$h_t = \\sigma(W x_{t} + U h_{t-1} + b_h)$. А предсказание считается с помощью применения линейного слоя к последнему токену\n",
    "$o_T = V h_T + b_o$. В качестве функции активации выберите гиперболический тангенс. \n",
    "\n",
    "__Задание 4 (2 балла)__. Реализуйте RNN в соответствии с формулой выше и обучите ее на нашу задачу. Нулевой скрытый вектор инициализируйте нулями, так модель будет обучаться стабильнее, чем при случайной инициализации. После этого замеряйте качество на тестовой выборке. У вас должно получиться значение F1 не меньше 0.33, а само обучение не должно занимать много времени."
   ]
  },
  {
   "cell_type": "code",
   "execution_count": 24,
   "id": "05743f95-dd39-43f5-81cf-1a79edc194fa",
   "metadata": {},
   "outputs": [],
   "source": [
    "from rnn import RNN"
   ]
  },
  {
   "cell_type": "code",
   "execution_count": 25,
   "id": "e7c24b46",
   "metadata": {},
   "outputs": [],
   "source": [
    "from train import train"
   ]
  },
  {
   "cell_type": "code",
   "execution_count": null,
   "id": "bc01c26a",
   "metadata": {},
   "outputs": [
    {
     "name": "stdout",
     "output_type": "stream",
     "text": [
      "Epoch 0: Train Loss: 0.4040, Val Loss: 0.2838\n"
     ]
    }
   ],
   "source": [
    "import torch\n",
    "from torch.optim import Adam\n",
    "from torch.nn import BCEWithLogitsLoss\n",
    "\n",
    "device = 'cpu'\n",
    "\n",
    "class_weights = torch.tensor((y_train.shape[0] - y_train.sum(0)) / (y_train.sum(0) + 1e-6), dtype=torch.float32, device=device)\n",
    "\n",
    "model = RNN(\n",
    "    vocab_size=len(vocab.dictionary),\n",
    "    embed_dim=32,\n",
    "    hidden_size=64,\n",
    "    num_classes=29\n",
    ")\n",
    "\n",
    "optim = Adam(model.parameters(), lr=1e-3)\n",
    "criterion = BCEWithLogitsLoss(pos_weight=class_weights)\n",
    "\n",
    "gt = torch.stack([torch.tensor(l) for l in y_test], dim=0).cpu()\n",
    "train(5, model=model, optim=optim, criterion=criterion, train_loader=train_loader, val_loader=val_loader, val_gt=gt)"
   ]
  },
  {
   "cell_type": "markdown",
   "id": "xqt0dk6LEJUU",
   "metadata": {
    "id": "xqt0dk6LEJUU"
   },
   "source": [
    "### LSTM\n",
    "\n",
    "<img src=\"https://i.postimg.cc/pL5LdmpL/tg-image-2290675322.png\" alt=\"drawing\" width=\"400\"/>\n",
    "\n",
    "Теперь перейдем к более продвинутым рекурренным моделям, а именно LSTM. Из-за дополнительного вектора памяти эта модель должна гораздо лучше улавливать далекие зависимости, что должно напрямую отражаться на качестве.\n",
    "\n",
    "Параметры блока LSTM обновляются вот так ($\\sigma$ означает сигмоиду):\n",
    "\\begin{align}\n",
    "f_{t} &= \\sigma(W_f x_{t} + U_f h_{t-1} + b_f) \\\\ \n",
    "i_{t} &= \\sigma(W_i x_{t} + U_i h_{t-1} + b_i) \\\\\n",
    "\\tilde{c}_{t} &= \\tanh(W_c x_{t} + U_c h_{t-1} + b_i) \\\\\n",
    "c_{t} &= f_t \\odot c_{t-1} + i_t \\odot \\tilde{c}_t \\\\\n",
    "o_{t} &= \\sigma(W_t x_{t} + U_t h_{t-1} + b_t) \\\\\n",
    "h_t &= o_t \\odot \\tanh(c_t)\n",
    "\\end{align}\n",
    "\n",
    "__Задание 5 (2 балла).__ Реализуйте LSTM по описанной схеме. Выберите гиперпараметры LSTM так, чтобы их общее число (без учета слоя эмбеддингов) примерно совпадало с числом параметров обычной RNN, но размерность скрытого слоя была не меньше 64. Так мы будем сравнивать архитектуры максимально независимо. Обучите LSTM до сходимости и сравните качество с RNN на тестовой выборке. Удалось ли получить лучший результат? Как вы можете это объяснить?"
   ]
  },
  {
   "cell_type": "code",
   "execution_count": null,
   "id": "6e18b79b-f2c6-4474-a5c0-c8ce51f13afb",
   "metadata": {},
   "outputs": [],
   "source": [
    "# your code here"
   ]
  },
  {
   "cell_type": "markdown",
   "id": "abfdd1a1-51f4-4065-85f7-22ed773a2628",
   "metadata": {},
   "source": [
    "__Задание 6 (2 балла).__ Главный недостаток RNN моделей заключается в том, что при сжатии всей информации в один вектор, важные детали пропадают. Для решения этой проблемы был придуман механизм внимания. Реализуйте его по [оригинальной статье](https://arxiv.org/abs/1409.0473). Замерьте качество и сделайте выводы.   \n",
    "Обратите внимание, что метод был предложен для Encoder-Decoder моделей. В нашем случае декодера нет, поэтому встройте внимание в энкодер: каждый блок LSTM будет смотреть на выходы всех предыдущих блоков.   "
   ]
  },
  {
   "cell_type": "code",
   "execution_count": null,
   "id": "b5bd1fa9-2c1f-4268-be24-5c31752204ac",
   "metadata": {},
   "outputs": [],
   "source": [
    "# your code here"
   ]
  },
  {
   "cell_type": "markdown",
   "id": "phQ-ka4mp0oS",
   "metadata": {
    "id": "phQ-ka4mp0oS"
   },
   "source": [
    "__Задание 7 (1 балл).__ Добавьте в вашу реализации возможность увеличивать число слоев LSTM. Обучите модель с двумя слоями и замерьте качество. Сделайте выводы: стоит ли увеличивать размер модели?"
   ]
  },
  {
   "cell_type": "code",
   "execution_count": null,
   "id": "ee7c7177",
   "metadata": {
    "id": "ee7c7177"
   },
   "outputs": [],
   "source": [
    "# your code here"
   ]
  }
 ],
 "metadata": {
  "accelerator": "GPU",
  "colab": {
   "gpuType": "T4",
   "provenance": []
  },
  "kernelspec": {
   "display_name": ".venv (3.10.12)",
   "language": "python",
   "name": "python3"
  },
  "language_info": {
   "codemirror_mode": {
    "name": "ipython",
    "version": 3
   },
   "file_extension": ".py",
   "mimetype": "text/x-python",
   "name": "python",
   "nbconvert_exporter": "python",
   "pygments_lexer": "ipython3",
   "version": "3.10.12"
  },
  "widgets": {
   "application/vnd.jupyter.widget-state+json": {
    "12b0627d4aaf46c0adc64b442bf88d0a": {
     "model_module": "@jupyter-widgets/controls",
     "model_module_version": "1.5.0",
     "model_name": "DescriptionStyleModel",
     "state": {
      "_model_module": "@jupyter-widgets/controls",
      "_model_module_version": "1.5.0",
      "_model_name": "DescriptionStyleModel",
      "_view_count": null,
      "_view_module": "@jupyter-widgets/base",
      "_view_module_version": "1.2.0",
      "_view_name": "StyleView",
      "description_width": ""
     }
    },
    "1d5b2e090c51406e953b4eec4b0b91ad": {
     "model_module": "@jupyter-widgets/base",
     "model_module_version": "1.2.0",
     "model_name": "LayoutModel",
     "state": {
      "_model_module": "@jupyter-widgets/base",
      "_model_module_version": "1.2.0",
      "_model_name": "LayoutModel",
      "_view_count": null,
      "_view_module": "@jupyter-widgets/base",
      "_view_module_version": "1.2.0",
      "_view_name": "LayoutView",
      "align_content": null,
      "align_items": null,
      "align_self": null,
      "border": null,
      "bottom": null,
      "display": null,
      "flex": null,
      "flex_flow": null,
      "grid_area": null,
      "grid_auto_columns": null,
      "grid_auto_flow": null,
      "grid_auto_rows": null,
      "grid_column": null,
      "grid_gap": null,
      "grid_row": null,
      "grid_template_areas": null,
      "grid_template_columns": null,
      "grid_template_rows": null,
      "height": null,
      "justify_content": null,
      "justify_items": null,
      "left": null,
      "margin": null,
      "max_height": null,
      "max_width": null,
      "min_height": null,
      "min_width": null,
      "object_fit": null,
      "object_position": null,
      "order": null,
      "overflow": null,
      "overflow_x": null,
      "overflow_y": null,
      "padding": null,
      "right": null,
      "top": null,
      "visibility": null,
      "width": null
     }
    },
    "282f83858a424e2ea76990eb957dc5a0": {
     "model_module": "@jupyter-widgets/base",
     "model_module_version": "1.2.0",
     "model_name": "LayoutModel",
     "state": {
      "_model_module": "@jupyter-widgets/base",
      "_model_module_version": "1.2.0",
      "_model_name": "LayoutModel",
      "_view_count": null,
      "_view_module": "@jupyter-widgets/base",
      "_view_module_version": "1.2.0",
      "_view_name": "LayoutView",
      "align_content": null,
      "align_items": null,
      "align_self": null,
      "border": null,
      "bottom": null,
      "display": null,
      "flex": null,
      "flex_flow": null,
      "grid_area": null,
      "grid_auto_columns": null,
      "grid_auto_flow": null,
      "grid_auto_rows": null,
      "grid_column": null,
      "grid_gap": null,
      "grid_row": null,
      "grid_template_areas": null,
      "grid_template_columns": null,
      "grid_template_rows": null,
      "height": null,
      "justify_content": null,
      "justify_items": null,
      "left": null,
      "margin": null,
      "max_height": null,
      "max_width": null,
      "min_height": null,
      "min_width": null,
      "object_fit": null,
      "object_position": null,
      "order": null,
      "overflow": null,
      "overflow_x": null,
      "overflow_y": null,
      "padding": null,
      "right": null,
      "top": null,
      "visibility": null,
      "width": null
     }
    },
    "32808478ae8c4242beb79f0272ea6b1f": {
     "model_module": "@jupyter-widgets/base",
     "model_module_version": "1.2.0",
     "model_name": "LayoutModel",
     "state": {
      "_model_module": "@jupyter-widgets/base",
      "_model_module_version": "1.2.0",
      "_model_name": "LayoutModel",
      "_view_count": null,
      "_view_module": "@jupyter-widgets/base",
      "_view_module_version": "1.2.0",
      "_view_name": "LayoutView",
      "align_content": null,
      "align_items": null,
      "align_self": null,
      "border": null,
      "bottom": null,
      "display": null,
      "flex": null,
      "flex_flow": null,
      "grid_area": null,
      "grid_auto_columns": null,
      "grid_auto_flow": null,
      "grid_auto_rows": null,
      "grid_column": null,
      "grid_gap": null,
      "grid_row": null,
      "grid_template_areas": null,
      "grid_template_columns": null,
      "grid_template_rows": null,
      "height": null,
      "justify_content": null,
      "justify_items": null,
      "left": null,
      "margin": null,
      "max_height": null,
      "max_width": null,
      "min_height": null,
      "min_width": null,
      "object_fit": null,
      "object_position": null,
      "order": null,
      "overflow": null,
      "overflow_x": null,
      "overflow_y": null,
      "padding": null,
      "right": null,
      "top": null,
      "visibility": null,
      "width": null
     }
    },
    "34e8d1401c0e4dc1a8e71bbad7c2f74d": {
     "model_module": "@jupyter-widgets/controls",
     "model_module_version": "1.5.0",
     "model_name": "HTMLModel",
     "state": {
      "_dom_classes": [],
      "_model_module": "@jupyter-widgets/controls",
      "_model_module_version": "1.5.0",
      "_model_name": "HTMLModel",
      "_view_count": null,
      "_view_module": "@jupyter-widgets/controls",
      "_view_module_version": "1.5.0",
      "_view_name": "HTMLView",
      "description": "",
      "description_tooltip": null,
      "layout": "IPY_MODEL_b23f3b8b7247491c8d5e3ead7f54d886",
      "placeholder": "​",
      "style": "IPY_MODEL_cb632291897f4f9db86a00a5a71ca35f",
      "value": " 40/40 [36:41&lt;00:00, 51.61s/it]"
     }
    },
    "3735627f227d4b4f927955113111409f": {
     "model_module": "@jupyter-widgets/controls",
     "model_module_version": "1.5.0",
     "model_name": "DescriptionStyleModel",
     "state": {
      "_model_module": "@jupyter-widgets/controls",
      "_model_module_version": "1.5.0",
      "_model_name": "DescriptionStyleModel",
      "_view_count": null,
      "_view_module": "@jupyter-widgets/base",
      "_view_module_version": "1.2.0",
      "_view_name": "StyleView",
      "description_width": ""
     }
    },
    "47f4f11bc6984b96ac3c3875d733f0ba": {
     "model_module": "@jupyter-widgets/controls",
     "model_module_version": "1.5.0",
     "model_name": "FloatProgressModel",
     "state": {
      "_dom_classes": [],
      "_model_module": "@jupyter-widgets/controls",
      "_model_module_version": "1.5.0",
      "_model_name": "FloatProgressModel",
      "_view_count": null,
      "_view_module": "@jupyter-widgets/controls",
      "_view_module_version": "1.5.0",
      "_view_name": "ProgressView",
      "bar_style": "success",
      "description": "",
      "description_tooltip": null,
      "layout": "IPY_MODEL_dc4f687f9d5940aba074e2bb41581c93",
      "max": 40,
      "min": 0,
      "orientation": "horizontal",
      "style": "IPY_MODEL_6e10fd6d1a6c47a9ac34a47ae5ba708b",
      "value": 40
     }
    },
    "4aab16bb20824688aadbd23460adad9b": {
     "model_module": "@jupyter-widgets/controls",
     "model_module_version": "1.5.0",
     "model_name": "HBoxModel",
     "state": {
      "_dom_classes": [],
      "_model_module": "@jupyter-widgets/controls",
      "_model_module_version": "1.5.0",
      "_model_name": "HBoxModel",
      "_view_count": null,
      "_view_module": "@jupyter-widgets/controls",
      "_view_module_version": "1.5.0",
      "_view_name": "HBoxView",
      "box_style": "",
      "children": [
       "IPY_MODEL_f65eec1b45de42e59fb9e24b99aad917",
       "IPY_MODEL_47f4f11bc6984b96ac3c3875d733f0ba",
       "IPY_MODEL_f58fddb1bf414071b0523701a619ad71"
      ],
      "layout": "IPY_MODEL_32808478ae8c4242beb79f0272ea6b1f"
     }
    },
    "4de9492961d841aa9f3d7bc629911296": {
     "model_module": "@jupyter-widgets/base",
     "model_module_version": "1.2.0",
     "model_name": "LayoutModel",
     "state": {
      "_model_module": "@jupyter-widgets/base",
      "_model_module_version": "1.2.0",
      "_model_name": "LayoutModel",
      "_view_count": null,
      "_view_module": "@jupyter-widgets/base",
      "_view_module_version": "1.2.0",
      "_view_name": "LayoutView",
      "align_content": null,
      "align_items": null,
      "align_self": null,
      "border": null,
      "bottom": null,
      "display": null,
      "flex": null,
      "flex_flow": null,
      "grid_area": null,
      "grid_auto_columns": null,
      "grid_auto_flow": null,
      "grid_auto_rows": null,
      "grid_column": null,
      "grid_gap": null,
      "grid_row": null,
      "grid_template_areas": null,
      "grid_template_columns": null,
      "grid_template_rows": null,
      "height": null,
      "justify_content": null,
      "justify_items": null,
      "left": null,
      "margin": null,
      "max_height": null,
      "max_width": null,
      "min_height": null,
      "min_width": null,
      "object_fit": null,
      "object_position": null,
      "order": null,
      "overflow": null,
      "overflow_x": null,
      "overflow_y": null,
      "padding": null,
      "right": null,
      "top": null,
      "visibility": null,
      "width": null
     }
    },
    "67ae0c089c4a426db3b52976fae1a9dc": {
     "model_module": "@jupyter-widgets/base",
     "model_module_version": "1.2.0",
     "model_name": "LayoutModel",
     "state": {
      "_model_module": "@jupyter-widgets/base",
      "_model_module_version": "1.2.0",
      "_model_name": "LayoutModel",
      "_view_count": null,
      "_view_module": "@jupyter-widgets/base",
      "_view_module_version": "1.2.0",
      "_view_name": "LayoutView",
      "align_content": null,
      "align_items": null,
      "align_self": null,
      "border": null,
      "bottom": null,
      "display": null,
      "flex": null,
      "flex_flow": null,
      "grid_area": null,
      "grid_auto_columns": null,
      "grid_auto_flow": null,
      "grid_auto_rows": null,
      "grid_column": null,
      "grid_gap": null,
      "grid_row": null,
      "grid_template_areas": null,
      "grid_template_columns": null,
      "grid_template_rows": null,
      "height": null,
      "justify_content": null,
      "justify_items": null,
      "left": null,
      "margin": null,
      "max_height": null,
      "max_width": null,
      "min_height": null,
      "min_width": null,
      "object_fit": null,
      "object_position": null,
      "order": null,
      "overflow": null,
      "overflow_x": null,
      "overflow_y": null,
      "padding": null,
      "right": null,
      "top": null,
      "visibility": null,
      "width": null
     }
    },
    "6e10fd6d1a6c47a9ac34a47ae5ba708b": {
     "model_module": "@jupyter-widgets/controls",
     "model_module_version": "1.5.0",
     "model_name": "ProgressStyleModel",
     "state": {
      "_model_module": "@jupyter-widgets/controls",
      "_model_module_version": "1.5.0",
      "_model_name": "ProgressStyleModel",
      "_view_count": null,
      "_view_module": "@jupyter-widgets/base",
      "_view_module_version": "1.2.0",
      "_view_name": "StyleView",
      "bar_color": null,
      "description_width": ""
     }
    },
    "b23f3b8b7247491c8d5e3ead7f54d886": {
     "model_module": "@jupyter-widgets/base",
     "model_module_version": "1.2.0",
     "model_name": "LayoutModel",
     "state": {
      "_model_module": "@jupyter-widgets/base",
      "_model_module_version": "1.2.0",
      "_model_name": "LayoutModel",
      "_view_count": null,
      "_view_module": "@jupyter-widgets/base",
      "_view_module_version": "1.2.0",
      "_view_name": "LayoutView",
      "align_content": null,
      "align_items": null,
      "align_self": null,
      "border": null,
      "bottom": null,
      "display": null,
      "flex": null,
      "flex_flow": null,
      "grid_area": null,
      "grid_auto_columns": null,
      "grid_auto_flow": null,
      "grid_auto_rows": null,
      "grid_column": null,
      "grid_gap": null,
      "grid_row": null,
      "grid_template_areas": null,
      "grid_template_columns": null,
      "grid_template_rows": null,
      "height": null,
      "justify_content": null,
      "justify_items": null,
      "left": null,
      "margin": null,
      "max_height": null,
      "max_width": null,
      "min_height": null,
      "min_width": null,
      "object_fit": null,
      "object_position": null,
      "order": null,
      "overflow": null,
      "overflow_x": null,
      "overflow_y": null,
      "padding": null,
      "right": null,
      "top": null,
      "visibility": null,
      "width": null
     }
    },
    "bc4165ff8fc3480fb1590b6ecd39fb4f": {
     "model_module": "@jupyter-widgets/controls",
     "model_module_version": "1.5.0",
     "model_name": "HBoxModel",
     "state": {
      "_dom_classes": [],
      "_model_module": "@jupyter-widgets/controls",
      "_model_module_version": "1.5.0",
      "_model_name": "HBoxModel",
      "_view_count": null,
      "_view_module": "@jupyter-widgets/controls",
      "_view_module_version": "1.5.0",
      "_view_name": "HBoxView",
      "box_style": "",
      "children": [
       "IPY_MODEL_cba16e32a9df4b1b89b4f7066945fc42",
       "IPY_MODEL_e8f0522f19c44066b5a78ded999f050a",
       "IPY_MODEL_34e8d1401c0e4dc1a8e71bbad7c2f74d"
      ],
      "layout": "IPY_MODEL_282f83858a424e2ea76990eb957dc5a0"
     }
    },
    "cb632291897f4f9db86a00a5a71ca35f": {
     "model_module": "@jupyter-widgets/controls",
     "model_module_version": "1.5.0",
     "model_name": "DescriptionStyleModel",
     "state": {
      "_model_module": "@jupyter-widgets/controls",
      "_model_module_version": "1.5.0",
      "_model_name": "DescriptionStyleModel",
      "_view_count": null,
      "_view_module": "@jupyter-widgets/base",
      "_view_module_version": "1.2.0",
      "_view_name": "StyleView",
      "description_width": ""
     }
    },
    "cba16e32a9df4b1b89b4f7066945fc42": {
     "model_module": "@jupyter-widgets/controls",
     "model_module_version": "1.5.0",
     "model_name": "HTMLModel",
     "state": {
      "_dom_classes": [],
      "_model_module": "@jupyter-widgets/controls",
      "_model_module_version": "1.5.0",
      "_model_name": "HTMLModel",
      "_view_count": null,
      "_view_module": "@jupyter-widgets/controls",
      "_view_module_version": "1.5.0",
      "_view_name": "HTMLView",
      "description": "",
      "description_tooltip": null,
      "layout": "IPY_MODEL_67ae0c089c4a426db3b52976fae1a9dc",
      "placeholder": "​",
      "style": "IPY_MODEL_12b0627d4aaf46c0adc64b442bf88d0a",
      "value": "100%"
     }
    },
    "d7ed88f49793494bbdb3c2fffc01b216": {
     "model_module": "@jupyter-widgets/controls",
     "model_module_version": "1.5.0",
     "model_name": "DescriptionStyleModel",
     "state": {
      "_model_module": "@jupyter-widgets/controls",
      "_model_module_version": "1.5.0",
      "_model_name": "DescriptionStyleModel",
      "_view_count": null,
      "_view_module": "@jupyter-widgets/base",
      "_view_module_version": "1.2.0",
      "_view_name": "StyleView",
      "description_width": ""
     }
    },
    "dc4f687f9d5940aba074e2bb41581c93": {
     "model_module": "@jupyter-widgets/base",
     "model_module_version": "1.2.0",
     "model_name": "LayoutModel",
     "state": {
      "_model_module": "@jupyter-widgets/base",
      "_model_module_version": "1.2.0",
      "_model_name": "LayoutModel",
      "_view_count": null,
      "_view_module": "@jupyter-widgets/base",
      "_view_module_version": "1.2.0",
      "_view_name": "LayoutView",
      "align_content": null,
      "align_items": null,
      "align_self": null,
      "border": null,
      "bottom": null,
      "display": null,
      "flex": null,
      "flex_flow": null,
      "grid_area": null,
      "grid_auto_columns": null,
      "grid_auto_flow": null,
      "grid_auto_rows": null,
      "grid_column": null,
      "grid_gap": null,
      "grid_row": null,
      "grid_template_areas": null,
      "grid_template_columns": null,
      "grid_template_rows": null,
      "height": null,
      "justify_content": null,
      "justify_items": null,
      "left": null,
      "margin": null,
      "max_height": null,
      "max_width": null,
      "min_height": null,
      "min_width": null,
      "object_fit": null,
      "object_position": null,
      "order": null,
      "overflow": null,
      "overflow_x": null,
      "overflow_y": null,
      "padding": null,
      "right": null,
      "top": null,
      "visibility": null,
      "width": null
     }
    },
    "e7876fd73da349ea873c137c63d8d528": {
     "model_module": "@jupyter-widgets/controls",
     "model_module_version": "1.5.0",
     "model_name": "ProgressStyleModel",
     "state": {
      "_model_module": "@jupyter-widgets/controls",
      "_model_module_version": "1.5.0",
      "_model_name": "ProgressStyleModel",
      "_view_count": null,
      "_view_module": "@jupyter-widgets/base",
      "_view_module_version": "1.2.0",
      "_view_name": "StyleView",
      "bar_color": null,
      "description_width": ""
     }
    },
    "e8f0522f19c44066b5a78ded999f050a": {
     "model_module": "@jupyter-widgets/controls",
     "model_module_version": "1.5.0",
     "model_name": "FloatProgressModel",
     "state": {
      "_dom_classes": [],
      "_model_module": "@jupyter-widgets/controls",
      "_model_module_version": "1.5.0",
      "_model_name": "FloatProgressModel",
      "_view_count": null,
      "_view_module": "@jupyter-widgets/controls",
      "_view_module_version": "1.5.0",
      "_view_name": "ProgressView",
      "bar_style": "success",
      "description": "",
      "description_tooltip": null,
      "layout": "IPY_MODEL_4de9492961d841aa9f3d7bc629911296",
      "max": 40,
      "min": 0,
      "orientation": "horizontal",
      "style": "IPY_MODEL_e7876fd73da349ea873c137c63d8d528",
      "value": 40
     }
    },
    "f58fddb1bf414071b0523701a619ad71": {
     "model_module": "@jupyter-widgets/controls",
     "model_module_version": "1.5.0",
     "model_name": "HTMLModel",
     "state": {
      "_dom_classes": [],
      "_model_module": "@jupyter-widgets/controls",
      "_model_module_version": "1.5.0",
      "_model_name": "HTMLModel",
      "_view_count": null,
      "_view_module": "@jupyter-widgets/controls",
      "_view_module_version": "1.5.0",
      "_view_name": "HTMLView",
      "description": "",
      "description_tooltip": null,
      "layout": "IPY_MODEL_1d5b2e090c51406e953b4eec4b0b91ad",
      "placeholder": "​",
      "style": "IPY_MODEL_3735627f227d4b4f927955113111409f",
      "value": " 40/40 [1:08:10&lt;00:00, 102.17s/it]"
     }
    },
    "f65eec1b45de42e59fb9e24b99aad917": {
     "model_module": "@jupyter-widgets/controls",
     "model_module_version": "1.5.0",
     "model_name": "HTMLModel",
     "state": {
      "_dom_classes": [],
      "_model_module": "@jupyter-widgets/controls",
      "_model_module_version": "1.5.0",
      "_model_name": "HTMLModel",
      "_view_count": null,
      "_view_module": "@jupyter-widgets/controls",
      "_view_module_version": "1.5.0",
      "_view_name": "HTMLView",
      "description": "",
      "description_tooltip": null,
      "layout": "IPY_MODEL_f67dc08a01ac40ad98ed553fe6b7e948",
      "placeholder": "​",
      "style": "IPY_MODEL_d7ed88f49793494bbdb3c2fffc01b216",
      "value": "100%"
     }
    },
    "f67dc08a01ac40ad98ed553fe6b7e948": {
     "model_module": "@jupyter-widgets/base",
     "model_module_version": "1.2.0",
     "model_name": "LayoutModel",
     "state": {
      "_model_module": "@jupyter-widgets/base",
      "_model_module_version": "1.2.0",
      "_model_name": "LayoutModel",
      "_view_count": null,
      "_view_module": "@jupyter-widgets/base",
      "_view_module_version": "1.2.0",
      "_view_name": "LayoutView",
      "align_content": null,
      "align_items": null,
      "align_self": null,
      "border": null,
      "bottom": null,
      "display": null,
      "flex": null,
      "flex_flow": null,
      "grid_area": null,
      "grid_auto_columns": null,
      "grid_auto_flow": null,
      "grid_auto_rows": null,
      "grid_column": null,
      "grid_gap": null,
      "grid_row": null,
      "grid_template_areas": null,
      "grid_template_columns": null,
      "grid_template_rows": null,
      "height": null,
      "justify_content": null,
      "justify_items": null,
      "left": null,
      "margin": null,
      "max_height": null,
      "max_width": null,
      "min_height": null,
      "min_width": null,
      "object_fit": null,
      "object_position": null,
      "order": null,
      "overflow": null,
      "overflow_x": null,
      "overflow_y": null,
      "padding": null,
      "right": null,
      "top": null,
      "visibility": null,
      "width": null
     }
    }
   }
  }
 },
 "nbformat": 4,
 "nbformat_minor": 5
}
