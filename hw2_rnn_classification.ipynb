{
 "cells": [
  {
   "cell_type": "markdown",
   "id": "b1acf78a",
   "metadata": {
    "id": "b1acf78a"
   },
   "source": [
    "# Глубинное обучение для текстовых данных, ФКН ВШЭ\n",
    "\n",
    "## Домашнее задание 2: Рекуррентные нейронные сети"
   ]
  },
  {
   "cell_type": "markdown",
   "id": "d6f64606",
   "metadata": {},
   "source": [
    "### Оценивание и штрафы"
   ]
  },
  {
   "cell_type": "markdown",
   "id": "18c24eb5",
   "metadata": {},
   "source": [
    "\n",
    "Максимально допустимая оценка за работу — __10 (+3) баллов__. Сдавать задание после указанного срока сдачи нельзя.\n",
    "\n",
    "Задание выполняется самостоятельно. «Похожие» решения считаются плагиатом и все задействованные студенты (в том числе те, у кого списали) не могут получить за него больше 0 баллов. Весь код должен быть написан самостоятельно. Чужим кодом для пользоваться запрещается даже с указанием ссылки на источник. В разумных рамках, конечно. Взять пару очевидных строчек кода для реализации какого-то небольшого функционала можно.\n",
    "\n",
    "Неэффективная реализация кода может негативно отразиться на оценке. Также оценка может быть снижена за плохо читаемый код и плохо оформленные графики. Все ответы должны сопровождаться кодом или комментариями о том, как они были получены.\n",
    "\n",
    "__Мягкий дедлайн: 5.10.25 23:59__   \n",
    "__Жесткий дедлайн: 8.10.25 23:59__\n"
   ]
  },
  {
   "cell_type": "markdown",
   "id": "5442a849",
   "metadata": {},
   "source": [
    "### О задании"
   ]
  },
  {
   "cell_type": "code",
   "execution_count": 17,
   "id": "671951a8-2293-4083-afa6-4528ecd945c4",
   "metadata": {
    "scrolled": true
   },
   "outputs": [
    {
     "data": {
      "text/plain": [
       "'3.10.18 (main, Oct  6 2025, 22:29:25) [GCC 15.2.1 20250813]'"
      ]
     },
     "execution_count": 17,
     "metadata": {},
     "output_type": "execute_result"
    }
   ],
   "source": [
    "import sys\n",
    "sys.version"
   ]
  },
  {
   "cell_type": "markdown",
   "id": "7f81c1ab",
   "metadata": {},
   "source": [
    "В этом задании вам предстоит самостоятельно реализовать модель LSTM для решения задачи классификации с пересекающимися классами (multi-label classification). Это вид классификации, в которой каждый объект может относиться одновременно к нескольким классам. Такая задача часто возникает при классификации фильмов по жанрам, научных или новостных статей по темам, музыкальных композиций по инструментам и так далее.\n",
    "\n",
    "В нашем случае мы будем работать с датасетом биотехнических новостей и классифицировать их по темам. Этот датасет уже предобработан: текст приведен к нижнему регистру, удалена пунктуация, все слова разделены проблелом."
   ]
  },
  {
   "cell_type": "code",
   "execution_count": 18,
   "id": "d928dbed",
   "metadata": {},
   "outputs": [
    {
     "name": "stdout",
     "output_type": "stream",
     "text": [
      "The autoreload extension is already loaded. To reload it, use:\n",
      "  %reload_ext autoreload\n"
     ]
    }
   ],
   "source": [
    "%load_ext autoreload\n",
    "%autoreload 2"
   ]
  },
  {
   "cell_type": "code",
   "execution_count": 19,
   "id": "af1a5fff",
   "metadata": {
    "colab": {
     "base_uri": "https://localhost:8080/",
     "height": 206
    },
    "id": "af1a5fff",
    "outputId": "891c58cd-6964-4319-ade3-92bb90356f93"
   },
   "outputs": [
    {
     "data": {
      "text/html": [
       "<div>\n",
       "<style scoped>\n",
       "    .dataframe tbody tr th:only-of-type {\n",
       "        vertical-align: middle;\n",
       "    }\n",
       "\n",
       "    .dataframe tbody tr th {\n",
       "        vertical-align: top;\n",
       "    }\n",
       "\n",
       "    .dataframe thead th {\n",
       "        text-align: right;\n",
       "    }\n",
       "</style>\n",
       "<table border=\"1\" class=\"dataframe\">\n",
       "  <thead>\n",
       "    <tr style=\"text-align: right;\">\n",
       "      <th></th>\n",
       "      <th>text</th>\n",
       "      <th>labels</th>\n",
       "    </tr>\n",
       "  </thead>\n",
       "  <tbody>\n",
       "    <tr>\n",
       "      <th>2103</th>\n",
       "      <td>email rotterdam a former discount supermarket ...</td>\n",
       "      <td>expanding geography</td>\n",
       "    </tr>\n",
       "    <tr>\n",
       "      <th>1837</th>\n",
       "      <td>updated 48 mins ago matt cardy getty images fr...</td>\n",
       "      <td>regulatory approval, executive statement</td>\n",
       "    </tr>\n",
       "    <tr>\n",
       "      <th>1385</th>\n",
       "      <td>health global ophthalmology devices market ass...</td>\n",
       "      <td>company description</td>\n",
       "    </tr>\n",
       "    <tr>\n",
       "      <th>1923</th>\n",
       "      <td>saturday june 15 2019 young entrepreneur joins...</td>\n",
       "      <td>participation in an event</td>\n",
       "    </tr>\n",
       "    <tr>\n",
       "      <th>299</th>\n",
       "      <td>share on pinterest share on linkedin escanaba ...</td>\n",
       "      <td>other</td>\n",
       "    </tr>\n",
       "  </tbody>\n",
       "</table>\n",
       "</div>"
      ],
      "text/plain": [
       "                                                   text  \\\n",
       "2103  email rotterdam a former discount supermarket ...   \n",
       "1837  updated 48 mins ago matt cardy getty images fr...   \n",
       "1385  health global ophthalmology devices market ass...   \n",
       "1923  saturday june 15 2019 young entrepreneur joins...   \n",
       "299   share on pinterest share on linkedin escanaba ...   \n",
       "\n",
       "                                        labels  \n",
       "2103                       expanding geography  \n",
       "1837  regulatory approval, executive statement  \n",
       "1385                       company description  \n",
       "1923                 participation in an event  \n",
       "299                                      other  "
      ]
     },
     "execution_count": 19,
     "metadata": {},
     "output_type": "execute_result"
    }
   ],
   "source": [
    "import pandas as pd\n",
    "\n",
    "dataset = pd.read_csv('data/biotech_news.tsv', sep='\\t')\n",
    "dataset.sample(5)"
   ]
  },
  {
   "cell_type": "code",
   "execution_count": 20,
   "id": "8afe3be4-8521-4243-b203-99fc84d0251f",
   "metadata": {},
   "outputs": [
    {
     "data": {
      "text/plain": [
       "labels\n",
       "other    484\n",
       "Name: count, dtype: int64"
      ]
     },
     "execution_count": 20,
     "metadata": {},
     "output_type": "execute_result"
    }
   ],
   "source": [
    "dataset.loc[dataset.labels.str.contains('other')].labels.value_counts()"
   ]
  },
  {
   "cell_type": "markdown",
   "id": "f9bbba1d-864c-4b1a-9245-85bdf0c0d286",
   "metadata": {},
   "source": [
    "будем считать, что other это не категория, а отсутствие категории"
   ]
  },
  {
   "cell_type": "markdown",
   "id": "HRBZwYd9QMMS",
   "metadata": {
    "id": "HRBZwYd9QMMS"
   },
   "source": [
    "## Предобработка лейблов\n",
    "\n",
    "\n",
    "__Задание 1 (0.5 балла)__. Как вы можете заметить, лейблы записаны в виде строк, разделенных запятыми. Для работы с ними нам нужно преобразовать их в числа. Так как каждый объект может принадлежать нескольким классам, закодируйте лейблы в виде векторов из 0 и 1, где 1 означает, что объект принадлежит соответствующему классу, а 0 – не принадлежит. Имея такую кодировку, мы сможем обучить модель, решая задачу бинарной классификации для каждого класса."
   ]
  },
  {
   "cell_type": "code",
   "execution_count": 22,
   "id": "ba33ee8d",
   "metadata": {},
   "outputs": [
    {
     "data": {
      "text/plain": [
       "{'alliance & partnership': 0,\n",
       " 'article publication': 1,\n",
       " 'clinical trial sponsorship': 2,\n",
       " 'closing': 3,\n",
       " 'company description': 4,\n",
       " 'department establishment': 5,\n",
       " 'event organization': 6,\n",
       " 'executive appointment': 7,\n",
       " 'executive statement': 8,\n",
       " 'expanding geography': 9,\n",
       " 'expanding industry': 10,\n",
       " 'foundation': 11,\n",
       " 'funding round': 12,\n",
       " 'hiring': 13,\n",
       " 'investment in public company': 14,\n",
       " 'ipo exit': 15,\n",
       " 'm&a': 16,\n",
       " 'new initiatives & programs': 17,\n",
       " 'new initiatives or programs': 18,\n",
       " 'participation in an event': 19,\n",
       " 'partnerships & alliances': 20,\n",
       " 'patent publication': 21,\n",
       " 'product launching & presentation': 22,\n",
       " 'product updates': 23,\n",
       " 'regulatory approval': 24,\n",
       " 'service & product providing': 25,\n",
       " 'subsidiary establishment': 26,\n",
       " 'support & philanthropy': 27}"
      ]
     },
     "execution_count": 22,
     "metadata": {},
     "output_type": "execute_result"
    }
   ],
   "source": [
    "res = set()\n",
    "for s in dataset.labels:\n",
    "    labels = s.split(', ')\n",
    "    res = res | set(labels)\n",
    "keys = sorted(list(res))\n",
    "keys.remove('other')\n",
    "labels = dict(zip(keys, range(len(keys))))\n",
    "labels"
   ]
  },
  {
   "cell_type": "code",
   "execution_count": 23,
   "id": "3f175587-e183-4087-90ad-0010e8b46d32",
   "metadata": {},
   "outputs": [],
   "source": [
    "dataset = pd.read_csv('data/biotech_news.tsv', sep='\\t')\n",
    "\n",
    "res = set()\n",
    "for s in dataset.labels:\n",
    "    labels = s.split(', ')\n",
    "    res = res | set(labels)\n",
    "keys = sorted(list(res))\n",
    "keys.remove('other')\n",
    "labels = dict(zip(keys, range(len(keys))))"
   ]
  },
  {
   "cell_type": "code",
   "execution_count": 26,
   "id": "d1fec761",
   "metadata": {},
   "outputs": [
    {
     "data": {
      "text/plain": [
       "array([1., 0., 0., 1., 0., 0., 0., 0., 0., 0., 0., 0., 0., 0., 0., 0., 0.,\n",
       "       0., 0., 0., 0., 0., 0., 0., 0., 0., 0., 0.], dtype=float32)"
      ]
     },
     "execution_count": 26,
     "metadata": {},
     "output_type": "execute_result"
    }
   ],
   "source": [
    "    def encode_labels(labels_str):\n",
    "        if labels_str == 'other':\n",
    "            return np.zeros(len(keys), dtype=np.float32)\n",
    "\n",
    "        encoded = np.zeros(len(keys), dtype=np.float32)\n",
    "        for label in labels_str.split(', '):\n",
    "            if label in labels:\n",
    "                encoded[labels[label]] = 1.0\n",
    "        return encoded\n",
    "\n",
    "encode_labels('alliance & partnership, closing')"
   ]
  },
  {
   "cell_type": "code",
   "execution_count": 27,
   "id": "7c65a9bf-dbe9-4cad-978d-3a0e10b1eac1",
   "metadata": {},
   "outputs": [],
   "source": [
    "dataset['encoded_labels'] = dataset.labels.apply(encode_labels)"
   ]
  },
  {
   "cell_type": "markdown",
   "id": "83c0296f-9699-475e-b4bd-c9e531dca2d4",
   "metadata": {},
   "source": [
    "## Предобработка данных"
   ]
  },
  {
   "cell_type": "markdown",
   "id": "vMe0c5AAXM8d",
   "metadata": {
    "id": "vMe0c5AAXM8d"
   },
   "source": [
    "В этом задании мы будем обучать рекуррентные нейронные сети. Как вы знаете, они работают лучше для коротких текстов, так как не очень хорошо улавливают далекие зависимости. Для уменьшение длин текстов их стоит почистить.\n",
    "\n",
    "Сразу разделим выборку на обучающую и тестовую, чтобы считать все нужные статистики только по обучающей."
   ]
  },
  {
   "cell_type": "code",
   "execution_count": 28,
   "id": "f8135000",
   "metadata": {
    "id": "f8135000"
   },
   "outputs": [],
   "source": [
    "from sklearn.model_selection import train_test_split\n",
    "\n",
    "texts_train, texts_test, y_train, y_test = train_test_split(\n",
    "    dataset.text.values,\n",
    "    dataset.encoded_labels.values,\n",
    "    test_size=0.2,  # do not change this\n",
    "    random_state=0  # do not change this\n",
    ")"
   ]
  },
  {
   "cell_type": "markdown",
   "id": "4ace679c-db5f-45d3-8fa3-6a5c55eb912a",
   "metadata": {},
   "source": [
    "__Задание 2 (1 балл)__. Удалите из текстов стоп слова, слишком редкие и слишком частые слова. Гиперпараметры подберите самостоятельно (в идеале их стоит подбирать по качеству на тестовой выборке). Если вы считаете, что стоит добавить еще какую-то обработку, то сделайте это. Важно не удалить ничего, что может повлиять на предсказание класса."
   ]
  },
  {
   "cell_type": "markdown",
   "id": "b37132b8",
   "metadata": {},
   "source": [
    "СДЕЛАНО В dataset.py"
   ]
  },
  {
   "cell_type": "code",
   "execution_count": 32,
   "id": "1b704d12-cd25-4fe9-b3a3-f01f3c156a94",
   "metadata": {},
   "outputs": [],
   "source": [
    "from gensim.parsing.preprocessing import preprocess_string, strip_tags, strip_punctuation, strip_multiple_whitespaces, strip_numeric, remove_stopwords\n",
    "from nltk.stem import PorterStemmer\n",
    "\n",
    "\n",
    "stemmer = PorterStemmer()\n",
    "\n",
    "def clean(txt: str):\n",
    "    CUSTOM_FILTERS = [\n",
    "        strip_tags,\n",
    "        strip_punctuation,\n",
    "        strip_multiple_whitespaces,\n",
    "        strip_numeric,\n",
    "        remove_stopwords,\n",
    "    ]\n",
    "    res = preprocess_string(txt, CUSTOM_FILTERS)\n",
    "    res = (stemmer.stem(word) for word in res)\n",
    "    return ' '.join(res)\n",
    "\n",
    "dataset['preprocessed'] = dataset.text.apply(clean)"
   ]
  },
  {
   "cell_type": "code",
   "execution_count": 35,
   "id": "b1ba6db0-ada4-46ce-809c-325834ed3eac",
   "metadata": {},
   "outputs": [
    {
     "data": {
      "text/html": [
       "<div>\n",
       "<style scoped>\n",
       "    .dataframe tbody tr th:only-of-type {\n",
       "        vertical-align: middle;\n",
       "    }\n",
       "\n",
       "    .dataframe tbody tr th {\n",
       "        vertical-align: top;\n",
       "    }\n",
       "\n",
       "    .dataframe thead th {\n",
       "        text-align: right;\n",
       "    }\n",
       "</style>\n",
       "<table border=\"1\" class=\"dataframe\">\n",
       "  <thead>\n",
       "    <tr style=\"text-align: right;\">\n",
       "      <th></th>\n",
       "      <th>preprocessed</th>\n",
       "      <th>labels</th>\n",
       "    </tr>\n",
       "  </thead>\n",
       "  <tbody>\n",
       "    <tr>\n",
       "      <th>0</th>\n",
       "      <td>drive plow bone dead olga tokarczuk incred slo...</td>\n",
       "      <td>other</td>\n",
       "    </tr>\n",
       "    <tr>\n",
       "      <th>1</th>\n",
       "      <td>recent tabl nation budget denel alloc r billio...</td>\n",
       "      <td>other</td>\n",
       "    </tr>\n",
       "    <tr>\n",
       "      <th>2</th>\n",
       "      <td>share break good pictur getti metro uk tempt t...</td>\n",
       "      <td>other</td>\n",
       "    </tr>\n",
       "    <tr>\n",
       "      <th>3</th>\n",
       "      <td>reso current hire posit product managerand mem...</td>\n",
       "      <td>other</td>\n",
       "    </tr>\n",
       "    <tr>\n",
       "      <th>4</th>\n",
       "      <td>charter buyer club charter buyer club charter ...</td>\n",
       "      <td>other</td>\n",
       "    </tr>\n",
       "    <tr>\n",
       "      <th>...</th>\n",
       "      <td>...</td>\n",
       "      <td>...</td>\n",
       "    </tr>\n",
       "    <tr>\n",
       "      <th>3034</th>\n",
       "      <td>publish hour ago grate famili present chequ de...</td>\n",
       "      <td>funding round, support &amp; philanthropy, executi...</td>\n",
       "    </tr>\n",
       "    <tr>\n",
       "      <th>3035</th>\n",
       "      <td>cenexelcent excel join nearli clinic research ...</td>\n",
       "      <td>clinical trial sponsorship</td>\n",
       "    </tr>\n",
       "    <tr>\n",
       "      <th>3036</th>\n",
       "      <td>jun m pt repli respons ongo covid pandem famil...</td>\n",
       "      <td>new initiatives or programs, funding round, ex...</td>\n",
       "    </tr>\n",
       "    <tr>\n",
       "      <th>3037</th>\n",
       "      <td>whatsapp photo suppli red river wast solut for...</td>\n",
       "      <td>service &amp; product providing, closing, company ...</td>\n",
       "    </tr>\n",
       "    <tr>\n",
       "      <th>3038</th>\n",
       "      <td>punch brand note includ u s distribut right br...</td>\n",
       "      <td>subsidiary establishment, executive statement</td>\n",
       "    </tr>\n",
       "  </tbody>\n",
       "</table>\n",
       "<p>3039 rows × 2 columns</p>\n",
       "</div>"
      ],
      "text/plain": [
       "                                           preprocessed  \\\n",
       "0     drive plow bone dead olga tokarczuk incred slo...   \n",
       "1     recent tabl nation budget denel alloc r billio...   \n",
       "2     share break good pictur getti metro uk tempt t...   \n",
       "3     reso current hire posit product managerand mem...   \n",
       "4     charter buyer club charter buyer club charter ...   \n",
       "...                                                 ...   \n",
       "3034  publish hour ago grate famili present chequ de...   \n",
       "3035  cenexelcent excel join nearli clinic research ...   \n",
       "3036  jun m pt repli respons ongo covid pandem famil...   \n",
       "3037  whatsapp photo suppli red river wast solut for...   \n",
       "3038  punch brand note includ u s distribut right br...   \n",
       "\n",
       "                                                 labels  \n",
       "0                                                 other  \n",
       "1                                                 other  \n",
       "2                                                 other  \n",
       "3                                                 other  \n",
       "4                                                 other  \n",
       "...                                                 ...  \n",
       "3034  funding round, support & philanthropy, executi...  \n",
       "3035                         clinical trial sponsorship  \n",
       "3036  new initiatives or programs, funding round, ex...  \n",
       "3037  service & product providing, closing, company ...  \n",
       "3038      subsidiary establishment, executive statement  \n",
       "\n",
       "[3039 rows x 2 columns]"
      ]
     },
     "execution_count": 35,
     "metadata": {},
     "output_type": "execute_result"
    }
   ],
   "source": [
    "dataset[['preprocessed', 'labels']]"
   ]
  },
  {
   "cell_type": "code",
   "execution_count": 37,
   "id": "8fdd5401-da70-4984-97fc-04fb3fbc9125",
   "metadata": {},
   "outputs": [],
   "source": [
    "dataset.to_csv('data/preprocessed.csv', index=False)"
   ]
  },
  {
   "cell_type": "markdown",
   "id": "4f4848c2-7fe1-43f9-8564-1144015fc29b",
   "metadata": {},
   "source": [
    "__Задание 3 (1.5 балла)__. Осталось перевести тексты в индексы токенов, чтобы их можно было подавать в модель. У вас есть две опции, как это сделать:\n",
    "1. __(+0 баллов)__ Токенизировать тексты по словам.\n",
    "2. __(до +3 баллов)__ Реализовать свою токенизацию BPE. Количество баллов будет варьироваться в зависимости от эффективности реализации. При реализации нельзя пользоваться специализированными библиотеками.\n",
    "\n",
    "Токенизируйте тексты, переведите их в списки индексов и сложите вместе с лейблами в `DataLoader`. Не забудьте добавить в `DataLoader` `collate_fn`, которая будет дополнять все короткие тексты в батче паддингами. Для маппинга токенов в индексы вам может пригодиться `gensim.corpora.dictionary.Dictionary`."
   ]
  },
  {
   "cell_type": "code",
   "execution_count": 20,
   "id": "fa663c04",
   "metadata": {},
   "outputs": [
    {
     "name": "stderr",
     "output_type": "stream",
     "text": [
      "100%|█████████████████████████████████████████████████████████████████████████████████████████████████████████████████████████████████████████████████████████████| 2431/2431 [00:15<00:00, 161.75it/s]\n",
      "100%|█████████████████████████████████████████████████████████████████████████████████████████████████████████████████████████████████████████████████████████████| 2431/2431 [00:14<00:00, 163.01it/s]\n",
      "100%|███████████████████████████████████████████████████████████████████████████████████████████████████████████████████████████████████████████████████████████| 2431/2431 [00:00<00:00, 49882.85it/s]\n",
      "100%|███████████████████████████████████████████████████████████████████████████████████████████████████████████████████████████████████████████████████████████████| 608/608 [00:03<00:00, 164.97it/s]\n",
      "100%|█████████████████████████████████████████████████████████████████████████████████████████████████████████████████████████████████████████████████████████████| 608/608 [00:00<00:00, 47966.46it/s]\n"
     ]
    }
   ],
   "source": [
    "from vocab import Vocab\n",
    "from dataset import TextDataset, collate\n",
    "\n",
    "from torch.utils.data import DataLoader\n",
    "\n",
    "vocab = Vocab(texts_train, 2, 0.7)\n",
    "\n",
    "device = 'cuda:0'\n",
    "\n",
    "train_dataset = TextDataset(texts_train, y_train, vocab, device)\n",
    "test_dataset = TextDataset(texts_test, y_test, vocab, device)\n",
    "\n",
    "train_loader = DataLoader(\n",
    "    train_dataset, \n",
    "    batch_size=32, \n",
    "    shuffle=True,\n",
    "    collate_fn=lambda batch: collate(batch, vocab.pad_idx)\n",
    ")\n",
    "\n",
    "val_loader = DataLoader(\n",
    "    test_dataset, \n",
    "    batch_size=128, \n",
    "    shuffle=False,\n",
    "    collate_fn=lambda batch: collate(batch, vocab.pad_idx)\n",
    ")"
   ]
  },
  {
   "cell_type": "code",
   "execution_count": 9,
   "id": "eebfac6e-765b-4f24-9460-7dd837c0e631",
   "metadata": {},
   "outputs": [
    {
     "data": {
      "text/plain": [
       "14331"
      ]
     },
     "execution_count": 9,
     "metadata": {},
     "output_type": "execute_result"
    }
   ],
   "source": [
    "len(vocab.dictionary)"
   ]
  },
  {
   "cell_type": "code",
   "execution_count": 10,
   "id": "2218c4f0",
   "metadata": {},
   "outputs": [
    {
     "name": "stdout",
     "output_type": "stream",
     "text": [
      "Texts shape: torch.Size([32, 655])\n",
      "Labels shape: torch.Size([32, 29])\n",
      "Labels dtype: torch.float32\n"
     ]
    }
   ],
   "source": [
    "for batch_texts, batch_labels in train_loader:\n",
    "    print(f\"Texts shape: {batch_texts.shape}\")\n",
    "    print(f\"Labels shape: {batch_labels.shape}\")\n",
    "    print(f\"Labels dtype: {batch_labels.dtype}\")\n",
    "    break"
   ]
  },
  {
   "cell_type": "markdown",
   "id": "627e78f9-6bef-46f4-8b58-818b7eb0c082",
   "metadata": {},
   "source": [
    "## Метрика качества\n",
    "\n",
    "Перед тем, как приступить к обучению, нам нужно выбрать метрику оценки качества. Так как в задаче классификации с пересекающимися классами классы часто несбалансированы, чаще всего в качестве метрики берется [F1 score](https://en.wikipedia.org/wiki/F-score).\n",
    "\n",
    "Функция `compute_f1` принимает истинные метки и предсказанные и считает среднее значение F1 по всем классам. Используйте ее для оценки качества моделей.\n",
    "\n",
    "$$\n",
    "F1_{total} = \\frac{1}{K} \\sum_{k=1}^K F1(Y_k, \\hat{Y}_k),\n",
    "$$\n",
    "где $Y_k$ – истинные значения для класса k, а $\\hat{Y}_k$ – предсказания."
   ]
  },
  {
   "cell_type": "code",
   "execution_count": 11,
   "id": "671a0928-fd68-4f36-bae7-2dacb18fd865",
   "metadata": {},
   "outputs": [],
   "source": [
    "from sklearn.metrics import f1_score\n",
    "\n",
    "def compute_f1(y_true, y_pred):\n",
    "    assert y_true.ndim == 2\n",
    "    assert y_true.shape == y_pred.shape\n",
    "\n",
    "    return f1_score(y_true, y_pred, average='macro')"
   ]
  },
  {
   "cell_type": "markdown",
   "id": "aagj29J7Ap2H",
   "metadata": {
    "id": "aagj29J7Ap2H"
   },
   "source": [
    "## Обучение моделей"
   ]
  },
  {
   "cell_type": "markdown",
   "id": "56ae5666",
   "metadata": {
    "id": "56ae5666"
   },
   "source": [
    "### RNN\n",
    "\n",
    "В качестве бейзлайна обучим самую простую рекуррентную нейронную сеть. Напомним, что блок RNN выглядит таким образом.\n",
    "\n",
    "<img src=\"https://i.postimg.cc/yYbNBm6G/tg-image-1635618906.png\" alt=\"drawing\" width=\"400\"/>\n",
    "\n",
    "Его скрытое состояние обновляется по формуле\n",
    "$h_t = \\sigma(W x_{t} + U h_{t-1} + b_h)$. А предсказание считается с помощью применения линейного слоя к последнему токену\n",
    "$o_T = V h_T + b_o$. В качестве функции активации выберите гиперболический тангенс. \n",
    "\n",
    "__Задание 4 (2 балла)__. Реализуйте RNN в соответствии с формулой выше и обучите ее на нашу задачу. Нулевой скрытый вектор инициализируйте нулями, так модель будет обучаться стабильнее, чем при случайной инициализации. После этого замеряйте качество на тестовой выборке. У вас должно получиться значение F1 не меньше 0.33, а само обучение не должно занимать много времени."
   ]
  },
  {
   "cell_type": "code",
   "execution_count": 38,
   "id": "bc01c26a",
   "metadata": {
    "scrolled": true
   },
   "outputs": [
    {
     "name": "stdout",
     "output_type": "stream",
     "text": [
      "Loading dataset...\n",
      "Building vocab...\n"
     ]
    },
    {
     "name": "stderr",
     "output_type": "stream",
     "text": [
      "100%|███████████████████████████████████████████████████████████████████████████████████████████████████████████████████| 2431/2431 [00:00<00:00, 2981.03it/s]\n"
     ]
    },
    {
     "name": "stdout",
     "output_type": "stream",
     "text": [
      "Vocab size: 3646\n",
      "Tokenizing ...\n"
     ]
    },
    {
     "name": "stderr",
     "output_type": "stream",
     "text": [
      "100%|███████████████████████████████████████████████████████████████████████████████████████████████████████████████████| 2431/2431 [00:00<00:00, 4064.20it/s]\n",
      "100%|██████████████████████████████████████████████████████████████████████████████████████████████████████████████████| 2431/2431 [00:00<00:00, 50537.29it/s]\n",
      "100%|█████████████████████████████████████████████████████████████████████████████████████████████████████████████████████| 608/608 [00:00<00:00, 5425.05it/s]\n",
      "100%|████████████████████████████████████████████████████████████████████████████████████████████████████████████████████| 608/608 [00:00<00:00, 57219.01it/s]\n"
     ]
    },
    {
     "name": "stdout",
     "output_type": "stream",
     "text": [
      "Training model...\n",
      "│ Epoch 01 │ Train Loss: 1.3624 │ Val Loss: 1.4059 │ F1: 8.38% │ LR: 0.00027750 │\n",
      "│ Epoch 02 │ Train Loss: 1.3414 │ Val Loss: 1.3889 │ F1: 9.03% │ LR: 0.00052500 │\n",
      "│ Epoch 03 │ Train Loss: 1.3447 │ Val Loss: 1.3795 │ F1: 9.23% │ LR: 0.00077250 │\n",
      "│ Epoch 04 │ Train Loss: 1.2867 │ Val Loss: 1.3856 │ F1: 9.18% │ LR: 0.00102000 │\n",
      "│ Epoch 05 │ Train Loss: 1.2694 │ Val Loss: 1.3834 │ F1: 11.91% │ LR: 0.00126750 │\n",
      "│ Epoch 06 │ Train Loss: 1.2752 │ Val Loss: 1.3701 │ F1: 9.35% │ LR: 0.00151500 │\n",
      "│ Epoch 07 │ Train Loss: 1.2467 │ Val Loss: 1.4143 │ F1: 8.65% │ LR: 0.00176250 │\n",
      "│ Epoch 08 │ Train Loss: 1.2200 │ Val Loss: 1.4946 │ F1: 9.41% │ LR: 0.00201000 │\n",
      "│ Epoch 09 │ Train Loss: 1.1920 │ Val Loss: 1.4265 │ F1: 11.94% │ LR: 0.00225750 │\n",
      "│ Epoch 10 │ Train Loss: 1.1944 │ Val Loss: 1.4140 │ F1: 10.13% │ LR: 0.00250500 │\n"
     ]
    },
    {
     "name": "stderr",
     "output_type": "stream",
     "text": [
      "/home/cloexec/.pyenv/versions/3.10.18/lib/python3.10/site-packages/sklearn/metrics/_classification.py:1731: UndefinedMetricWarning: F-score is ill-defined and being set to 0.0 in labels with no true nor predicted samples. Use `zero_division` parameter to control this behavior.\n",
      "  _warn_prf(average, modifier, f\"{metric.capitalize()} is\", result.shape[0])\n"
     ]
    },
    {
     "name": "stdout",
     "output_type": "stream",
     "text": [
      "│ Epoch 11 │ Train Loss: 1.1256 │ Val Loss: 1.5212 │ F1: 19.69% │ LR: 0.00275250 │\n",
      "│ Epoch 12 │ Train Loss: 1.0997 │ Val Loss: 1.6264 │ F1: 18.44% │ LR: 0.00300000 │\n",
      "│ Epoch 13 │ Train Loss: 1.0562 │ Val Loss: 1.5418 │ F1: 18.92% │ LR: 0.00300000 │\n",
      "│ Epoch 14 │ Train Loss: 1.0480 │ Val Loss: 1.4522 │ F1: 12.75% │ LR: 0.00300000 │\n",
      "│ Epoch 15 │ Train Loss: 1.0035 │ Val Loss: 1.5027 │ F1: 19.06% │ LR: 0.00300000 │\n",
      "│ Epoch 16 │ Train Loss: 0.9890 │ Val Loss: 1.5487 │ F1: 20.89% │ LR: 0.00300000 │\n",
      "│ Epoch 17 │ Train Loss: 0.9356 │ Val Loss: 1.7041 │ F1: 26.18% │ LR: 0.00300000 │\n",
      "│ Epoch 18 │ Train Loss: 0.8821 │ Val Loss: 1.4886 │ F1: 17.62% │ LR: 0.00300000 │\n",
      "│ Epoch 19 │ Train Loss: 0.8559 │ Val Loss: 1.5156 │ F1: 20.02% │ LR: 0.00300000 │\n",
      "│ Epoch 20 │ Train Loss: 0.8180 │ Val Loss: 1.9039 │ F1: 29.50% │ LR: 0.00300000 │\n",
      "│ Epoch 21 │ Train Loss: 0.7932 │ Val Loss: 1.5951 │ F1: 22.52% │ LR: 0.00300000 │\n",
      "│ Epoch 22 │ Train Loss: 0.8249 │ Val Loss: 1.7257 │ F1: 26.00% │ LR: 0.00300000 │\n",
      "│ Epoch 23 │ Train Loss: 0.7793 │ Val Loss: 1.6751 │ F1: 23.17% │ LR: 0.00300000 │\n",
      "│ Epoch 24 │ Train Loss: 0.7827 │ Val Loss: 1.8404 │ F1: 29.62% │ LR: 0.00300000 │\n",
      "│ Epoch 25 │ Train Loss: 0.7560 │ Val Loss: 1.8598 │ F1: 27.82% │ LR: 0.00300000 │\n",
      "│ Epoch 26 │ Train Loss: 0.7494 │ Val Loss: 1.8731 │ F1: 27.44% │ LR: 0.00300000 │\n",
      "│ Epoch 27 │ Train Loss: 0.7752 │ Val Loss: 1.7760 │ F1: 27.05% │ LR: 0.00300000 │\n",
      "│ Epoch 28 │ Train Loss: 0.7269 │ Val Loss: 1.9361 │ F1: 28.83% │ LR: 0.00300000 │\n",
      "│ Epoch 29 │ Train Loss: 0.7241 │ Val Loss: 1.9854 │ F1: 30.65% │ LR: 0.00150000 │\n",
      "│ Epoch 30 │ Train Loss: 0.7065 │ Val Loss: 2.0912 │ F1: 31.95% │ LR: 0.00150000 │\n",
      "│ Epoch 31 │ Train Loss: 0.7364 │ Val Loss: 2.0376 │ F1: 32.97% │ LR: 0.00150000 │\n",
      "│ Epoch 32 │ Train Loss: 0.7001 │ Val Loss: 1.9485 │ F1: 31.28% │ LR: 0.00150000 │\n",
      "│ Epoch 33 │ Train Loss: 0.6735 │ Val Loss: 2.1343 │ F1: 32.32% │ LR: 0.00150000 │\n",
      "│ Epoch 34 │ Train Loss: 0.7075 │ Val Loss: 2.1280 │ F1: 32.53% │ LR: 0.00150000 │\n",
      "│ Epoch 35 │ Train Loss: 0.7456 │ Val Loss: 2.2148 │ F1: 33.00% │ LR: 0.00150000 │\n",
      "│ Epoch 36 │ Train Loss: 0.6985 │ Val Loss: 2.1177 │ F1: 32.74% │ LR: 0.00150000 │\n",
      "│ Epoch 37 │ Train Loss: 0.7098 │ Val Loss: 2.1302 │ F1: 32.44% │ LR: 0.00150000 │\n",
      "│ Epoch 38 │ Train Loss: 0.7103 │ Val Loss: 2.2444 │ F1: 32.90% │ LR: 0.00150000 │\n",
      "│ Epoch 39 │ Train Loss: 0.7146 │ Val Loss: 2.2415 │ F1: 33.04% │ LR: 0.00150000 │\n",
      "│ Epoch 40 │ Train Loss: 0.6936 │ Val Loss: 2.3738 │ F1: 33.41% │ LR: 0.00150000 │\n",
      "│ Epoch 41 │ Train Loss: 0.7095 │ Val Loss: 2.4402 │ F1: 34.02% │ LR: 0.00150000 │\n",
      "│ Epoch 42 │ Train Loss: 0.7260 │ Val Loss: 2.2459 │ F1: 32.73% │ LR: 0.00150000 │\n",
      "│ Epoch 43 │ Train Loss: 0.7009 │ Val Loss: 2.0777 │ F1: 31.76% │ LR: 0.00150000 │\n",
      "│ Epoch 44 │ Train Loss: 0.7127 │ Val Loss: 2.3820 │ F1: 33.13% │ LR: 0.00150000 │\n",
      "│ Epoch 45 │ Train Loss: 0.7006 │ Val Loss: 2.4478 │ F1: 33.41% │ LR: 0.00150000 │\n",
      "│ Epoch 46 │ Train Loss: 0.7106 │ Val Loss: 2.1794 │ F1: 31.74% │ LR: 0.00075000 │\n",
      "│ Epoch 47 │ Train Loss: 0.7127 │ Val Loss: 2.4186 │ F1: 33.39% │ LR: 0.00075000 │\n",
      "│ Epoch 48 │ Train Loss: 0.6990 │ Val Loss: 2.2697 │ F1: 32.28% │ LR: 0.00075000 │\n",
      "│ Epoch 49 │ Train Loss: 0.6819 │ Val Loss: 2.3930 │ F1: 33.17% │ LR: 0.00075000 │\n",
      "│ Epoch 50 │ Train Loss: 0.7071 │ Val Loss: 2.2729 │ F1: 32.41% │ LR: 0.00037500 │\n",
      "│ Epoch 51 │ Train Loss: 0.6969 │ Val Loss: 2.4363 │ F1: 33.56% │ LR: 0.00037500 │\n",
      "│ Epoch 52 │ Train Loss: 0.6726 │ Val Loss: 2.3023 │ F1: 32.65% │ LR: 0.00037500 │\n",
      "│ Epoch 53 │ Train Loss: 0.7054 │ Val Loss: 2.3180 │ F1: 32.84% │ LR: 0.00037500 │\n",
      "│ Epoch 54 │ Train Loss: 0.6906 │ Val Loss: 2.3905 │ F1: 33.08% │ LR: 0.00018750 │\n",
      "│ Epoch 55 │ Train Loss: 0.6663 │ Val Loss: 2.3720 │ F1: 32.76% │ LR: 0.00018750 │\n",
      "│ Epoch 56 │ Train Loss: 0.6826 │ Val Loss: 2.3524 │ F1: 32.80% │ LR: 0.00018750 │\n",
      "│ Epoch 57 │ Train Loss: 0.6780 │ Val Loss: 2.3367 │ F1: 32.81% │ LR: 0.00018750 │\n",
      "│ Epoch 58 │ Train Loss: 0.6751 │ Val Loss: 2.3513 │ F1: 32.66% │ LR: 0.00009375 │\n",
      "│ Epoch 59 │ Train Loss: 0.6758 │ Val Loss: 2.3659 │ F1: 32.75% │ LR: 0.00009375 │\n",
      "│ Epoch 60 │ Train Loss: 0.6832 │ Val Loss: 2.3638 │ F1: 32.99% │ LR: 0.00009375 │\n",
      "│ Epoch 61 │ Train Loss: 0.6849 │ Val Loss: 2.3730 │ F1: 33.07% │ LR: 0.00009375 │\n",
      "│ Epoch 62 │ Train Loss: 0.6473 │ Val Loss: 2.3843 │ F1: 33.23% │ LR: 0.00004688 │\n",
      "│ Epoch 63 │ Train Loss: 0.6871 │ Val Loss: 2.3871 │ F1: 33.30% │ LR: 0.00004688 │\n",
      "│ Epoch 64 │ Train Loss: 0.6820 │ Val Loss: 2.3861 │ F1: 33.31% │ LR: 0.00004688 │\n"
     ]
    }
   ],
   "source": [
    "import main"
   ]
  },
  {
   "cell_type": "markdown",
   "id": "xqt0dk6LEJUU",
   "metadata": {
    "id": "xqt0dk6LEJUU"
   },
   "source": [
    "### LSTM\n",
    "\n",
    "<img src=\"https://i.postimg.cc/pL5LdmpL/tg-image-2290675322.png\" alt=\"drawing\" width=\"400\"/>\n",
    "\n",
    "Теперь перейдем к более продвинутым рекурренным моделям, а именно LSTM. Из-за дополнительного вектора памяти эта модель должна гораздо лучше улавливать далекие зависимости, что должно напрямую отражаться на качестве.\n",
    "\n",
    "Параметры блока LSTM обновляются вот так ($\\sigma$ означает сигмоиду):\n",
    "\\begin{align}\n",
    "f_{t} &= \\sigma(W_f x_{t} + U_f h_{t-1} + b_f) \\\\ \n",
    "i_{t} &= \\sigma(W_i x_{t} + U_i h_{t-1} + b_i) \\\\\n",
    "\\tilde{c}_{t} &= \\tanh(W_c x_{t} + U_c h_{t-1} + b_i) \\\\\n",
    "c_{t} &= f_t \\odot c_{t-1} + i_t \\odot \\tilde{c}_t \\\\\n",
    "o_{t} &= \\sigma(W_t x_{t} + U_t h_{t-1} + b_t) \\\\\n",
    "h_t &= o_t \\odot \\tanh(c_t)\n",
    "\\end{align}\n",
    "\n",
    "__Задание 5 (2 балла).__ Реализуйте LSTM по описанной схеме. Выберите гиперпараметры LSTM так, чтобы их общее число (без учета слоя эмбеддингов) примерно совпадало с числом параметров обычной RNN, но размерность скрытого слоя была не меньше 64. Так мы будем сравнивать архитектуры максимально независимо. Обучите LSTM до сходимости и сравните качество с RNN на тестовой выборке. Удалось ли получить лучший результат? Как вы можете это объяснить?"
   ]
  },
  {
   "cell_type": "code",
   "execution_count": 39,
   "id": "6e18b79b-f2c6-4474-a5c0-c8ce51f13afb",
   "metadata": {},
   "outputs": [
    {
     "name": "stdout",
     "output_type": "stream",
     "text": [
      "Loading dataset...\n",
      "Building vocab...\n"
     ]
    },
    {
     "name": "stderr",
     "output_type": "stream",
     "text": [
      "100%|███████████████████████████████████████████████████████████████████████████████████████████████████████████████████| 2431/2431 [00:00<00:00, 3051.77it/s]\n"
     ]
    },
    {
     "name": "stdout",
     "output_type": "stream",
     "text": [
      "Vocab size: 3646\n",
      "Tokenizing ...\n"
     ]
    },
    {
     "name": "stderr",
     "output_type": "stream",
     "text": [
      "100%|███████████████████████████████████████████████████████████████████████████████████████████████████████████████████| 2431/2431 [00:00<00:00, 5121.76it/s]\n",
      "100%|██████████████████████████████████████████████████████████████████████████████████████████████████████████████████| 2431/2431 [00:00<00:00, 52374.67it/s]\n",
      "100%|█████████████████████████████████████████████████████████████████████████████████████████████████████████████████████| 608/608 [00:00<00:00, 5251.76it/s]\n",
      "100%|████████████████████████████████████████████████████████████████████████████████████████████████████████████████████| 608/608 [00:00<00:00, 55283.92it/s]\n"
     ]
    },
    {
     "name": "stdout",
     "output_type": "stream",
     "text": [
      "Training model...\n",
      "│ Epoch 01 │ Train Loss: 1.2970 │ Val Loss: 1.3905 │ F1: 9.07% │ LR: 0.00027750 │\n",
      "│ Epoch 02 │ Train Loss: 1.3010 │ Val Loss: 1.3885 │ F1: 9.52% │ LR: 0.00052500 │\n",
      "│ Epoch 03 │ Train Loss: 1.3007 │ Val Loss: 1.3872 │ F1: 10.13% │ LR: 0.00077250 │\n",
      "│ Epoch 04 │ Train Loss: 1.2806 │ Val Loss: 1.3845 │ F1: 10.63% │ LR: 0.00102000 │\n",
      "│ Epoch 05 │ Train Loss: 1.2595 │ Val Loss: 1.3657 │ F1: 9.39% │ LR: 0.00126750 │\n",
      "│ Epoch 06 │ Train Loss: 1.2179 │ Val Loss: 1.2540 │ F1: 10.14% │ LR: 0.00151500 │\n",
      "│ Epoch 07 │ Train Loss: 1.1783 │ Val Loss: 1.2749 │ F1: 14.71% │ LR: 0.00176250 │\n",
      "│ Epoch 08 │ Train Loss: 1.1495 │ Val Loss: 1.2775 │ F1: 12.66% │ LR: 0.00201000 │\n",
      "│ Epoch 09 │ Train Loss: 1.1032 │ Val Loss: 1.2760 │ F1: 14.04% │ LR: 0.00225750 │\n",
      "│ Epoch 10 │ Train Loss: 1.0314 │ Val Loss: 1.2391 │ F1: 14.71% │ LR: 0.00250500 │\n",
      "│ Epoch 11 │ Train Loss: 1.0471 │ Val Loss: 1.3157 │ F1: 17.46% │ LR: 0.00275250 │\n",
      "│ Epoch 12 │ Train Loss: 1.0083 │ Val Loss: 1.3211 │ F1: 17.66% │ LR: 0.00300000 │\n",
      "│ Epoch 13 │ Train Loss: 1.0216 │ Val Loss: 1.4120 │ F1: 17.62% │ LR: 0.00300000 │\n",
      "│ Epoch 14 │ Train Loss: 0.9605 │ Val Loss: 1.3729 │ F1: 18.20% │ LR: 0.00300000 │\n",
      "│ Epoch 15 │ Train Loss: 0.9546 │ Val Loss: 1.6779 │ F1: 20.24% │ LR: 0.00300000 │\n",
      "│ Epoch 16 │ Train Loss: 0.9418 │ Val Loss: 1.4971 │ F1: 22.10% │ LR: 0.00300000 │\n",
      "│ Epoch 17 │ Train Loss: 0.9113 │ Val Loss: 1.4862 │ F1: 25.06% │ LR: 0.00300000 │\n",
      "│ Epoch 18 │ Train Loss: 0.8865 │ Val Loss: 1.4549 │ F1: 22.67% │ LR: 0.00300000 │\n",
      "│ Epoch 19 │ Train Loss: 0.8820 │ Val Loss: 1.5641 │ F1: 24.10% │ LR: 0.00300000 │\n",
      "│ Epoch 20 │ Train Loss: 0.8448 │ Val Loss: 1.4842 │ F1: 26.38% │ LR: 0.00300000 │\n",
      "│ Epoch 21 │ Train Loss: 0.8483 │ Val Loss: 1.4717 │ F1: 26.06% │ LR: 0.00300000 │\n",
      "│ Epoch 22 │ Train Loss: 0.8108 │ Val Loss: 1.5063 │ F1: 26.48% │ LR: 0.00300000 │\n",
      "│ Epoch 23 │ Train Loss: 0.7983 │ Val Loss: 1.4748 │ F1: 25.18% │ LR: 0.00300000 │\n",
      "│ Epoch 24 │ Train Loss: 0.7916 │ Val Loss: 1.5823 │ F1: 28.49% │ LR: 0.00300000 │\n",
      "│ Epoch 25 │ Train Loss: 0.7537 │ Val Loss: 1.7558 │ F1: 30.77% │ LR: 0.00300000 │\n",
      "│ Epoch 26 │ Train Loss: 0.7640 │ Val Loss: 1.6089 │ F1: 31.06% │ LR: 0.00300000 │\n",
      "│ Epoch 27 │ Train Loss: 0.7603 │ Val Loss: 1.5867 │ F1: 28.26% │ LR: 0.00300000 │\n",
      "│ Epoch 28 │ Train Loss: 0.7554 │ Val Loss: 1.6844 │ F1: 29.17% │ LR: 0.00300000 │\n",
      "│ Epoch 29 │ Train Loss: 0.7454 │ Val Loss: 1.9505 │ F1: 34.34% │ LR: 0.00300000 │\n",
      "│ Epoch 30 │ Train Loss: 0.7610 │ Val Loss: 1.7400 │ F1: 30.86% │ LR: 0.00300000 │\n",
      "│ Epoch 31 │ Train Loss: 0.7371 │ Val Loss: 1.9095 │ F1: 32.25% │ LR: 0.00300000 │\n",
      "│ Epoch 32 │ Train Loss: 0.7510 │ Val Loss: 1.9831 │ F1: 34.07% │ LR: 0.00300000 │\n",
      "│ Epoch 33 │ Train Loss: 0.7411 │ Val Loss: 1.8039 │ F1: 31.65% │ LR: 0.00300000 │\n",
      "│ Epoch 34 │ Train Loss: 0.7233 │ Val Loss: 1.9147 │ F1: 33.67% │ LR: 0.00150000 │\n",
      "│ Epoch 35 │ Train Loss: 0.7098 │ Val Loss: 2.0918 │ F1: 36.54% │ LR: 0.00150000 │\n",
      "│ Epoch 36 │ Train Loss: 0.6927 │ Val Loss: 2.1143 │ F1: 38.19% │ LR: 0.00150000 │\n",
      "│ Epoch 37 │ Train Loss: 0.7043 │ Val Loss: 2.1236 │ F1: 36.50% │ LR: 0.00150000 │\n",
      "│ Epoch 38 │ Train Loss: 0.6947 │ Val Loss: 2.0446 │ F1: 37.01% │ LR: 0.00150000 │\n",
      "│ Epoch 39 │ Train Loss: 0.7241 │ Val Loss: 2.3263 │ F1: 38.96% │ LR: 0.00150000 │\n",
      "│ Epoch 40 │ Train Loss: 0.6798 │ Val Loss: 2.2637 │ F1: 38.15% │ LR: 0.00150000 │\n",
      "│ Epoch 41 │ Train Loss: 0.6683 │ Val Loss: 2.3424 │ F1: 39.08% │ LR: 0.00150000 │\n",
      "│ Epoch 42 │ Train Loss: 0.6957 │ Val Loss: 2.4401 │ F1: 38.72% │ LR: 0.00150000 │\n",
      "│ Epoch 43 │ Train Loss: 0.6828 │ Val Loss: 2.3658 │ F1: 36.70% │ LR: 0.00150000 │\n",
      "│ Epoch 44 │ Train Loss: 0.6675 │ Val Loss: 2.5550 │ F1: 38.32% │ LR: 0.00150000 │\n",
      "│ Epoch 45 │ Train Loss: 0.6829 │ Val Loss: 2.4577 │ F1: 38.52% │ LR: 0.00150000 │\n",
      "│ Epoch 46 │ Train Loss: 0.6877 │ Val Loss: 2.5026 │ F1: 38.61% │ LR: 0.00075000 │\n",
      "│ Epoch 47 │ Train Loss: 0.6769 │ Val Loss: 2.6873 │ F1: 38.66% │ LR: 0.00075000 │\n",
      "│ Epoch 48 │ Train Loss: 0.6933 │ Val Loss: 2.6132 │ F1: 38.70% │ LR: 0.00075000 │\n",
      "│ Epoch 49 │ Train Loss: 0.6527 │ Val Loss: 2.7158 │ F1: 38.73% │ LR: 0.00075000 │\n",
      "│ Epoch 50 │ Train Loss: 0.7081 │ Val Loss: 2.7405 │ F1: 39.40% │ LR: 0.00037500 │\n",
      "│ Epoch 51 │ Train Loss: 0.6545 │ Val Loss: 2.7305 │ F1: 39.88% │ LR: 0.00037500 │\n",
      "│ Epoch 52 │ Train Loss: 0.6742 │ Val Loss: 2.7360 │ F1: 38.99% │ LR: 0.00037500 │\n",
      "│ Epoch 53 │ Train Loss: 0.6547 │ Val Loss: 2.7916 │ F1: 38.79% │ LR: 0.00037500 │\n",
      "│ Epoch 54 │ Train Loss: 0.6736 │ Val Loss: 2.7828 │ F1: 39.45% │ LR: 0.00037500 │\n",
      "│ Epoch 55 │ Train Loss: 0.6569 │ Val Loss: 2.7945 │ F1: 39.63% │ LR: 0.00037500 │\n",
      "│ Epoch 56 │ Train Loss: 0.6504 │ Val Loss: 2.8472 │ F1: 39.12% │ LR: 0.00018750 │\n",
      "│ Epoch 57 │ Train Loss: 0.6466 │ Val Loss: 2.8794 │ F1: 39.41% │ LR: 0.00018750 │\n",
      "│ Epoch 58 │ Train Loss: 0.6359 │ Val Loss: 2.8896 │ F1: 39.49% │ LR: 0.00018750 │\n",
      "│ Epoch 59 │ Train Loss: 0.6577 │ Val Loss: 2.8758 │ F1: 39.85% │ LR: 0.00018750 │\n",
      "│ Epoch 60 │ Train Loss: 0.6721 │ Val Loss: 2.8625 │ F1: 39.54% │ LR: 0.00009375 │\n",
      "│ Epoch 61 │ Train Loss: 0.6584 │ Val Loss: 2.8560 │ F1: 39.56% │ LR: 0.00009375 │\n",
      "│ Epoch 62 │ Train Loss: 0.6665 │ Val Loss: 2.8759 │ F1: 39.94% │ LR: 0.00009375 │\n",
      "│ Epoch 63 │ Train Loss: 0.6866 │ Val Loss: 2.8826 │ F1: 39.97% │ LR: 0.00009375 │\n",
      "│ Epoch 64 │ Train Loss: 0.6984 │ Val Loss: 2.8984 │ F1: 39.98% │ LR: 0.00009375 │\n"
     ]
    }
   ],
   "source": [
    "import main"
   ]
  },
  {
   "cell_type": "markdown",
   "id": "abfdd1a1-51f4-4065-85f7-22ed773a2628",
   "metadata": {},
   "source": [
    "__Задание 6 (2 балла).__ Главный недостаток RNN моделей заключается в том, что при сжатии всей информации в один вектор, важные детали пропадают. Для решения этой проблемы был придуман механизм внимания. Реализуйте его по [оригинальной статье](https://arxiv.org/abs/1409.0473). Замерьте качество и сделайте выводы.   \n",
    "Обратите внимание, что метод был предложен для Encoder-Decoder моделей. В нашем случае декодера нет, поэтому встройте внимание в энкодер: каждый блок LSTM будет смотреть на выходы всех предыдущих блоков.   "
   ]
  },
  {
   "cell_type": "code",
   "execution_count": 40,
   "id": "b5bd1fa9-2c1f-4268-be24-5c31752204ac",
   "metadata": {},
   "outputs": [
    {
     "name": "stdout",
     "output_type": "stream",
     "text": [
      "Loading dataset...\n",
      "Building vocab...\n"
     ]
    },
    {
     "name": "stderr",
     "output_type": "stream",
     "text": [
      "100%|███████████████████████████████████████████████████████████████████████████████████████████████████████████████████| 2431/2431 [00:00<00:00, 3178.83it/s]\n"
     ]
    },
    {
     "name": "stdout",
     "output_type": "stream",
     "text": [
      "Vocab size: 3646\n",
      "Tokenizing ...\n"
     ]
    },
    {
     "name": "stderr",
     "output_type": "stream",
     "text": [
      "100%|███████████████████████████████████████████████████████████████████████████████████████████████████████████████████| 2431/2431 [00:00<00:00, 5199.26it/s]\n",
      "100%|██████████████████████████████████████████████████████████████████████████████████████████████████████████████████| 2431/2431 [00:00<00:00, 54987.91it/s]\n",
      "100%|█████████████████████████████████████████████████████████████████████████████████████████████████████████████████████| 608/608 [00:00<00:00, 5361.38it/s]\n",
      "100%|████████████████████████████████████████████████████████████████████████████████████████████████████████████████████| 608/608 [00:00<00:00, 52333.04it/s]\n"
     ]
    },
    {
     "name": "stdout",
     "output_type": "stream",
     "text": [
      "Training model...\n",
      "│ Epoch 01 │ Train Loss: 1.2951 │ Val Loss: 1.3917 │ F1: 9.14% │ LR: 0.00027750 │\n",
      "│ Epoch 02 │ Train Loss: 1.2929 │ Val Loss: 1.3922 │ F1: 10.19% │ LR: 0.00052500 │\n",
      "│ Epoch 03 │ Train Loss: 1.2914 │ Val Loss: 1.3910 │ F1: 11.62% │ LR: 0.00077250 │\n",
      "│ Epoch 04 │ Train Loss: 1.2840 │ Val Loss: 1.5301 │ F1: 7.67% │ LR: 0.00102000 │\n",
      "│ Epoch 05 │ Train Loss: 1.2189 │ Val Loss: 1.4803 │ F1: 9.28% │ LR: 0.00126750 │\n",
      "│ Epoch 06 │ Train Loss: 1.1803 │ Val Loss: 1.4119 │ F1: 12.02% │ LR: 0.00151500 │\n",
      "│ Epoch 07 │ Train Loss: 1.1764 │ Val Loss: 1.3214 │ F1: 12.77% │ LR: 0.00176250 │\n",
      "│ Epoch 08 │ Train Loss: 1.1527 │ Val Loss: 1.2967 │ F1: 14.97% │ LR: 0.00201000 │\n",
      "│ Epoch 09 │ Train Loss: 1.0886 │ Val Loss: 1.3185 │ F1: 11.84% │ LR: 0.00225750 │\n",
      "│ Epoch 10 │ Train Loss: 1.1005 │ Val Loss: 1.2314 │ F1: 15.34% │ LR: 0.00250500 │\n",
      "│ Epoch 11 │ Train Loss: 1.0700 │ Val Loss: 1.2448 │ F1: 15.31% │ LR: 0.00275250 │\n",
      "│ Epoch 12 │ Train Loss: 0.9829 │ Val Loss: 1.3113 │ F1: 17.15% │ LR: 0.00300000 │\n",
      "│ Epoch 13 │ Train Loss: 1.0027 │ Val Loss: 1.4675 │ F1: 17.32% │ LR: 0.00300000 │\n",
      "│ Epoch 14 │ Train Loss: 0.9471 │ Val Loss: 1.3628 │ F1: 16.15% │ LR: 0.00300000 │\n",
      "│ Epoch 15 │ Train Loss: 0.9906 │ Val Loss: 1.6194 │ F1: 18.35% │ LR: 0.00300000 │\n",
      "│ Epoch 16 │ Train Loss: 0.8756 │ Val Loss: 1.4161 │ F1: 19.23% │ LR: 0.00300000 │\n",
      "│ Epoch 17 │ Train Loss: 0.9000 │ Val Loss: 1.5991 │ F1: 22.49% │ LR: 0.00300000 │\n",
      "│ Epoch 18 │ Train Loss: 0.8534 │ Val Loss: 1.4262 │ F1: 21.31% │ LR: 0.00300000 │\n",
      "│ Epoch 19 │ Train Loss: 0.8457 │ Val Loss: 1.5384 │ F1: 23.76% │ LR: 0.00300000 │\n",
      "│ Epoch 20 │ Train Loss: 0.8642 │ Val Loss: 1.5484 │ F1: 22.46% │ LR: 0.00300000 │\n",
      "│ Epoch 21 │ Train Loss: 0.8399 │ Val Loss: 1.8431 │ F1: 27.66% │ LR: 0.00300000 │\n",
      "│ Epoch 22 │ Train Loss: 0.8476 │ Val Loss: 1.8154 │ F1: 26.28% │ LR: 0.00300000 │\n",
      "│ Epoch 23 │ Train Loss: 0.8341 │ Val Loss: 1.9090 │ F1: 26.79% │ LR: 0.00300000 │\n",
      "│ Epoch 24 │ Train Loss: 0.8502 │ Val Loss: 1.7937 │ F1: 24.66% │ LR: 0.00300000 │\n",
      "│ Epoch 25 │ Train Loss: 0.8095 │ Val Loss: 1.9812 │ F1: 27.91% │ LR: 0.00300000 │\n",
      "│ Epoch 26 │ Train Loss: 0.8165 │ Val Loss: 2.1174 │ F1: 28.58% │ LR: 0.00300000 │\n",
      "│ Epoch 27 │ Train Loss: 0.8094 │ Val Loss: 2.1388 │ F1: 27.73% │ LR: 0.00300000 │\n",
      "│ Epoch 28 │ Train Loss: 0.8335 │ Val Loss: 1.9596 │ F1: 25.48% │ LR: 0.00300000 │\n",
      "│ Epoch 29 │ Train Loss: 0.7731 │ Val Loss: 1.9187 │ F1: 27.28% │ LR: 0.00300000 │\n",
      "│ Epoch 30 │ Train Loss: 0.7933 │ Val Loss: 1.9060 │ F1: 26.22% │ LR: 0.00300000 │\n",
      "│ Epoch 31 │ Train Loss: 0.7799 │ Val Loss: 2.3060 │ F1: 29.79% │ LR: 0.00150000 │\n",
      "│ Epoch 32 │ Train Loss: 0.7593 │ Val Loss: 2.4371 │ F1: 30.71% │ LR: 0.00150000 │\n",
      "│ Epoch 33 │ Train Loss: 0.7498 │ Val Loss: 2.4069 │ F1: 30.66% │ LR: 0.00150000 │\n",
      "│ Epoch 34 │ Train Loss: 0.7610 │ Val Loss: 2.6214 │ F1: 31.39% │ LR: 0.00150000 │\n",
      "│ Epoch 35 │ Train Loss: 0.7228 │ Val Loss: 2.8765 │ F1: 31.24% │ LR: 0.00150000 │\n",
      "│ Epoch 36 │ Train Loss: 0.7363 │ Val Loss: 2.8244 │ F1: 32.91% │ LR: 0.00150000 │\n",
      "│ Epoch 37 │ Train Loss: 0.7339 │ Val Loss: 2.9046 │ F1: 32.81% │ LR: 0.00150000 │\n",
      "│ Epoch 38 │ Train Loss: 0.7514 │ Val Loss: 2.9441 │ F1: 33.62% │ LR: 0.00150000 │\n",
      "│ Epoch 39 │ Train Loss: 0.7031 │ Val Loss: 3.1531 │ F1: 34.60% │ LR: 0.00150000 │\n",
      "│ Epoch 40 │ Train Loss: 0.6966 │ Val Loss: 3.0955 │ F1: 33.39% │ LR: 0.00150000 │\n",
      "│ Epoch 41 │ Train Loss: 0.7348 │ Val Loss: 3.2433 │ F1: 33.99% │ LR: 0.00150000 │\n",
      "│ Epoch 42 │ Train Loss: 0.7390 │ Val Loss: 3.0782 │ F1: 32.13% │ LR: 0.00150000 │\n",
      "│ Epoch 43 │ Train Loss: 0.7417 │ Val Loss: 3.3624 │ F1: 33.95% │ LR: 0.00150000 │\n",
      "│ Epoch 44 │ Train Loss: 0.7657 │ Val Loss: 2.9408 │ F1: 31.82% │ LR: 0.00075000 │\n",
      "│ Epoch 45 │ Train Loss: 0.7388 │ Val Loss: 3.1605 │ F1: 34.05% │ LR: 0.00075000 │\n",
      "│ Epoch 46 │ Train Loss: 0.6833 │ Val Loss: 3.1211 │ F1: 35.22% │ LR: 0.00075000 │\n",
      "│ Epoch 47 │ Train Loss: 0.7095 │ Val Loss: 3.0372 │ F1: 34.43% │ LR: 0.00075000 │\n",
      "│ Epoch 48 │ Train Loss: 0.6953 │ Val Loss: 3.2431 │ F1: 35.79% │ LR: 0.00075000 │\n",
      "│ Epoch 49 │ Train Loss: 0.7390 │ Val Loss: 3.2152 │ F1: 35.46% │ LR: 0.00075000 │\n",
      "│ Epoch 50 │ Train Loss: 0.6918 │ Val Loss: 3.3271 │ F1: 35.98% │ LR: 0.00075000 │\n",
      "│ Epoch 51 │ Train Loss: 0.7208 │ Val Loss: 3.4647 │ F1: 36.55% │ LR: 0.00075000 │\n",
      "│ Epoch 52 │ Train Loss: 0.7234 │ Val Loss: 3.3908 │ F1: 36.19% │ LR: 0.00075000 │\n",
      "│ Epoch 53 │ Train Loss: 0.6997 │ Val Loss: 3.4866 │ F1: 37.27% │ LR: 0.00075000 │\n",
      "│ Epoch 54 │ Train Loss: 0.6961 │ Val Loss: 3.5532 │ F1: 37.42% │ LR: 0.00075000 │\n",
      "│ Epoch 55 │ Train Loss: 0.7087 │ Val Loss: 3.5453 │ F1: 36.87% │ LR: 0.00075000 │\n",
      "│ Epoch 56 │ Train Loss: 0.6788 │ Val Loss: 3.6575 │ F1: 36.66% │ LR: 0.00075000 │\n",
      "│ Epoch 57 │ Train Loss: 0.6682 │ Val Loss: 3.6633 │ F1: 36.93% │ LR: 0.00075000 │\n",
      "│ Epoch 58 │ Train Loss: 0.6521 │ Val Loss: 3.6705 │ F1: 36.20% │ LR: 0.00075000 │\n",
      "│ Epoch 59 │ Train Loss: 0.7025 │ Val Loss: 3.7569 │ F1: 36.33% │ LR: 0.00037500 │\n",
      "│ Epoch 60 │ Train Loss: 0.6838 │ Val Loss: 3.7141 │ F1: 36.63% │ LR: 0.00037500 │\n",
      "│ Epoch 61 │ Train Loss: 0.6957 │ Val Loss: 3.7209 │ F1: 36.82% │ LR: 0.00037500 │\n",
      "│ Epoch 62 │ Train Loss: 0.7033 │ Val Loss: 3.7977 │ F1: 37.04% │ LR: 0.00037500 │\n",
      "│ Epoch 63 │ Train Loss: 0.6692 │ Val Loss: 3.8486 │ F1: 37.56% │ LR: 0.00018750 │\n",
      "│ Epoch 64 │ Train Loss: 0.6710 │ Val Loss: 3.8647 │ F1: 38.29% │ LR: 0.00018750 │\n",
      "│ Epoch 65 │ Train Loss: 0.6838 │ Val Loss: 3.8852 │ F1: 38.25% │ LR: 0.00018750 │\n",
      "│ Epoch 66 │ Train Loss: 0.6640 │ Val Loss: 3.8493 │ F1: 37.83% │ LR: 0.00018750 │\n",
      "│ Epoch 67 │ Train Loss: 0.7086 │ Val Loss: 3.8598 │ F1: 38.04% │ LR: 0.00018750 │\n",
      "│ Epoch 68 │ Train Loss: 0.7151 │ Val Loss: 3.8842 │ F1: 38.00% │ LR: 0.00018750 │\n",
      "│ Epoch 69 │ Train Loss: 0.6528 │ Val Loss: 3.8815 │ F1: 38.12% │ LR: 0.00009375 │\n",
      "│ Epoch 70 │ Train Loss: 0.6740 │ Val Loss: 3.8863 │ F1: 37.93% │ LR: 0.00009375 │\n",
      "│ Epoch 71 │ Train Loss: 0.6957 │ Val Loss: 3.8672 │ F1: 37.63% │ LR: 0.00009375 │\n",
      "│ Epoch 72 │ Train Loss: 0.6777 │ Val Loss: 3.8689 │ F1: 37.65% │ LR: 0.00009375 │\n"
     ]
    }
   ],
   "source": [
    "import main"
   ]
  },
  {
   "cell_type": "markdown",
   "id": "phQ-ka4mp0oS",
   "metadata": {
    "id": "phQ-ka4mp0oS"
   },
   "source": [
    "__Задание 7 (1 балл).__ Добавьте в вашу реализации возможность увеличивать число слоев LSTM. Обучите модель с двумя слоями и замерьте качество. Сделайте выводы: стоит ли увеличивать размер модели?"
   ]
  },
  {
   "cell_type": "code",
   "execution_count": 41,
   "id": "ee7c7177",
   "metadata": {
    "id": "ee7c7177"
   },
   "outputs": [
    {
     "name": "stdout",
     "output_type": "stream",
     "text": [
      "Loading dataset...\n",
      "Building vocab...\n"
     ]
    },
    {
     "name": "stderr",
     "output_type": "stream",
     "text": [
      "100%|███████████████████████████████████████████████████████████████████████████████████████████████████████████████████| 2431/2431 [00:00<00:00, 3047.61it/s]\n"
     ]
    },
    {
     "name": "stdout",
     "output_type": "stream",
     "text": [
      "Vocab size: 3646\n",
      "Tokenizing ...\n"
     ]
    },
    {
     "name": "stderr",
     "output_type": "stream",
     "text": [
      "100%|███████████████████████████████████████████████████████████████████████████████████████████████████████████████████| 2431/2431 [00:00<00:00, 5106.35it/s]\n",
      "100%|██████████████████████████████████████████████████████████████████████████████████████████████████████████████████| 2431/2431 [00:00<00:00, 53426.56it/s]\n",
      "100%|█████████████████████████████████████████████████████████████████████████████████████████████████████████████████████| 608/608 [00:00<00:00, 5216.50it/s]\n",
      "100%|████████████████████████████████████████████████████████████████████████████████████████████████████████████████████| 608/608 [00:00<00:00, 49733.54it/s]\n"
     ]
    },
    {
     "name": "stdout",
     "output_type": "stream",
     "text": [
      "Training model...\n",
      "│ Epoch 01 │ Train Loss: 1.3016 │ Val Loss: 1.3908 │ F1: 9.20% │ LR: 0.00027750 │\n",
      "│ Epoch 02 │ Train Loss: 1.3215 │ Val Loss: 1.3902 │ F1: 10.26% │ LR: 0.00052500 │\n",
      "│ Epoch 03 │ Train Loss: 1.2921 │ Val Loss: 1.3909 │ F1: 10.47% │ LR: 0.00077250 │\n",
      "│ Epoch 04 │ Train Loss: 1.2819 │ Val Loss: 1.3535 │ F1: 11.87% │ LR: 0.00102000 │\n",
      "│ Epoch 05 │ Train Loss: 1.2101 │ Val Loss: 1.3497 │ F1: 11.69% │ LR: 0.00126750 │\n",
      "│ Epoch 06 │ Train Loss: 1.1676 │ Val Loss: 1.3776 │ F1: 12.87% │ LR: 0.00151500 │\n",
      "│ Epoch 07 │ Train Loss: 1.1563 │ Val Loss: 1.2792 │ F1: 13.96% │ LR: 0.00176250 │\n",
      "│ Epoch 08 │ Train Loss: 1.0747 │ Val Loss: 1.3278 │ F1: 13.50% │ LR: 0.00201000 │\n",
      "│ Epoch 09 │ Train Loss: 1.0403 │ Val Loss: 1.3702 │ F1: 15.99% │ LR: 0.00225750 │\n",
      "│ Epoch 10 │ Train Loss: 1.0296 │ Val Loss: 1.3165 │ F1: 16.60% │ LR: 0.00250500 │\n",
      "│ Epoch 11 │ Train Loss: 0.9805 │ Val Loss: 1.4140 │ F1: 16.30% │ LR: 0.00275250 │\n",
      "│ Epoch 12 │ Train Loss: 0.9618 │ Val Loss: 1.4671 │ F1: 18.07% │ LR: 0.00300000 │\n",
      "│ Epoch 13 │ Train Loss: 1.0074 │ Val Loss: 1.4523 │ F1: 19.30% │ LR: 0.00300000 │\n",
      "│ Epoch 14 │ Train Loss: 0.9379 │ Val Loss: 1.3944 │ F1: 18.76% │ LR: 0.00300000 │\n",
      "│ Epoch 15 │ Train Loss: 0.8878 │ Val Loss: 1.6799 │ F1: 20.35% │ LR: 0.00300000 │\n",
      "│ Epoch 16 │ Train Loss: 0.8700 │ Val Loss: 1.6650 │ F1: 20.89% │ LR: 0.00300000 │\n",
      "│ Epoch 17 │ Train Loss: 0.8739 │ Val Loss: 1.5775 │ F1: 20.89% │ LR: 0.00300000 │\n",
      "│ Epoch 18 │ Train Loss: 0.8683 │ Val Loss: 1.7651 │ F1: 23.20% │ LR: 0.00300000 │\n",
      "│ Epoch 19 │ Train Loss: 0.8640 │ Val Loss: 1.7998 │ F1: 20.86% │ LR: 0.00300000 │\n",
      "│ Epoch 20 │ Train Loss: 0.8609 │ Val Loss: 1.5758 │ F1: 20.80% │ LR: 0.00300000 │\n",
      "│ Epoch 21 │ Train Loss: 0.8149 │ Val Loss: 1.6216 │ F1: 19.81% │ LR: 0.00300000 │\n",
      "│ Epoch 22 │ Train Loss: 0.8380 │ Val Loss: 1.7923 │ F1: 21.56% │ LR: 0.00300000 │\n",
      "│ Epoch 23 │ Train Loss: 0.8019 │ Val Loss: 1.6891 │ F1: 23.98% │ LR: 0.00150000 │\n",
      "│ Epoch 24 │ Train Loss: 0.8363 │ Val Loss: 1.6814 │ F1: 24.69% │ LR: 0.00150000 │\n",
      "│ Epoch 25 │ Train Loss: 0.7965 │ Val Loss: 1.8483 │ F1: 25.56% │ LR: 0.00150000 │\n",
      "│ Epoch 26 │ Train Loss: 0.7559 │ Val Loss: 1.9917 │ F1: 27.17% │ LR: 0.00150000 │\n",
      "│ Epoch 27 │ Train Loss: 0.7361 │ Val Loss: 2.0019 │ F1: 28.76% │ LR: 0.00150000 │\n",
      "│ Epoch 28 │ Train Loss: 0.7537 │ Val Loss: 2.1090 │ F1: 28.79% │ LR: 0.00150000 │\n",
      "│ Epoch 29 │ Train Loss: 0.7339 │ Val Loss: 2.3115 │ F1: 29.55% │ LR: 0.00150000 │\n",
      "│ Epoch 30 │ Train Loss: 0.7880 │ Val Loss: 2.3960 │ F1: 30.94% │ LR: 0.00150000 │\n",
      "│ Epoch 31 │ Train Loss: 0.7392 │ Val Loss: 2.2822 │ F1: 30.43% │ LR: 0.00150000 │\n",
      "│ Epoch 32 │ Train Loss: 0.7511 │ Val Loss: 2.3012 │ F1: 30.65% │ LR: 0.00150000 │\n",
      "│ Epoch 33 │ Train Loss: 0.7361 │ Val Loss: 2.4225 │ F1: 33.08% │ LR: 0.00150000 │\n",
      "│ Epoch 34 │ Train Loss: 0.6960 │ Val Loss: 2.5842 │ F1: 32.25% │ LR: 0.00150000 │\n",
      "│ Epoch 35 │ Train Loss: 0.7345 │ Val Loss: 2.4641 │ F1: 33.41% │ LR: 0.00150000 │\n",
      "│ Epoch 36 │ Train Loss: 0.7436 │ Val Loss: 2.5439 │ F1: 31.99% │ LR: 0.00150000 │\n",
      "│ Epoch 37 │ Train Loss: 0.7327 │ Val Loss: 2.5023 │ F1: 32.18% │ LR: 0.00150000 │\n",
      "│ Epoch 38 │ Train Loss: 0.6882 │ Val Loss: 2.6107 │ F1: 33.85% │ LR: 0.00150000 │\n",
      "│ Epoch 39 │ Train Loss: 0.7178 │ Val Loss: 2.5908 │ F1: 32.40% │ LR: 0.00150000 │\n",
      "│ Epoch 40 │ Train Loss: 0.6995 │ Val Loss: 2.7749 │ F1: 32.85% │ LR: 0.00150000 │\n",
      "│ Epoch 41 │ Train Loss: 0.6955 │ Val Loss: 2.7266 │ F1: 34.42% │ LR: 0.00150000 │\n",
      "│ Epoch 42 │ Train Loss: 0.7093 │ Val Loss: 2.7485 │ F1: 34.53% │ LR: 0.00150000 │\n",
      "│ Epoch 43 │ Train Loss: 0.7269 │ Val Loss: 2.7762 │ F1: 33.38% │ LR: 0.00150000 │\n",
      "│ Epoch 44 │ Train Loss: 0.7372 │ Val Loss: 2.6620 │ F1: 33.15% │ LR: 0.00150000 │\n",
      "│ Epoch 45 │ Train Loss: 0.7097 │ Val Loss: 2.7325 │ F1: 32.39% │ LR: 0.00150000 │\n",
      "│ Epoch 46 │ Train Loss: 0.7133 │ Val Loss: 2.7397 │ F1: 32.82% │ LR: 0.00150000 │\n",
      "│ Epoch 47 │ Train Loss: 0.7008 │ Val Loss: 2.8830 │ F1: 35.34% │ LR: 0.00075000 │\n",
      "│ Epoch 48 │ Train Loss: 0.7077 │ Val Loss: 2.8809 │ F1: 35.48% │ LR: 0.00075000 │\n",
      "│ Epoch 49 │ Train Loss: 0.6777 │ Val Loss: 2.9300 │ F1: 37.27% │ LR: 0.00075000 │\n",
      "│ Epoch 50 │ Train Loss: 0.6856 │ Val Loss: 2.9507 │ F1: 38.06% │ LR: 0.00075000 │\n",
      "│ Epoch 51 │ Train Loss: 0.6730 │ Val Loss: 3.0520 │ F1: 38.34% │ LR: 0.00075000 │\n",
      "│ Epoch 52 │ Train Loss: 0.6645 │ Val Loss: 3.1220 │ F1: 37.62% │ LR: 0.00075000 │\n",
      "│ Epoch 53 │ Train Loss: 0.6669 │ Val Loss: 3.1553 │ F1: 37.64% │ LR: 0.00075000 │\n",
      "│ Epoch 54 │ Train Loss: 0.6713 │ Val Loss: 3.1808 │ F1: 37.87% │ LR: 0.00075000 │\n",
      "│ Epoch 55 │ Train Loss: 0.6897 │ Val Loss: 3.1535 │ F1: 37.97% │ LR: 0.00075000 │\n",
      "│ Epoch 56 │ Train Loss: 0.6501 │ Val Loss: 3.2278 │ F1: 38.57% │ LR: 0.00037500 │\n",
      "│ Epoch 57 │ Train Loss: 0.6759 │ Val Loss: 3.2908 │ F1: 38.63% │ LR: 0.00037500 │\n",
      "│ Epoch 58 │ Train Loss: 0.6684 │ Val Loss: 3.3117 │ F1: 38.48% │ LR: 0.00037500 │\n",
      "│ Epoch 59 │ Train Loss: 0.6780 │ Val Loss: 3.3301 │ F1: 38.71% │ LR: 0.00037500 │\n",
      "│ Epoch 60 │ Train Loss: 0.6996 │ Val Loss: 3.3026 │ F1: 38.41% │ LR: 0.00037500 │\n",
      "│ Epoch 61 │ Train Loss: 0.6828 │ Val Loss: 3.3913 │ F1: 39.55% │ LR: 0.00037500 │\n",
      "│ Epoch 62 │ Train Loss: 0.7037 │ Val Loss: 3.3805 │ F1: 39.58% │ LR: 0.00037500 │\n",
      "│ Epoch 63 │ Train Loss: 0.6825 │ Val Loss: 3.3837 │ F1: 39.11% │ LR: 0.00037500 │\n",
      "│ Epoch 64 │ Train Loss: 0.6970 │ Val Loss: 3.4305 │ F1: 38.85% │ LR: 0.00037500 │\n",
      "│ Epoch 65 │ Train Loss: 0.6823 │ Val Loss: 3.4219 │ F1: 39.22% │ LR: 0.00037500 │\n",
      "│ Epoch 66 │ Train Loss: 0.6965 │ Val Loss: 3.4441 │ F1: 39.45% │ LR: 0.00037500 │\n",
      "│ Epoch 67 │ Train Loss: 0.6754 │ Val Loss: 3.4581 │ F1: 39.43% │ LR: 0.00018750 │\n",
      "│ Epoch 68 │ Train Loss: 0.6536 │ Val Loss: 3.4631 │ F1: 39.40% │ LR: 0.00018750 │\n",
      "│ Epoch 69 │ Train Loss: 0.6532 │ Val Loss: 3.4723 │ F1: 39.51% │ LR: 0.00018750 │\n",
      "│ Epoch 70 │ Train Loss: 0.6524 │ Val Loss: 3.4859 │ F1: 39.74% │ LR: 0.00018750 │\n",
      "│ Epoch 71 │ Train Loss: 0.6899 │ Val Loss: 3.4945 │ F1: 39.44% │ LR: 0.00018750 │\n",
      "│ Epoch 72 │ Train Loss: 0.6801 │ Val Loss: 3.5038 │ F1: 39.54% │ LR: 0.00018750 │\n"
     ]
    }
   ],
   "source": [
    "import main"
   ]
  }
 ],
 "metadata": {
  "accelerator": "GPU",
  "colab": {
   "gpuType": "T4",
   "provenance": []
  },
  "kernelspec": {
   "display_name": "NLP LSTM",
   "language": "python",
   "name": "hw2"
  },
  "language_info": {
   "codemirror_mode": {
    "name": "ipython",
    "version": 3
   },
   "file_extension": ".py",
   "mimetype": "text/x-python",
   "name": "python",
   "nbconvert_exporter": "python",
   "pygments_lexer": "ipython3",
   "version": "3.10.18"
  },
  "widgets": {
   "application/vnd.jupyter.widget-state+json": {
    "12b0627d4aaf46c0adc64b442bf88d0a": {
     "model_module": "@jupyter-widgets/controls",
     "model_module_version": "1.5.0",
     "model_name": "DescriptionStyleModel",
     "state": {
      "_model_module": "@jupyter-widgets/controls",
      "_model_module_version": "1.5.0",
      "_model_name": "DescriptionStyleModel",
      "_view_count": null,
      "_view_module": "@jupyter-widgets/base",
      "_view_module_version": "1.2.0",
      "_view_name": "StyleView",
      "description_width": ""
     }
    },
    "1d5b2e090c51406e953b4eec4b0b91ad": {
     "model_module": "@jupyter-widgets/base",
     "model_module_version": "1.2.0",
     "model_name": "LayoutModel",
     "state": {
      "_model_module": "@jupyter-widgets/base",
      "_model_module_version": "1.2.0",
      "_model_name": "LayoutModel",
      "_view_count": null,
      "_view_module": "@jupyter-widgets/base",
      "_view_module_version": "1.2.0",
      "_view_name": "LayoutView",
      "align_content": null,
      "align_items": null,
      "align_self": null,
      "border": null,
      "bottom": null,
      "display": null,
      "flex": null,
      "flex_flow": null,
      "grid_area": null,
      "grid_auto_columns": null,
      "grid_auto_flow": null,
      "grid_auto_rows": null,
      "grid_column": null,
      "grid_gap": null,
      "grid_row": null,
      "grid_template_areas": null,
      "grid_template_columns": null,
      "grid_template_rows": null,
      "height": null,
      "justify_content": null,
      "justify_items": null,
      "left": null,
      "margin": null,
      "max_height": null,
      "max_width": null,
      "min_height": null,
      "min_width": null,
      "object_fit": null,
      "object_position": null,
      "order": null,
      "overflow": null,
      "overflow_x": null,
      "overflow_y": null,
      "padding": null,
      "right": null,
      "top": null,
      "visibility": null,
      "width": null
     }
    },
    "282f83858a424e2ea76990eb957dc5a0": {
     "model_module": "@jupyter-widgets/base",
     "model_module_version": "1.2.0",
     "model_name": "LayoutModel",
     "state": {
      "_model_module": "@jupyter-widgets/base",
      "_model_module_version": "1.2.0",
      "_model_name": "LayoutModel",
      "_view_count": null,
      "_view_module": "@jupyter-widgets/base",
      "_view_module_version": "1.2.0",
      "_view_name": "LayoutView",
      "align_content": null,
      "align_items": null,
      "align_self": null,
      "border": null,
      "bottom": null,
      "display": null,
      "flex": null,
      "flex_flow": null,
      "grid_area": null,
      "grid_auto_columns": null,
      "grid_auto_flow": null,
      "grid_auto_rows": null,
      "grid_column": null,
      "grid_gap": null,
      "grid_row": null,
      "grid_template_areas": null,
      "grid_template_columns": null,
      "grid_template_rows": null,
      "height": null,
      "justify_content": null,
      "justify_items": null,
      "left": null,
      "margin": null,
      "max_height": null,
      "max_width": null,
      "min_height": null,
      "min_width": null,
      "object_fit": null,
      "object_position": null,
      "order": null,
      "overflow": null,
      "overflow_x": null,
      "overflow_y": null,
      "padding": null,
      "right": null,
      "top": null,
      "visibility": null,
      "width": null
     }
    },
    "32808478ae8c4242beb79f0272ea6b1f": {
     "model_module": "@jupyter-widgets/base",
     "model_module_version": "1.2.0",
     "model_name": "LayoutModel",
     "state": {
      "_model_module": "@jupyter-widgets/base",
      "_model_module_version": "1.2.0",
      "_model_name": "LayoutModel",
      "_view_count": null,
      "_view_module": "@jupyter-widgets/base",
      "_view_module_version": "1.2.0",
      "_view_name": "LayoutView",
      "align_content": null,
      "align_items": null,
      "align_self": null,
      "border": null,
      "bottom": null,
      "display": null,
      "flex": null,
      "flex_flow": null,
      "grid_area": null,
      "grid_auto_columns": null,
      "grid_auto_flow": null,
      "grid_auto_rows": null,
      "grid_column": null,
      "grid_gap": null,
      "grid_row": null,
      "grid_template_areas": null,
      "grid_template_columns": null,
      "grid_template_rows": null,
      "height": null,
      "justify_content": null,
      "justify_items": null,
      "left": null,
      "margin": null,
      "max_height": null,
      "max_width": null,
      "min_height": null,
      "min_width": null,
      "object_fit": null,
      "object_position": null,
      "order": null,
      "overflow": null,
      "overflow_x": null,
      "overflow_y": null,
      "padding": null,
      "right": null,
      "top": null,
      "visibility": null,
      "width": null
     }
    },
    "34e8d1401c0e4dc1a8e71bbad7c2f74d": {
     "model_module": "@jupyter-widgets/controls",
     "model_module_version": "1.5.0",
     "model_name": "HTMLModel",
     "state": {
      "_dom_classes": [],
      "_model_module": "@jupyter-widgets/controls",
      "_model_module_version": "1.5.0",
      "_model_name": "HTMLModel",
      "_view_count": null,
      "_view_module": "@jupyter-widgets/controls",
      "_view_module_version": "1.5.0",
      "_view_name": "HTMLView",
      "description": "",
      "description_tooltip": null,
      "layout": "IPY_MODEL_b23f3b8b7247491c8d5e3ead7f54d886",
      "placeholder": "​",
      "style": "IPY_MODEL_cb632291897f4f9db86a00a5a71ca35f",
      "value": " 40/40 [36:41&lt;00:00, 51.61s/it]"
     }
    },
    "3735627f227d4b4f927955113111409f": {
     "model_module": "@jupyter-widgets/controls",
     "model_module_version": "1.5.0",
     "model_name": "DescriptionStyleModel",
     "state": {
      "_model_module": "@jupyter-widgets/controls",
      "_model_module_version": "1.5.0",
      "_model_name": "DescriptionStyleModel",
      "_view_count": null,
      "_view_module": "@jupyter-widgets/base",
      "_view_module_version": "1.2.0",
      "_view_name": "StyleView",
      "description_width": ""
     }
    },
    "47f4f11bc6984b96ac3c3875d733f0ba": {
     "model_module": "@jupyter-widgets/controls",
     "model_module_version": "1.5.0",
     "model_name": "FloatProgressModel",
     "state": {
      "_dom_classes": [],
      "_model_module": "@jupyter-widgets/controls",
      "_model_module_version": "1.5.0",
      "_model_name": "FloatProgressModel",
      "_view_count": null,
      "_view_module": "@jupyter-widgets/controls",
      "_view_module_version": "1.5.0",
      "_view_name": "ProgressView",
      "bar_style": "success",
      "description": "",
      "description_tooltip": null,
      "layout": "IPY_MODEL_dc4f687f9d5940aba074e2bb41581c93",
      "max": 40,
      "min": 0,
      "orientation": "horizontal",
      "style": "IPY_MODEL_6e10fd6d1a6c47a9ac34a47ae5ba708b",
      "value": 40
     }
    },
    "4aab16bb20824688aadbd23460adad9b": {
     "model_module": "@jupyter-widgets/controls",
     "model_module_version": "1.5.0",
     "model_name": "HBoxModel",
     "state": {
      "_dom_classes": [],
      "_model_module": "@jupyter-widgets/controls",
      "_model_module_version": "1.5.0",
      "_model_name": "HBoxModel",
      "_view_count": null,
      "_view_module": "@jupyter-widgets/controls",
      "_view_module_version": "1.5.0",
      "_view_name": "HBoxView",
      "box_style": "",
      "children": [
       "IPY_MODEL_f65eec1b45de42e59fb9e24b99aad917",
       "IPY_MODEL_47f4f11bc6984b96ac3c3875d733f0ba",
       "IPY_MODEL_f58fddb1bf414071b0523701a619ad71"
      ],
      "layout": "IPY_MODEL_32808478ae8c4242beb79f0272ea6b1f"
     }
    },
    "4de9492961d841aa9f3d7bc629911296": {
     "model_module": "@jupyter-widgets/base",
     "model_module_version": "1.2.0",
     "model_name": "LayoutModel",
     "state": {
      "_model_module": "@jupyter-widgets/base",
      "_model_module_version": "1.2.0",
      "_model_name": "LayoutModel",
      "_view_count": null,
      "_view_module": "@jupyter-widgets/base",
      "_view_module_version": "1.2.0",
      "_view_name": "LayoutView",
      "align_content": null,
      "align_items": null,
      "align_self": null,
      "border": null,
      "bottom": null,
      "display": null,
      "flex": null,
      "flex_flow": null,
      "grid_area": null,
      "grid_auto_columns": null,
      "grid_auto_flow": null,
      "grid_auto_rows": null,
      "grid_column": null,
      "grid_gap": null,
      "grid_row": null,
      "grid_template_areas": null,
      "grid_template_columns": null,
      "grid_template_rows": null,
      "height": null,
      "justify_content": null,
      "justify_items": null,
      "left": null,
      "margin": null,
      "max_height": null,
      "max_width": null,
      "min_height": null,
      "min_width": null,
      "object_fit": null,
      "object_position": null,
      "order": null,
      "overflow": null,
      "overflow_x": null,
      "overflow_y": null,
      "padding": null,
      "right": null,
      "top": null,
      "visibility": null,
      "width": null
     }
    },
    "67ae0c089c4a426db3b52976fae1a9dc": {
     "model_module": "@jupyter-widgets/base",
     "model_module_version": "1.2.0",
     "model_name": "LayoutModel",
     "state": {
      "_model_module": "@jupyter-widgets/base",
      "_model_module_version": "1.2.0",
      "_model_name": "LayoutModel",
      "_view_count": null,
      "_view_module": "@jupyter-widgets/base",
      "_view_module_version": "1.2.0",
      "_view_name": "LayoutView",
      "align_content": null,
      "align_items": null,
      "align_self": null,
      "border": null,
      "bottom": null,
      "display": null,
      "flex": null,
      "flex_flow": null,
      "grid_area": null,
      "grid_auto_columns": null,
      "grid_auto_flow": null,
      "grid_auto_rows": null,
      "grid_column": null,
      "grid_gap": null,
      "grid_row": null,
      "grid_template_areas": null,
      "grid_template_columns": null,
      "grid_template_rows": null,
      "height": null,
      "justify_content": null,
      "justify_items": null,
      "left": null,
      "margin": null,
      "max_height": null,
      "max_width": null,
      "min_height": null,
      "min_width": null,
      "object_fit": null,
      "object_position": null,
      "order": null,
      "overflow": null,
      "overflow_x": null,
      "overflow_y": null,
      "padding": null,
      "right": null,
      "top": null,
      "visibility": null,
      "width": null
     }
    },
    "6e10fd6d1a6c47a9ac34a47ae5ba708b": {
     "model_module": "@jupyter-widgets/controls",
     "model_module_version": "1.5.0",
     "model_name": "ProgressStyleModel",
     "state": {
      "_model_module": "@jupyter-widgets/controls",
      "_model_module_version": "1.5.0",
      "_model_name": "ProgressStyleModel",
      "_view_count": null,
      "_view_module": "@jupyter-widgets/base",
      "_view_module_version": "1.2.0",
      "_view_name": "StyleView",
      "bar_color": null,
      "description_width": ""
     }
    },
    "b23f3b8b7247491c8d5e3ead7f54d886": {
     "model_module": "@jupyter-widgets/base",
     "model_module_version": "1.2.0",
     "model_name": "LayoutModel",
     "state": {
      "_model_module": "@jupyter-widgets/base",
      "_model_module_version": "1.2.0",
      "_model_name": "LayoutModel",
      "_view_count": null,
      "_view_module": "@jupyter-widgets/base",
      "_view_module_version": "1.2.0",
      "_view_name": "LayoutView",
      "align_content": null,
      "align_items": null,
      "align_self": null,
      "border": null,
      "bottom": null,
      "display": null,
      "flex": null,
      "flex_flow": null,
      "grid_area": null,
      "grid_auto_columns": null,
      "grid_auto_flow": null,
      "grid_auto_rows": null,
      "grid_column": null,
      "grid_gap": null,
      "grid_row": null,
      "grid_template_areas": null,
      "grid_template_columns": null,
      "grid_template_rows": null,
      "height": null,
      "justify_content": null,
      "justify_items": null,
      "left": null,
      "margin": null,
      "max_height": null,
      "max_width": null,
      "min_height": null,
      "min_width": null,
      "object_fit": null,
      "object_position": null,
      "order": null,
      "overflow": null,
      "overflow_x": null,
      "overflow_y": null,
      "padding": null,
      "right": null,
      "top": null,
      "visibility": null,
      "width": null
     }
    },
    "bc4165ff8fc3480fb1590b6ecd39fb4f": {
     "model_module": "@jupyter-widgets/controls",
     "model_module_version": "1.5.0",
     "model_name": "HBoxModel",
     "state": {
      "_dom_classes": [],
      "_model_module": "@jupyter-widgets/controls",
      "_model_module_version": "1.5.0",
      "_model_name": "HBoxModel",
      "_view_count": null,
      "_view_module": "@jupyter-widgets/controls",
      "_view_module_version": "1.5.0",
      "_view_name": "HBoxView",
      "box_style": "",
      "children": [
       "IPY_MODEL_cba16e32a9df4b1b89b4f7066945fc42",
       "IPY_MODEL_e8f0522f19c44066b5a78ded999f050a",
       "IPY_MODEL_34e8d1401c0e4dc1a8e71bbad7c2f74d"
      ],
      "layout": "IPY_MODEL_282f83858a424e2ea76990eb957dc5a0"
     }
    },
    "cb632291897f4f9db86a00a5a71ca35f": {
     "model_module": "@jupyter-widgets/controls",
     "model_module_version": "1.5.0",
     "model_name": "DescriptionStyleModel",
     "state": {
      "_model_module": "@jupyter-widgets/controls",
      "_model_module_version": "1.5.0",
      "_model_name": "DescriptionStyleModel",
      "_view_count": null,
      "_view_module": "@jupyter-widgets/base",
      "_view_module_version": "1.2.0",
      "_view_name": "StyleView",
      "description_width": ""
     }
    },
    "cba16e32a9df4b1b89b4f7066945fc42": {
     "model_module": "@jupyter-widgets/controls",
     "model_module_version": "1.5.0",
     "model_name": "HTMLModel",
     "state": {
      "_dom_classes": [],
      "_model_module": "@jupyter-widgets/controls",
      "_model_module_version": "1.5.0",
      "_model_name": "HTMLModel",
      "_view_count": null,
      "_view_module": "@jupyter-widgets/controls",
      "_view_module_version": "1.5.0",
      "_view_name": "HTMLView",
      "description": "",
      "description_tooltip": null,
      "layout": "IPY_MODEL_67ae0c089c4a426db3b52976fae1a9dc",
      "placeholder": "​",
      "style": "IPY_MODEL_12b0627d4aaf46c0adc64b442bf88d0a",
      "value": "100%"
     }
    },
    "d7ed88f49793494bbdb3c2fffc01b216": {
     "model_module": "@jupyter-widgets/controls",
     "model_module_version": "1.5.0",
     "model_name": "DescriptionStyleModel",
     "state": {
      "_model_module": "@jupyter-widgets/controls",
      "_model_module_version": "1.5.0",
      "_model_name": "DescriptionStyleModel",
      "_view_count": null,
      "_view_module": "@jupyter-widgets/base",
      "_view_module_version": "1.2.0",
      "_view_name": "StyleView",
      "description_width": ""
     }
    },
    "dc4f687f9d5940aba074e2bb41581c93": {
     "model_module": "@jupyter-widgets/base",
     "model_module_version": "1.2.0",
     "model_name": "LayoutModel",
     "state": {
      "_model_module": "@jupyter-widgets/base",
      "_model_module_version": "1.2.0",
      "_model_name": "LayoutModel",
      "_view_count": null,
      "_view_module": "@jupyter-widgets/base",
      "_view_module_version": "1.2.0",
      "_view_name": "LayoutView",
      "align_content": null,
      "align_items": null,
      "align_self": null,
      "border": null,
      "bottom": null,
      "display": null,
      "flex": null,
      "flex_flow": null,
      "grid_area": null,
      "grid_auto_columns": null,
      "grid_auto_flow": null,
      "grid_auto_rows": null,
      "grid_column": null,
      "grid_gap": null,
      "grid_row": null,
      "grid_template_areas": null,
      "grid_template_columns": null,
      "grid_template_rows": null,
      "height": null,
      "justify_content": null,
      "justify_items": null,
      "left": null,
      "margin": null,
      "max_height": null,
      "max_width": null,
      "min_height": null,
      "min_width": null,
      "object_fit": null,
      "object_position": null,
      "order": null,
      "overflow": null,
      "overflow_x": null,
      "overflow_y": null,
      "padding": null,
      "right": null,
      "top": null,
      "visibility": null,
      "width": null
     }
    },
    "e7876fd73da349ea873c137c63d8d528": {
     "model_module": "@jupyter-widgets/controls",
     "model_module_version": "1.5.0",
     "model_name": "ProgressStyleModel",
     "state": {
      "_model_module": "@jupyter-widgets/controls",
      "_model_module_version": "1.5.0",
      "_model_name": "ProgressStyleModel",
      "_view_count": null,
      "_view_module": "@jupyter-widgets/base",
      "_view_module_version": "1.2.0",
      "_view_name": "StyleView",
      "bar_color": null,
      "description_width": ""
     }
    },
    "e8f0522f19c44066b5a78ded999f050a": {
     "model_module": "@jupyter-widgets/controls",
     "model_module_version": "1.5.0",
     "model_name": "FloatProgressModel",
     "state": {
      "_dom_classes": [],
      "_model_module": "@jupyter-widgets/controls",
      "_model_module_version": "1.5.0",
      "_model_name": "FloatProgressModel",
      "_view_count": null,
      "_view_module": "@jupyter-widgets/controls",
      "_view_module_version": "1.5.0",
      "_view_name": "ProgressView",
      "bar_style": "success",
      "description": "",
      "description_tooltip": null,
      "layout": "IPY_MODEL_4de9492961d841aa9f3d7bc629911296",
      "max": 40,
      "min": 0,
      "orientation": "horizontal",
      "style": "IPY_MODEL_e7876fd73da349ea873c137c63d8d528",
      "value": 40
     }
    },
    "f58fddb1bf414071b0523701a619ad71": {
     "model_module": "@jupyter-widgets/controls",
     "model_module_version": "1.5.0",
     "model_name": "HTMLModel",
     "state": {
      "_dom_classes": [],
      "_model_module": "@jupyter-widgets/controls",
      "_model_module_version": "1.5.0",
      "_model_name": "HTMLModel",
      "_view_count": null,
      "_view_module": "@jupyter-widgets/controls",
      "_view_module_version": "1.5.0",
      "_view_name": "HTMLView",
      "description": "",
      "description_tooltip": null,
      "layout": "IPY_MODEL_1d5b2e090c51406e953b4eec4b0b91ad",
      "placeholder": "​",
      "style": "IPY_MODEL_3735627f227d4b4f927955113111409f",
      "value": " 40/40 [1:08:10&lt;00:00, 102.17s/it]"
     }
    },
    "f65eec1b45de42e59fb9e24b99aad917": {
     "model_module": "@jupyter-widgets/controls",
     "model_module_version": "1.5.0",
     "model_name": "HTMLModel",
     "state": {
      "_dom_classes": [],
      "_model_module": "@jupyter-widgets/controls",
      "_model_module_version": "1.5.0",
      "_model_name": "HTMLModel",
      "_view_count": null,
      "_view_module": "@jupyter-widgets/controls",
      "_view_module_version": "1.5.0",
      "_view_name": "HTMLView",
      "description": "",
      "description_tooltip": null,
      "layout": "IPY_MODEL_f67dc08a01ac40ad98ed553fe6b7e948",
      "placeholder": "​",
      "style": "IPY_MODEL_d7ed88f49793494bbdb3c2fffc01b216",
      "value": "100%"
     }
    },
    "f67dc08a01ac40ad98ed553fe6b7e948": {
     "model_module": "@jupyter-widgets/base",
     "model_module_version": "1.2.0",
     "model_name": "LayoutModel",
     "state": {
      "_model_module": "@jupyter-widgets/base",
      "_model_module_version": "1.2.0",
      "_model_name": "LayoutModel",
      "_view_count": null,
      "_view_module": "@jupyter-widgets/base",
      "_view_module_version": "1.2.0",
      "_view_name": "LayoutView",
      "align_content": null,
      "align_items": null,
      "align_self": null,
      "border": null,
      "bottom": null,
      "display": null,
      "flex": null,
      "flex_flow": null,
      "grid_area": null,
      "grid_auto_columns": null,
      "grid_auto_flow": null,
      "grid_auto_rows": null,
      "grid_column": null,
      "grid_gap": null,
      "grid_row": null,
      "grid_template_areas": null,
      "grid_template_columns": null,
      "grid_template_rows": null,
      "height": null,
      "justify_content": null,
      "justify_items": null,
      "left": null,
      "margin": null,
      "max_height": null,
      "max_width": null,
      "min_height": null,
      "min_width": null,
      "object_fit": null,
      "object_position": null,
      "order": null,
      "overflow": null,
      "overflow_x": null,
      "overflow_y": null,
      "padding": null,
      "right": null,
      "top": null,
      "visibility": null,
      "width": null
     }
    }
   }
  }
 },
 "nbformat": 4,
 "nbformat_minor": 5
}
